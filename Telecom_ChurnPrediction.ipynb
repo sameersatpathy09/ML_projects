{
 "cells": [
  {
   "cell_type": "code",
   "execution_count": 1,
   "metadata": {},
   "outputs": [
    {
     "data": {
      "text/html": [
       "        <script type=\"text/javascript\">\n",
       "        window.PlotlyConfig = {MathJaxConfig: 'local'};\n",
       "        if (window.MathJax) {MathJax.Hub.Config({SVG: {font: \"STIX-Web\"}});}\n",
       "        if (typeof require !== 'undefined') {\n",
       "        require.undef(\"plotly\");\n",
       "        requirejs.config({\n",
       "            paths: {\n",
       "                'plotly': ['https://cdn.plot.ly/plotly-latest.min']\n",
       "            }\n",
       "        });\n",
       "        require(['plotly'], function(Plotly) {\n",
       "            window._Plotly = Plotly;\n",
       "        });\n",
       "        }\n",
       "        </script>\n",
       "        "
      ]
     },
     "metadata": {},
     "output_type": "display_data"
    },
    {
     "name": "stderr",
     "output_type": "stream",
     "text": [
      "/Users/sameer/opt/anaconda3/lib/python3.7/site-packages/sklearn/utils/deprecation.py:143: FutureWarning:\n",
      "\n",
      "The sklearn.metrics.scorer module is  deprecated in version 0.22 and will be removed in version 0.24. The corresponding classes / functions should instead be imported from sklearn.metrics. Anything that cannot be imported from sklearn.metrics is now part of the private API.\n",
      "\n"
     ]
    }
   ],
   "source": [
    "import pandas as pd\n",
    "import numpy as np\n",
    "%matplotlib inline\n",
    "import seaborn as sns\n",
    "import matplotlib.pyplot as plt\n",
    "\n",
    "### Importing the decision tree classifier\n",
    "from sklearn.tree import DecisionTreeClassifier,plot_tree\n",
    "\n",
    "## Importing model evaluation metrics \n",
    "from sklearn.metrics import accuracy_score, confusion_matrix\n",
    "from sklearn.metrics import classification_report \n",
    "\n",
    "##### Finding best validation using corss-validation\n",
    "from sklearn.model_selection import GridSearchCV\n",
    "\n",
    "### Importing the decision tree classifier\n",
    "from sklearn.ensemble import RandomForestClassifier\n",
    "\n",
    "from sklearn.naive_bayes import GaussianNB\n",
    "from sklearn import model_selection\n",
    "\n",
    "import itertools\n",
    "\n",
    "import plotly.offline as py#visualization\n",
    "py.init_notebook_mode(connected=True)#visualization\n",
    "import plotly.graph_objs as go#visualization\n",
    "import plotly.tools as tls#visualization\n",
    "import plotly.figure_factory as ff#visualization\n",
    "\n",
    "from sklearn.metrics import roc_auc_score,roc_curve,scorer"
   ]
  },
  {
   "cell_type": "code",
   "execution_count": 107,
   "metadata": {},
   "outputs": [],
   "source": [
    "Churn_data=pd.read_csv(\"telecom_churn.csv\")   "
   ]
  },
  {
   "cell_type": "code",
   "execution_count": 108,
   "metadata": {},
   "outputs": [
    {
     "data": {
      "text/html": [
       "<div>\n",
       "<style scoped>\n",
       "    .dataframe tbody tr th:only-of-type {\n",
       "        vertical-align: middle;\n",
       "    }\n",
       "\n",
       "    .dataframe tbody tr th {\n",
       "        vertical-align: top;\n",
       "    }\n",
       "\n",
       "    .dataframe thead th {\n",
       "        text-align: right;\n",
       "    }\n",
       "</style>\n",
       "<table border=\"1\" class=\"dataframe\">\n",
       "  <thead>\n",
       "    <tr style=\"text-align: right;\">\n",
       "      <th></th>\n",
       "      <th>Churn</th>\n",
       "      <th>AccountWeeks</th>\n",
       "      <th>ContractRenewal</th>\n",
       "      <th>DataPlan</th>\n",
       "      <th>DataUsage</th>\n",
       "      <th>CustServCalls</th>\n",
       "      <th>DayMins</th>\n",
       "      <th>DayCalls</th>\n",
       "      <th>MonthlyCharge</th>\n",
       "      <th>OverageFee</th>\n",
       "      <th>RoamMins</th>\n",
       "      <th>Income</th>\n",
       "    </tr>\n",
       "  </thead>\n",
       "  <tbody>\n",
       "    <tr>\n",
       "      <th>0</th>\n",
       "      <td>0</td>\n",
       "      <td>128</td>\n",
       "      <td>1</td>\n",
       "      <td>1</td>\n",
       "      <td>2.7</td>\n",
       "      <td>1</td>\n",
       "      <td>265.1</td>\n",
       "      <td>110</td>\n",
       "      <td>89.0</td>\n",
       "      <td>9.87</td>\n",
       "      <td>10.0</td>\n",
       "      <td>High</td>\n",
       "    </tr>\n",
       "    <tr>\n",
       "      <th>1</th>\n",
       "      <td>0</td>\n",
       "      <td>107</td>\n",
       "      <td>1</td>\n",
       "      <td>1</td>\n",
       "      <td>3.7</td>\n",
       "      <td>1</td>\n",
       "      <td>161.6</td>\n",
       "      <td>123</td>\n",
       "      <td>82.0</td>\n",
       "      <td>9.78</td>\n",
       "      <td>13.7</td>\n",
       "      <td>Medium</td>\n",
       "    </tr>\n",
       "    <tr>\n",
       "      <th>2</th>\n",
       "      <td>0</td>\n",
       "      <td>137</td>\n",
       "      <td>1</td>\n",
       "      <td>0</td>\n",
       "      <td>0.0</td>\n",
       "      <td>0</td>\n",
       "      <td>243.4</td>\n",
       "      <td>114</td>\n",
       "      <td>52.0</td>\n",
       "      <td>6.06</td>\n",
       "      <td>12.2</td>\n",
       "      <td>Low</td>\n",
       "    </tr>\n",
       "    <tr>\n",
       "      <th>3</th>\n",
       "      <td>0</td>\n",
       "      <td>84</td>\n",
       "      <td>0</td>\n",
       "      <td>0</td>\n",
       "      <td>0.0</td>\n",
       "      <td>2</td>\n",
       "      <td>299.4</td>\n",
       "      <td>71</td>\n",
       "      <td>57.0</td>\n",
       "      <td>3.10</td>\n",
       "      <td>6.6</td>\n",
       "      <td>Low</td>\n",
       "    </tr>\n",
       "    <tr>\n",
       "      <th>4</th>\n",
       "      <td>0</td>\n",
       "      <td>75</td>\n",
       "      <td>0</td>\n",
       "      <td>0</td>\n",
       "      <td>0.0</td>\n",
       "      <td>3</td>\n",
       "      <td>166.7</td>\n",
       "      <td>113</td>\n",
       "      <td>41.0</td>\n",
       "      <td>7.42</td>\n",
       "      <td>10.1</td>\n",
       "      <td>High</td>\n",
       "    </tr>\n",
       "  </tbody>\n",
       "</table>\n",
       "</div>"
      ],
      "text/plain": [
       "   Churn  AccountWeeks  ContractRenewal  DataPlan  DataUsage  CustServCalls  \\\n",
       "0      0           128                1         1        2.7              1   \n",
       "1      0           107                1         1        3.7              1   \n",
       "2      0           137                1         0        0.0              0   \n",
       "3      0            84                0         0        0.0              2   \n",
       "4      0            75                0         0        0.0              3   \n",
       "\n",
       "   DayMins  DayCalls  MonthlyCharge  OverageFee  RoamMins  Income  \n",
       "0    265.1       110           89.0        9.87      10.0    High  \n",
       "1    161.6       123           82.0        9.78      13.7  Medium  \n",
       "2    243.4       114           52.0        6.06      12.2     Low  \n",
       "3    299.4        71           57.0        3.10       6.6     Low  \n",
       "4    166.7       113           41.0        7.42      10.1    High  "
      ]
     },
     "execution_count": 108,
     "metadata": {},
     "output_type": "execute_result"
    }
   ],
   "source": [
    "Churn_data.head()"
   ]
  },
  {
   "cell_type": "code",
   "execution_count": 109,
   "metadata": {},
   "outputs": [
    {
     "data": {
      "text/plain": [
       "0"
      ]
     },
     "execution_count": 109,
     "metadata": {},
     "output_type": "execute_result"
    }
   ],
   "source": [
    "# Check for missing values in the dataset\n",
    "Churn_data.isnull().sum().sum()"
   ]
  },
  {
   "cell_type": "code",
   "execution_count": 111,
   "metadata": {},
   "outputs": [
    {
     "name": "stdout",
     "output_type": "stream",
     "text": [
      "243\n",
      "1\n"
     ]
    }
   ],
   "source": [
    "print(max(Churn_data['AccountWeeks']))\n",
    "print(min(Churn_data['AccountWeeks']))\n",
    "\n",
    "#Grouping Account weeks into groups of 50.. (0-50, 51-100...201-250)\n",
    "\n",
    "#binning account weeks as it makes more sense understanding its impact relative to other columns\n",
    "#EDA to be done\n",
    "\n",
    "bins = [0, 50, 100, 150, 200, 250]\n",
    "labels = ['0-50 week','50-100 week','100-150 week','150-200 week','200-250 week']\n",
    "Churn_data['AccountWeeks_Groups'] = pd.cut(Churn_data['AccountWeeks'], bins=bins, labels=labels)\n",
    "\n"
   ]
  },
  {
   "cell_type": "markdown",
   "metadata": {},
   "source": [
    "# << More EDA to be done>>"
   ]
  },
  {
   "cell_type": "code",
   "execution_count": 112,
   "metadata": {},
   "outputs": [],
   "source": [
    "Churn_data = pd.get_dummies(Churn_data, columns=['Income'])\n",
    "\n"
   ]
  },
  {
   "cell_type": "code",
   "execution_count": 113,
   "metadata": {},
   "outputs": [
    {
     "data": {
      "text/html": [
       "<div>\n",
       "<style scoped>\n",
       "    .dataframe tbody tr th:only-of-type {\n",
       "        vertical-align: middle;\n",
       "    }\n",
       "\n",
       "    .dataframe tbody tr th {\n",
       "        vertical-align: top;\n",
       "    }\n",
       "\n",
       "    .dataframe thead th {\n",
       "        text-align: right;\n",
       "    }\n",
       "</style>\n",
       "<table border=\"1\" class=\"dataframe\">\n",
       "  <thead>\n",
       "    <tr style=\"text-align: right;\">\n",
       "      <th></th>\n",
       "      <th>Churn</th>\n",
       "      <th>AccountWeeks</th>\n",
       "      <th>ContractRenewal</th>\n",
       "      <th>DataPlan</th>\n",
       "      <th>DataUsage</th>\n",
       "      <th>CustServCalls</th>\n",
       "      <th>DayMins</th>\n",
       "      <th>DayCalls</th>\n",
       "      <th>MonthlyCharge</th>\n",
       "      <th>OverageFee</th>\n",
       "      <th>RoamMins</th>\n",
       "      <th>AccountWeeks_Groups</th>\n",
       "      <th>Income_High</th>\n",
       "      <th>Income_Low</th>\n",
       "      <th>Income_Medium</th>\n",
       "    </tr>\n",
       "  </thead>\n",
       "  <tbody>\n",
       "    <tr>\n",
       "      <th>0</th>\n",
       "      <td>0</td>\n",
       "      <td>128</td>\n",
       "      <td>1</td>\n",
       "      <td>1</td>\n",
       "      <td>2.7</td>\n",
       "      <td>1</td>\n",
       "      <td>265.1</td>\n",
       "      <td>110</td>\n",
       "      <td>89.0</td>\n",
       "      <td>9.87</td>\n",
       "      <td>10.0</td>\n",
       "      <td>100-150 week</td>\n",
       "      <td>1</td>\n",
       "      <td>0</td>\n",
       "      <td>0</td>\n",
       "    </tr>\n",
       "    <tr>\n",
       "      <th>1</th>\n",
       "      <td>0</td>\n",
       "      <td>107</td>\n",
       "      <td>1</td>\n",
       "      <td>1</td>\n",
       "      <td>3.7</td>\n",
       "      <td>1</td>\n",
       "      <td>161.6</td>\n",
       "      <td>123</td>\n",
       "      <td>82.0</td>\n",
       "      <td>9.78</td>\n",
       "      <td>13.7</td>\n",
       "      <td>100-150 week</td>\n",
       "      <td>0</td>\n",
       "      <td>0</td>\n",
       "      <td>1</td>\n",
       "    </tr>\n",
       "    <tr>\n",
       "      <th>2</th>\n",
       "      <td>0</td>\n",
       "      <td>137</td>\n",
       "      <td>1</td>\n",
       "      <td>0</td>\n",
       "      <td>0.0</td>\n",
       "      <td>0</td>\n",
       "      <td>243.4</td>\n",
       "      <td>114</td>\n",
       "      <td>52.0</td>\n",
       "      <td>6.06</td>\n",
       "      <td>12.2</td>\n",
       "      <td>100-150 week</td>\n",
       "      <td>0</td>\n",
       "      <td>1</td>\n",
       "      <td>0</td>\n",
       "    </tr>\n",
       "    <tr>\n",
       "      <th>3</th>\n",
       "      <td>0</td>\n",
       "      <td>84</td>\n",
       "      <td>0</td>\n",
       "      <td>0</td>\n",
       "      <td>0.0</td>\n",
       "      <td>2</td>\n",
       "      <td>299.4</td>\n",
       "      <td>71</td>\n",
       "      <td>57.0</td>\n",
       "      <td>3.10</td>\n",
       "      <td>6.6</td>\n",
       "      <td>50-100 week</td>\n",
       "      <td>0</td>\n",
       "      <td>1</td>\n",
       "      <td>0</td>\n",
       "    </tr>\n",
       "    <tr>\n",
       "      <th>4</th>\n",
       "      <td>0</td>\n",
       "      <td>75</td>\n",
       "      <td>0</td>\n",
       "      <td>0</td>\n",
       "      <td>0.0</td>\n",
       "      <td>3</td>\n",
       "      <td>166.7</td>\n",
       "      <td>113</td>\n",
       "      <td>41.0</td>\n",
       "      <td>7.42</td>\n",
       "      <td>10.1</td>\n",
       "      <td>50-100 week</td>\n",
       "      <td>1</td>\n",
       "      <td>0</td>\n",
       "      <td>0</td>\n",
       "    </tr>\n",
       "  </tbody>\n",
       "</table>\n",
       "</div>"
      ],
      "text/plain": [
       "   Churn  AccountWeeks  ContractRenewal  DataPlan  DataUsage  CustServCalls  \\\n",
       "0      0           128                1         1        2.7              1   \n",
       "1      0           107                1         1        3.7              1   \n",
       "2      0           137                1         0        0.0              0   \n",
       "3      0            84                0         0        0.0              2   \n",
       "4      0            75                0         0        0.0              3   \n",
       "\n",
       "   DayMins  DayCalls  MonthlyCharge  OverageFee  RoamMins AccountWeeks_Groups  \\\n",
       "0    265.1       110           89.0        9.87      10.0        100-150 week   \n",
       "1    161.6       123           82.0        9.78      13.7        100-150 week   \n",
       "2    243.4       114           52.0        6.06      12.2        100-150 week   \n",
       "3    299.4        71           57.0        3.10       6.6         50-100 week   \n",
       "4    166.7       113           41.0        7.42      10.1         50-100 week   \n",
       "\n",
       "   Income_High  Income_Low  Income_Medium  \n",
       "0            1           0              0  \n",
       "1            0           0              1  \n",
       "2            0           1              0  \n",
       "3            0           1              0  \n",
       "4            1           0              0  "
      ]
     },
     "execution_count": 113,
     "metadata": {},
     "output_type": "execute_result"
    }
   ],
   "source": [
    "Churn_data.head()"
   ]
  },
  {
   "cell_type": "code",
   "execution_count": 114,
   "metadata": {},
   "outputs": [
    {
     "data": {
      "text/plain": [
       "Text(0.5, 1, 'Correlation Matrix')"
      ]
     },
     "execution_count": 114,
     "metadata": {},
     "output_type": "execute_result"
    },
    {
     "data": {
      "image/png": "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\n",
      "text/plain": [
       "<Figure size 864x576 with 2 Axes>"
      ]
     },
     "metadata": {},
     "output_type": "display_data"
    }
   ],
   "source": [
    "# checking for collinearity\n",
    "# correlation matrix for numerical variables\n",
    "\n",
    "corr_df=Churn_data.corr() \n",
    "\n",
    "sns.set(rc={'figure.figsize':(12,8)})\n",
    "sns.heatmap(corr_df,annot = True,cmap = 'YlGnBu')\n",
    "plt.yticks(rotation = 0)\n",
    "plt.title('Correlation Matrix')"
   ]
  },
  {
   "cell_type": "code",
   "execution_count": 116,
   "metadata": {},
   "outputs": [],
   "source": [
    "# Monthly Charges and Dataplan,DataUsage are correlated. \n",
    "# So we will be removing Dataplan and DataUsage from the model.\n",
    "Churn_data.drop([\"DataPlan\",\"DataUsage\"],axis = 1, inplace = True) "
   ]
  },
  {
   "cell_type": "code",
   "execution_count": 12,
   "metadata": {},
   "outputs": [
    {
     "data": {
      "text/html": [
       "<div>\n",
       "<style scoped>\n",
       "    .dataframe tbody tr th:only-of-type {\n",
       "        vertical-align: middle;\n",
       "    }\n",
       "\n",
       "    .dataframe tbody tr th {\n",
       "        vertical-align: top;\n",
       "    }\n",
       "\n",
       "    .dataframe thead th {\n",
       "        text-align: right;\n",
       "    }\n",
       "</style>\n",
       "<table border=\"1\" class=\"dataframe\">\n",
       "  <thead>\n",
       "    <tr style=\"text-align: right;\">\n",
       "      <th></th>\n",
       "      <th>Churn</th>\n",
       "      <th>AccountWeeks</th>\n",
       "      <th>ContractRenewal</th>\n",
       "      <th>CustServCalls</th>\n",
       "      <th>DayMins</th>\n",
       "      <th>DayCalls</th>\n",
       "      <th>MonthlyCharge</th>\n",
       "      <th>OverageFee</th>\n",
       "      <th>RoamMins</th>\n",
       "      <th>AccountWeeks_Groups</th>\n",
       "      <th>Income_High</th>\n",
       "      <th>Income_Low</th>\n",
       "      <th>Income_Medium</th>\n",
       "    </tr>\n",
       "  </thead>\n",
       "  <tbody>\n",
       "    <tr>\n",
       "      <th>0</th>\n",
       "      <td>0</td>\n",
       "      <td>128</td>\n",
       "      <td>1</td>\n",
       "      <td>1</td>\n",
       "      <td>265.1</td>\n",
       "      <td>110</td>\n",
       "      <td>89.0</td>\n",
       "      <td>9.87</td>\n",
       "      <td>10.0</td>\n",
       "      <td>100-150 week</td>\n",
       "      <td>1</td>\n",
       "      <td>0</td>\n",
       "      <td>0</td>\n",
       "    </tr>\n",
       "    <tr>\n",
       "      <th>1</th>\n",
       "      <td>0</td>\n",
       "      <td>107</td>\n",
       "      <td>1</td>\n",
       "      <td>1</td>\n",
       "      <td>161.6</td>\n",
       "      <td>123</td>\n",
       "      <td>82.0</td>\n",
       "      <td>9.78</td>\n",
       "      <td>13.7</td>\n",
       "      <td>100-150 week</td>\n",
       "      <td>0</td>\n",
       "      <td>0</td>\n",
       "      <td>1</td>\n",
       "    </tr>\n",
       "    <tr>\n",
       "      <th>2</th>\n",
       "      <td>0</td>\n",
       "      <td>137</td>\n",
       "      <td>1</td>\n",
       "      <td>0</td>\n",
       "      <td>243.4</td>\n",
       "      <td>114</td>\n",
       "      <td>52.0</td>\n",
       "      <td>6.06</td>\n",
       "      <td>12.2</td>\n",
       "      <td>100-150 week</td>\n",
       "      <td>0</td>\n",
       "      <td>1</td>\n",
       "      <td>0</td>\n",
       "    </tr>\n",
       "    <tr>\n",
       "      <th>3</th>\n",
       "      <td>0</td>\n",
       "      <td>84</td>\n",
       "      <td>0</td>\n",
       "      <td>2</td>\n",
       "      <td>299.4</td>\n",
       "      <td>71</td>\n",
       "      <td>57.0</td>\n",
       "      <td>3.10</td>\n",
       "      <td>6.6</td>\n",
       "      <td>50-100 week</td>\n",
       "      <td>0</td>\n",
       "      <td>1</td>\n",
       "      <td>0</td>\n",
       "    </tr>\n",
       "    <tr>\n",
       "      <th>4</th>\n",
       "      <td>0</td>\n",
       "      <td>75</td>\n",
       "      <td>0</td>\n",
       "      <td>3</td>\n",
       "      <td>166.7</td>\n",
       "      <td>113</td>\n",
       "      <td>41.0</td>\n",
       "      <td>7.42</td>\n",
       "      <td>10.1</td>\n",
       "      <td>50-100 week</td>\n",
       "      <td>1</td>\n",
       "      <td>0</td>\n",
       "      <td>0</td>\n",
       "    </tr>\n",
       "  </tbody>\n",
       "</table>\n",
       "</div>"
      ],
      "text/plain": [
       "   Churn  AccountWeeks  ContractRenewal  CustServCalls  DayMins  DayCalls  \\\n",
       "0      0           128                1              1    265.1       110   \n",
       "1      0           107                1              1    161.6       123   \n",
       "2      0           137                1              0    243.4       114   \n",
       "3      0            84                0              2    299.4        71   \n",
       "4      0            75                0              3    166.7       113   \n",
       "\n",
       "   MonthlyCharge  OverageFee  RoamMins AccountWeeks_Groups  Income_High  \\\n",
       "0           89.0        9.87      10.0        100-150 week            1   \n",
       "1           82.0        9.78      13.7        100-150 week            0   \n",
       "2           52.0        6.06      12.2        100-150 week            0   \n",
       "3           57.0        3.10       6.6         50-100 week            0   \n",
       "4           41.0        7.42      10.1         50-100 week            1   \n",
       "\n",
       "   Income_Low  Income_Medium  \n",
       "0           0              0  \n",
       "1           0              1  \n",
       "2           1              0  \n",
       "3           1              0  \n",
       "4           0              0  "
      ]
     },
     "execution_count": 12,
     "metadata": {},
     "output_type": "execute_result"
    }
   ],
   "source": [
    "Churn_data.head()"
   ]
  },
  {
   "cell_type": "code",
   "execution_count": 117,
   "metadata": {},
   "outputs": [],
   "source": [
    "#Seggregating Input and output. X is feature matrix , y in response /target vector\n",
    "\n",
    "y=Churn_data['Churn']\n",
    "X=Churn_data[['AccountWeeks', 'ContractRenewal', 'CustServCalls', 'DayMins',\n",
    "       'DayCalls', 'MonthlyCharge', 'OverageFee', 'RoamMins', 'Income_High', 'Income_Low','Income_Medium']]"
   ]
  },
  {
   "cell_type": "code",
   "execution_count": 118,
   "metadata": {},
   "outputs": [
    {
     "name": "stdout",
     "output_type": "stream",
     "text": [
      "(3333, 11)\n",
      "(3333,)\n"
     ]
    }
   ],
   "source": [
    "print(X.shape)\n",
    "print(y.shape)"
   ]
  },
  {
   "cell_type": "code",
   "execution_count": 119,
   "metadata": {},
   "outputs": [],
   "source": [
    "# splitting the data into training and test sets (80:20)\n",
    "\n",
    "from sklearn.model_selection import train_test_split\n",
    "X_train,X_test,y_train,y_test = train_test_split(X,y,test_size=0.2,random_state=42)"
   ]
  },
  {
   "cell_type": "code",
   "execution_count": 120,
   "metadata": {},
   "outputs": [
    {
     "name": "stdout",
     "output_type": "stream",
     "text": [
      "(2666, 11)\n",
      "(667, 11)\n"
     ]
    }
   ],
   "source": [
    "#shape of train and test objects\n",
    "print(X_train.shape)\n",
    "print(X_test.shape)"
   ]
  },
  {
   "cell_type": "code",
   "execution_count": 121,
   "metadata": {},
   "outputs": [
    {
     "name": "stdout",
     "output_type": "stream",
     "text": [
      "(2666,)\n",
      "(667,)\n"
     ]
    }
   ],
   "source": [
    "print(y_train.shape)\n",
    "print(y_test.shape)"
   ]
  },
  {
   "cell_type": "code",
   "execution_count": 122,
   "metadata": {},
   "outputs": [],
   "source": [
    "from sklearn.metrics import confusion_matrix,classification_report,accuracy_score\n",
    "from sklearn.linear_model import LogisticRegression"
   ]
  },
  {
   "cell_type": "code",
   "execution_count": 123,
   "metadata": {},
   "outputs": [],
   "source": [
    "###### 1. Logistic Regression baseline model"
   ]
  },
  {
   "cell_type": "code",
   "execution_count": 124,
   "metadata": {},
   "outputs": [
    {
     "name": "stdout",
     "output_type": "stream",
     "text": [
      "[[554  12]\n",
      " [ 82  19]]\n",
      "              precision    recall  f1-score   support\n",
      "\n",
      "           0       0.87      0.98      0.92       566\n",
      "           1       0.61      0.19      0.29       101\n",
      "\n",
      "    accuracy                           0.86       667\n",
      "   macro avg       0.74      0.58      0.60       667\n",
      "weighted avg       0.83      0.86      0.83       667\n",
      "\n",
      "0.8590704647676162\n"
     ]
    }
   ],
   "source": [
    "## Train the Logistic Regression Model and Predict for test data\n",
    "logit = LogisticRegression(max_iter=2000)\n",
    "logit.fit(X_train, y_train)\n",
    "y_pred = logit.predict(X_test)\n",
    "print(confusion_matrix(y_test, y_pred))\n",
    "print(classification_report(y_test, y_pred))\n",
    "print(accuracy_score(y_test, y_pred))"
   ]
  },
  {
   "cell_type": "code",
   "execution_count": 125,
   "metadata": {},
   "outputs": [],
   "source": [
    "###### 2. Logistic Regression model with SMOTE"
   ]
  },
  {
   "cell_type": "code",
   "execution_count": 126,
   "metadata": {},
   "outputs": [],
   "source": [
    "from imblearn.over_sampling import SMOTE\n",
    "from imblearn.under_sampling import RandomUnderSampler"
   ]
  },
  {
   "cell_type": "code",
   "execution_count": 127,
   "metadata": {},
   "outputs": [
    {
     "data": {
      "text/plain": [
       "0.1672504378283713"
      ]
     },
     "execution_count": 127,
     "metadata": {},
     "output_type": "execute_result"
    }
   ],
   "source": [
    "np.sum(y_train)/(len(y_train)-np.sum(y_train))"
   ]
  },
  {
   "cell_type": "code",
   "execution_count": 128,
   "metadata": {},
   "outputs": [],
   "source": [
    "over=SMOTE(sampling_strategy=0.30,random_state=42)\n",
    "under = RandomUnderSampler(sampling_strategy=0.7,random_state=42)"
   ]
  },
  {
   "cell_type": "code",
   "execution_count": 129,
   "metadata": {},
   "outputs": [],
   "source": [
    "X_res, y_res = over.fit_resample(X_train, y_train)\n",
    "#X_res, y_res = under.fit_resample(X_res, y_res)"
   ]
  },
  {
   "cell_type": "code",
   "execution_count": 130,
   "metadata": {},
   "outputs": [
    {
     "data": {
      "text/plain": [
       "0.2999124343257443"
      ]
     },
     "execution_count": 130,
     "metadata": {},
     "output_type": "execute_result"
    }
   ],
   "source": [
    "np.sum(y_res)/(len(y_res)-np.sum(y_res))"
   ]
  },
  {
   "cell_type": "code",
   "execution_count": 131,
   "metadata": {},
   "outputs": [
    {
     "name": "stdout",
     "output_type": "stream",
     "text": [
      "[[544  22]\n",
      " [ 78  23]]\n",
      "              precision    recall  f1-score   support\n",
      "\n",
      "           0       0.87      0.96      0.92       566\n",
      "           1       0.51      0.23      0.32       101\n",
      "\n",
      "    accuracy                           0.85       667\n",
      "   macro avg       0.69      0.59      0.62       667\n",
      "weighted avg       0.82      0.85      0.82       667\n",
      "\n",
      "0.8500749625187406\n"
     ]
    }
   ],
   "source": [
    "\n",
    "logit_smote = LogisticRegression(C=1.0, class_weight=None, dual=False, fit_intercept=True,\n",
    "          intercept_scaling=1, max_iter=100, multi_class='ovr', n_jobs=1,\n",
    "          penalty='l2', random_state=42, solver='liblinear', tol=0.0001,\n",
    "          verbose=0, warm_start=False)\n",
    "\n",
    "logit_smote.fit(X_res,y_res)\n",
    "y_pred = logit_smote.predict(X_test)\n",
    "print(confusion_matrix(y_test, y_pred))\n",
    "print(classification_report(y_test, y_pred))\n",
    "print(accuracy_score(y_test, y_pred))"
   ]
  },
  {
   "cell_type": "code",
   "execution_count": 132,
   "metadata": {},
   "outputs": [],
   "source": [
    "###### 3. Decision Tree"
   ]
  },
  {
   "cell_type": "code",
   "execution_count": 180,
   "metadata": {},
   "outputs": [
    {
     "name": "stdout",
     "output_type": "stream",
     "text": [
      "(2666, 11)\n",
      "(667, 11)\n"
     ]
    }
   ],
   "source": [
    "#shape of train and test objects\n",
    "print(X_train.shape)\n",
    "print(X_test.shape)"
   ]
  },
  {
   "cell_type": "code",
   "execution_count": 181,
   "metadata": {},
   "outputs": [
    {
     "name": "stdout",
     "output_type": "stream",
     "text": [
      "Model accuracy :  0.9205397301349325\n",
      "[[553  13]\n",
      " [ 40  61]]\n",
      "              precision    recall  f1-score   support\n",
      "\n",
      "           0       0.93      0.98      0.95       566\n",
      "           1       0.82      0.60      0.70       101\n",
      "\n",
      "    accuracy                           0.92       667\n",
      "   macro avg       0.88      0.79      0.83       667\n",
      "weighted avg       0.92      0.92      0.92       667\n",
      "\n",
      "0.9205397301349325\n"
     ]
    },
    {
     "data": {
      "image/svg+xml": [
       "<?xml version=\"1.0\" encoding=\"UTF-8\" standalone=\"no\"?>\n",
       "<!DOCTYPE svg PUBLIC \"-//W3C//DTD SVG 1.1//EN\"\n",
       " \"http://www.w3.org/Graphics/SVG/1.1/DTD/svg11.dtd\">\n",
       "<!-- Generated by graphviz version 2.40.1 (20161225.0304)\n",
       " -->\n",
       "<!-- Title: Tree Pages: 1 -->\n",
       "<svg width=\"2707pt\" height=\"671pt\"\n",
       " viewBox=\"0.00 0.00 2706.50 671.00\" xmlns=\"http://www.w3.org/2000/svg\" xmlns:xlink=\"http://www.w3.org/1999/xlink\">\n",
       "<g id=\"graph0\" class=\"graph\" transform=\"scale(1 1) rotate(0) translate(4 667)\">\n",
       "<title>Tree</title>\n",
       "<polygon fill=\"#ffffff\" stroke=\"transparent\" points=\"-4,4 -4,-667 2702.5,-667 2702.5,4 -4,4\"/>\n",
       "<!-- 0 -->\n",
       "<g id=\"node1\" class=\"node\">\n",
       "<title>0</title>\n",
       "<path fill=\"#e9965a\" stroke=\"#000000\" d=\"M1606,-663C1606,-663 1481,-663 1481,-663 1475,-663 1469,-657 1469,-651 1469,-651 1469,-592 1469,-592 1469,-586 1475,-580 1481,-580 1481,-580 1606,-580 1606,-580 1612,-580 1618,-586 1618,-592 1618,-592 1618,-651 1618,-651 1618,-657 1612,-663 1606,-663\"/>\n",
       "<text text-anchor=\"middle\" x=\"1543.5\" y=\"-647.8\" font-family=\"Helvetica,sans-Serif\" font-size=\"14.00\" fill=\"#000000\">CustServCalls &lt;= 3.5</text>\n",
       "<text text-anchor=\"middle\" x=\"1543.5\" y=\"-632.8\" font-family=\"Helvetica,sans-Serif\" font-size=\"14.00\" fill=\"#000000\">entropy = 0.59</text>\n",
       "<text text-anchor=\"middle\" x=\"1543.5\" y=\"-617.8\" font-family=\"Helvetica,sans-Serif\" font-size=\"14.00\" fill=\"#000000\">samples = 2666</text>\n",
       "<text text-anchor=\"middle\" x=\"1543.5\" y=\"-602.8\" font-family=\"Helvetica,sans-Serif\" font-size=\"14.00\" fill=\"#000000\">value = [2284, 382]</text>\n",
       "<text text-anchor=\"middle\" x=\"1543.5\" y=\"-587.8\" font-family=\"Helvetica,sans-Serif\" font-size=\"14.00\" fill=\"#000000\">class = Not churn</text>\n",
       "</g>\n",
       "<!-- 1 -->\n",
       "<g id=\"node2\" class=\"node\">\n",
       "<title>1</title>\n",
       "<path fill=\"#e89151\" stroke=\"#000000\" d=\"M1361.5,-544C1361.5,-544 1249.5,-544 1249.5,-544 1243.5,-544 1237.5,-538 1237.5,-532 1237.5,-532 1237.5,-473 1237.5,-473 1237.5,-467 1243.5,-461 1249.5,-461 1249.5,-461 1361.5,-461 1361.5,-461 1367.5,-461 1373.5,-467 1373.5,-473 1373.5,-473 1373.5,-532 1373.5,-532 1373.5,-538 1367.5,-544 1361.5,-544\"/>\n",
       "<text text-anchor=\"middle\" x=\"1305.5\" y=\"-528.8\" font-family=\"Helvetica,sans-Serif\" font-size=\"14.00\" fill=\"#000000\">DayMins &lt;= 245.1</text>\n",
       "<text text-anchor=\"middle\" x=\"1305.5\" y=\"-513.8\" font-family=\"Helvetica,sans-Serif\" font-size=\"14.00\" fill=\"#000000\">entropy = 0.5</text>\n",
       "<text text-anchor=\"middle\" x=\"1305.5\" y=\"-498.8\" font-family=\"Helvetica,sans-Serif\" font-size=\"14.00\" fill=\"#000000\">samples = 2449</text>\n",
       "<text text-anchor=\"middle\" x=\"1305.5\" y=\"-483.8\" font-family=\"Helvetica,sans-Serif\" font-size=\"14.00\" fill=\"#000000\">value = [2180, 269]</text>\n",
       "<text text-anchor=\"middle\" x=\"1305.5\" y=\"-468.8\" font-family=\"Helvetica,sans-Serif\" font-size=\"14.00\" fill=\"#000000\">class = Not churn</text>\n",
       "</g>\n",
       "<!-- 0&#45;&gt;1 -->\n",
       "<g id=\"edge1\" class=\"edge\">\n",
       "<title>0&#45;&gt;1</title>\n",
       "<path fill=\"none\" stroke=\"#000000\" d=\"M1468.8483,-584.1742C1441.5357,-570.5179 1410.5859,-555.0429 1383.0277,-541.2638\"/>\n",
       "<polygon fill=\"#000000\" stroke=\"#000000\" points=\"1384.3316,-538.0027 1373.822,-536.661 1381.2011,-544.2637 1384.3316,-538.0027\"/>\n",
       "<text text-anchor=\"middle\" x=\"1381.7277\" y=\"-556.6781\" font-family=\"Helvetica,sans-Serif\" font-size=\"14.00\" fill=\"#000000\">True</text>\n",
       "</g>\n",
       "<!-- 28 -->\n",
       "<g id=\"node29\" class=\"node\">\n",
       "<title>28</title>\n",
       "<path fill=\"#eff7fd\" stroke=\"#000000\" d=\"M1779,-544C1779,-544 1632,-544 1632,-544 1626,-544 1620,-538 1620,-532 1620,-532 1620,-473 1620,-473 1620,-467 1626,-461 1632,-461 1632,-461 1779,-461 1779,-461 1785,-461 1791,-467 1791,-473 1791,-473 1791,-532 1791,-532 1791,-538 1785,-544 1779,-544\"/>\n",
       "<text text-anchor=\"middle\" x=\"1705.5\" y=\"-528.8\" font-family=\"Helvetica,sans-Serif\" font-size=\"14.00\" fill=\"#000000\">MonthlyCharge &lt;= 45.95</text>\n",
       "<text text-anchor=\"middle\" x=\"1705.5\" y=\"-513.8\" font-family=\"Helvetica,sans-Serif\" font-size=\"14.00\" fill=\"#000000\">entropy = 1.0</text>\n",
       "<text text-anchor=\"middle\" x=\"1705.5\" y=\"-498.8\" font-family=\"Helvetica,sans-Serif\" font-size=\"14.00\" fill=\"#000000\">samples = 217</text>\n",
       "<text text-anchor=\"middle\" x=\"1705.5\" y=\"-483.8\" font-family=\"Helvetica,sans-Serif\" font-size=\"14.00\" fill=\"#000000\">value = [104, 113]</text>\n",
       "<text text-anchor=\"middle\" x=\"1705.5\" y=\"-468.8\" font-family=\"Helvetica,sans-Serif\" font-size=\"14.00\" fill=\"#000000\">class = Churn</text>\n",
       "</g>\n",
       "<!-- 0&#45;&gt;28 -->\n",
       "<g id=\"edge28\" class=\"edge\">\n",
       "<title>0&#45;&gt;28</title>\n",
       "<path fill=\"none\" stroke=\"#000000\" d=\"M1600.1597,-579.8796C1613.2316,-570.2774 1627.2359,-559.9903 1640.6273,-550.1534\"/>\n",
       "<polygon fill=\"#000000\" stroke=\"#000000\" points=\"1642.885,-552.8378 1648.8723,-544.0969 1638.7409,-547.1963 1642.885,-552.8378\"/>\n",
       "<text text-anchor=\"middle\" x=\"1645.0907\" y=\"-565.1093\" font-family=\"Helvetica,sans-Serif\" font-size=\"14.00\" fill=\"#000000\">False</text>\n",
       "</g>\n",
       "<!-- 2 -->\n",
       "<g id=\"node3\" class=\"node\">\n",
       "<title>2</title>\n",
       "<path fill=\"#e78a47\" stroke=\"#000000\" d=\"M661,-425C661,-425 518,-425 518,-425 512,-425 506,-419 506,-413 506,-413 506,-354 506,-354 506,-348 512,-342 518,-342 518,-342 661,-342 661,-342 667,-342 673,-348 673,-354 673,-354 673,-413 673,-413 673,-419 667,-425 661,-425\"/>\n",
       "<text text-anchor=\"middle\" x=\"589.5\" y=\"-409.8\" font-family=\"Helvetica,sans-Serif\" font-size=\"14.00\" fill=\"#000000\">ContractRenewal &lt;= 0.5</text>\n",
       "<text text-anchor=\"middle\" x=\"589.5\" y=\"-394.8\" font-family=\"Helvetica,sans-Serif\" font-size=\"14.00\" fill=\"#000000\">entropy = 0.36</text>\n",
       "<text text-anchor=\"middle\" x=\"589.5\" y=\"-379.8\" font-family=\"Helvetica,sans-Serif\" font-size=\"14.00\" fill=\"#000000\">samples = 2175</text>\n",
       "<text text-anchor=\"middle\" x=\"589.5\" y=\"-364.8\" font-family=\"Helvetica,sans-Serif\" font-size=\"14.00\" fill=\"#000000\">value = [2028, 147]</text>\n",
       "<text text-anchor=\"middle\" x=\"589.5\" y=\"-349.8\" font-family=\"Helvetica,sans-Serif\" font-size=\"14.00\" fill=\"#000000\">class = Not churn</text>\n",
       "</g>\n",
       "<!-- 1&#45;&gt;2 -->\n",
       "<g id=\"edge2\" class=\"edge\">\n",
       "<title>1&#45;&gt;2</title>\n",
       "<path fill=\"none\" stroke=\"#000000\" d=\"M1237.495,-491.1975C1108.7648,-469.8024 829.3052,-423.3559 683.0301,-399.0448\"/>\n",
       "<polygon fill=\"#000000\" stroke=\"#000000\" points=\"683.6002,-395.5916 673.1616,-397.4047 682.4524,-402.4969 683.6002,-395.5916\"/>\n",
       "</g>\n",
       "<!-- 15 -->\n",
       "<g id=\"node16\" class=\"node\">\n",
       "<title>15</title>\n",
       "<path fill=\"#fae6d8\" stroke=\"#000000\" d=\"M1379,-425C1379,-425 1232,-425 1232,-425 1226,-425 1220,-419 1220,-413 1220,-413 1220,-354 1220,-354 1220,-348 1226,-342 1232,-342 1232,-342 1379,-342 1379,-342 1385,-342 1391,-348 1391,-354 1391,-354 1391,-413 1391,-413 1391,-419 1385,-425 1379,-425\"/>\n",
       "<text text-anchor=\"middle\" x=\"1305.5\" y=\"-409.8\" font-family=\"Helvetica,sans-Serif\" font-size=\"14.00\" fill=\"#000000\">MonthlyCharge &lt;= 79.45</text>\n",
       "<text text-anchor=\"middle\" x=\"1305.5\" y=\"-394.8\" font-family=\"Helvetica,sans-Serif\" font-size=\"14.00\" fill=\"#000000\">entropy = 0.99</text>\n",
       "<text text-anchor=\"middle\" x=\"1305.5\" y=\"-379.8\" font-family=\"Helvetica,sans-Serif\" font-size=\"14.00\" fill=\"#000000\">samples = 274</text>\n",
       "<text text-anchor=\"middle\" x=\"1305.5\" y=\"-364.8\" font-family=\"Helvetica,sans-Serif\" font-size=\"14.00\" fill=\"#000000\">value = [152, 122]</text>\n",
       "<text text-anchor=\"middle\" x=\"1305.5\" y=\"-349.8\" font-family=\"Helvetica,sans-Serif\" font-size=\"14.00\" fill=\"#000000\">class = Not churn</text>\n",
       "</g>\n",
       "<!-- 1&#45;&gt;15 -->\n",
       "<g id=\"edge15\" class=\"edge\">\n",
       "<title>1&#45;&gt;15</title>\n",
       "<path fill=\"none\" stroke=\"#000000\" d=\"M1305.5,-460.8796C1305.5,-452.6838 1305.5,-443.9891 1305.5,-435.5013\"/>\n",
       "<polygon fill=\"#000000\" stroke=\"#000000\" points=\"1309.0001,-435.298 1305.5,-425.2981 1302.0001,-435.2981 1309.0001,-435.298\"/>\n",
       "</g>\n",
       "<!-- 3 -->\n",
       "<g id=\"node4\" class=\"node\">\n",
       "<title>3</title>\n",
       "<path fill=\"#f5ccaf\" stroke=\"#000000\" d=\"M408,-306C408,-306 297,-306 297,-306 291,-306 285,-300 285,-294 285,-294 285,-235 285,-235 285,-229 291,-223 297,-223 297,-223 408,-223 408,-223 414,-223 420,-229 420,-235 420,-235 420,-294 420,-294 420,-300 414,-306 408,-306\"/>\n",
       "<text text-anchor=\"middle\" x=\"352.5\" y=\"-290.8\" font-family=\"Helvetica,sans-Serif\" font-size=\"14.00\" fill=\"#000000\">RoamMins &lt;= 13.1</text>\n",
       "<text text-anchor=\"middle\" x=\"352.5\" y=\"-275.8\" font-family=\"Helvetica,sans-Serif\" font-size=\"14.00\" fill=\"#000000\">entropy = 0.95</text>\n",
       "<text text-anchor=\"middle\" x=\"352.5\" y=\"-260.8\" font-family=\"Helvetica,sans-Serif\" font-size=\"14.00\" fill=\"#000000\">samples = 190</text>\n",
       "<text text-anchor=\"middle\" x=\"352.5\" y=\"-245.8\" font-family=\"Helvetica,sans-Serif\" font-size=\"14.00\" fill=\"#000000\">value = [119, 71]</text>\n",
       "<text text-anchor=\"middle\" x=\"352.5\" y=\"-230.8\" font-family=\"Helvetica,sans-Serif\" font-size=\"14.00\" fill=\"#000000\">class = Not churn</text>\n",
       "</g>\n",
       "<!-- 2&#45;&gt;3 -->\n",
       "<g id=\"edge3\" class=\"edge\">\n",
       "<title>2&#45;&gt;3</title>\n",
       "<path fill=\"none\" stroke=\"#000000\" d=\"M506.6089,-341.8796C481.4054,-329.2247 453.8327,-315.3802 429.0658,-302.9444\"/>\n",
       "<polygon fill=\"#000000\" stroke=\"#000000\" points=\"430.585,-299.7908 420.0777,-298.4314 427.4439,-306.0465 430.585,-299.7908\"/>\n",
       "</g>\n",
       "<!-- 8 -->\n",
       "<g id=\"node9\" class=\"node\">\n",
       "<title>8</title>\n",
       "<path fill=\"#e68641\" stroke=\"#000000\" d=\"M646.5,-306C646.5,-306 532.5,-306 532.5,-306 526.5,-306 520.5,-300 520.5,-294 520.5,-294 520.5,-235 520.5,-235 520.5,-229 526.5,-223 532.5,-223 532.5,-223 646.5,-223 646.5,-223 652.5,-223 658.5,-229 658.5,-235 658.5,-235 658.5,-294 658.5,-294 658.5,-300 652.5,-306 646.5,-306\"/>\n",
       "<text text-anchor=\"middle\" x=\"589.5\" y=\"-290.8\" font-family=\"Helvetica,sans-Serif\" font-size=\"14.00\" fill=\"#000000\">DayMins &lt;= 223.25</text>\n",
       "<text text-anchor=\"middle\" x=\"589.5\" y=\"-275.8\" font-family=\"Helvetica,sans-Serif\" font-size=\"14.00\" fill=\"#000000\">entropy = 0.23</text>\n",
       "<text text-anchor=\"middle\" x=\"589.5\" y=\"-260.8\" font-family=\"Helvetica,sans-Serif\" font-size=\"14.00\" fill=\"#000000\">samples = 1985</text>\n",
       "<text text-anchor=\"middle\" x=\"589.5\" y=\"-245.8\" font-family=\"Helvetica,sans-Serif\" font-size=\"14.00\" fill=\"#000000\">value = [1909, 76]</text>\n",
       "<text text-anchor=\"middle\" x=\"589.5\" y=\"-230.8\" font-family=\"Helvetica,sans-Serif\" font-size=\"14.00\" fill=\"#000000\">class = Not churn</text>\n",
       "</g>\n",
       "<!-- 2&#45;&gt;8 -->\n",
       "<g id=\"edge8\" class=\"edge\">\n",
       "<title>2&#45;&gt;8</title>\n",
       "<path fill=\"none\" stroke=\"#000000\" d=\"M589.5,-341.8796C589.5,-333.6838 589.5,-324.9891 589.5,-316.5013\"/>\n",
       "<polygon fill=\"#000000\" stroke=\"#000000\" points=\"593.0001,-316.298 589.5,-306.2981 586.0001,-316.2981 593.0001,-316.298\"/>\n",
       "</g>\n",
       "<!-- 4 -->\n",
       "<g id=\"node5\" class=\"node\">\n",
       "<title>4</title>\n",
       "<path fill=\"#eda673\" stroke=\"#000000\" d=\"M270,-187C270,-187 133,-187 133,-187 127,-187 121,-181 121,-175 121,-175 121,-116 121,-116 121,-110 127,-104 133,-104 133,-104 270,-104 270,-104 276,-104 282,-110 282,-116 282,-116 282,-175 282,-175 282,-181 276,-187 270,-187\"/>\n",
       "<text text-anchor=\"middle\" x=\"201.5\" y=\"-171.8\" font-family=\"Helvetica,sans-Serif\" font-size=\"14.00\" fill=\"#000000\">AccountWeeks &lt;= 91.5</text>\n",
       "<text text-anchor=\"middle\" x=\"201.5\" y=\"-156.8\" font-family=\"Helvetica,sans-Serif\" font-size=\"14.00\" fill=\"#000000\">entropy = 0.77</text>\n",
       "<text text-anchor=\"middle\" x=\"201.5\" y=\"-141.8\" font-family=\"Helvetica,sans-Serif\" font-size=\"14.00\" fill=\"#000000\">samples = 154</text>\n",
       "<text text-anchor=\"middle\" x=\"201.5\" y=\"-126.8\" font-family=\"Helvetica,sans-Serif\" font-size=\"14.00\" fill=\"#000000\">value = [119, 35]</text>\n",
       "<text text-anchor=\"middle\" x=\"201.5\" y=\"-111.8\" font-family=\"Helvetica,sans-Serif\" font-size=\"14.00\" fill=\"#000000\">class = Not churn</text>\n",
       "</g>\n",
       "<!-- 3&#45;&gt;4 -->\n",
       "<g id=\"edge4\" class=\"edge\">\n",
       "<title>3&#45;&gt;4</title>\n",
       "<path fill=\"none\" stroke=\"#000000\" d=\"M299.6875,-222.8796C287.6182,-213.368 274.6961,-203.1843 262.3212,-193.432\"/>\n",
       "<polygon fill=\"#000000\" stroke=\"#000000\" points=\"264.3032,-190.5377 254.2827,-187.0969 259.9704,-196.0356 264.3032,-190.5377\"/>\n",
       "</g>\n",
       "<!-- 7 -->\n",
       "<g id=\"node8\" class=\"node\">\n",
       "<title>7</title>\n",
       "<path fill=\"#399de5\" stroke=\"#000000\" d=\"M393,-179.5C393,-179.5 312,-179.5 312,-179.5 306,-179.5 300,-173.5 300,-167.5 300,-167.5 300,-123.5 300,-123.5 300,-117.5 306,-111.5 312,-111.5 312,-111.5 393,-111.5 393,-111.5 399,-111.5 405,-117.5 405,-123.5 405,-123.5 405,-167.5 405,-167.5 405,-173.5 399,-179.5 393,-179.5\"/>\n",
       "<text text-anchor=\"middle\" x=\"352.5\" y=\"-164.3\" font-family=\"Helvetica,sans-Serif\" font-size=\"14.00\" fill=\"#000000\">entropy = 0.0</text>\n",
       "<text text-anchor=\"middle\" x=\"352.5\" y=\"-149.3\" font-family=\"Helvetica,sans-Serif\" font-size=\"14.00\" fill=\"#000000\">samples = 36</text>\n",
       "<text text-anchor=\"middle\" x=\"352.5\" y=\"-134.3\" font-family=\"Helvetica,sans-Serif\" font-size=\"14.00\" fill=\"#000000\">value = [0, 36]</text>\n",
       "<text text-anchor=\"middle\" x=\"352.5\" y=\"-119.3\" font-family=\"Helvetica,sans-Serif\" font-size=\"14.00\" fill=\"#000000\">class = Churn</text>\n",
       "</g>\n",
       "<!-- 3&#45;&gt;7 -->\n",
       "<g id=\"edge7\" class=\"edge\">\n",
       "<title>3&#45;&gt;7</title>\n",
       "<path fill=\"none\" stroke=\"#000000\" d=\"M352.5,-222.8796C352.5,-212.2134 352.5,-200.7021 352.5,-189.9015\"/>\n",
       "<polygon fill=\"#000000\" stroke=\"#000000\" points=\"356.0001,-189.8149 352.5,-179.8149 349.0001,-189.815 356.0001,-189.8149\"/>\n",
       "</g>\n",
       "<!-- 5 -->\n",
       "<g id=\"node6\" class=\"node\">\n",
       "<title>5</title>\n",
       "<path fill=\"#e89051\" stroke=\"#000000\" d=\"M113,-68C113,-68 12,-68 12,-68 6,-68 0,-62 0,-56 0,-56 0,-12 0,-12 0,-6 6,0 12,0 12,0 113,0 113,0 119,0 125,-6 125,-12 125,-12 125,-56 125,-56 125,-62 119,-68 113,-68\"/>\n",
       "<text text-anchor=\"middle\" x=\"62.5\" y=\"-52.8\" font-family=\"Helvetica,sans-Serif\" font-size=\"14.00\" fill=\"#000000\">entropy = 0.49</text>\n",
       "<text text-anchor=\"middle\" x=\"62.5\" y=\"-37.8\" font-family=\"Helvetica,sans-Serif\" font-size=\"14.00\" fill=\"#000000\">samples = 56</text>\n",
       "<text text-anchor=\"middle\" x=\"62.5\" y=\"-22.8\" font-family=\"Helvetica,sans-Serif\" font-size=\"14.00\" fill=\"#000000\">value = [50, 6]</text>\n",
       "<text text-anchor=\"middle\" x=\"62.5\" y=\"-7.8\" font-family=\"Helvetica,sans-Serif\" font-size=\"14.00\" fill=\"#000000\">class = Not churn</text>\n",
       "</g>\n",
       "<!-- 4&#45;&gt;5 -->\n",
       "<g id=\"edge5\" class=\"edge\">\n",
       "<title>4&#45;&gt;5</title>\n",
       "<path fill=\"none\" stroke=\"#000000\" d=\"M149.7415,-103.9815C137.8258,-94.4232 125.1644,-84.2668 113.2903,-74.7419\"/>\n",
       "<polygon fill=\"#000000\" stroke=\"#000000\" points=\"115.2049,-71.7907 105.2144,-68.2637 110.8248,-77.2511 115.2049,-71.7907\"/>\n",
       "</g>\n",
       "<!-- 6 -->\n",
       "<g id=\"node7\" class=\"node\">\n",
       "<title>6</title>\n",
       "<path fill=\"#f0b68c\" stroke=\"#000000\" d=\"M256,-68C256,-68 155,-68 155,-68 149,-68 143,-62 143,-56 143,-56 143,-12 143,-12 143,-6 149,0 155,0 155,0 256,0 256,0 262,0 268,-6 268,-12 268,-12 268,-56 268,-56 268,-62 262,-68 256,-68\"/>\n",
       "<text text-anchor=\"middle\" x=\"205.5\" y=\"-52.8\" font-family=\"Helvetica,sans-Serif\" font-size=\"14.00\" fill=\"#000000\">entropy = 0.88</text>\n",
       "<text text-anchor=\"middle\" x=\"205.5\" y=\"-37.8\" font-family=\"Helvetica,sans-Serif\" font-size=\"14.00\" fill=\"#000000\">samples = 98</text>\n",
       "<text text-anchor=\"middle\" x=\"205.5\" y=\"-22.8\" font-family=\"Helvetica,sans-Serif\" font-size=\"14.00\" fill=\"#000000\">value = [69, 29]</text>\n",
       "<text text-anchor=\"middle\" x=\"205.5\" y=\"-7.8\" font-family=\"Helvetica,sans-Serif\" font-size=\"14.00\" fill=\"#000000\">class = Not churn</text>\n",
       "</g>\n",
       "<!-- 4&#45;&gt;6 -->\n",
       "<g id=\"edge6\" class=\"edge\">\n",
       "<title>4&#45;&gt;6</title>\n",
       "<path fill=\"none\" stroke=\"#000000\" d=\"M202.9895,-103.9815C203.2895,-95.618 203.606,-86.7965 203.9093,-78.3409\"/>\n",
       "<polygon fill=\"#000000\" stroke=\"#000000\" points=\"207.41,-78.3828 204.2708,-68.2637 200.4145,-78.1317 207.41,-78.3828\"/>\n",
       "</g>\n",
       "<!-- 9 -->\n",
       "<g id=\"node10\" class=\"node\">\n",
       "<title>9</title>\n",
       "<path fill=\"#e6843e\" stroke=\"#000000\" d=\"M564,-187C564,-187 435,-187 435,-187 429,-187 423,-181 423,-175 423,-175 423,-116 423,-116 423,-110 429,-104 435,-104 435,-104 564,-104 564,-104 570,-104 576,-110 576,-116 576,-116 576,-175 576,-175 576,-181 570,-187 564,-187\"/>\n",
       "<text text-anchor=\"middle\" x=\"499.5\" y=\"-171.8\" font-family=\"Helvetica,sans-Serif\" font-size=\"14.00\" fill=\"#000000\">OverageFee &lt;= 17.06</text>\n",
       "<text text-anchor=\"middle\" x=\"499.5\" y=\"-156.8\" font-family=\"Helvetica,sans-Serif\" font-size=\"14.00\" fill=\"#000000\">entropy = 0.18</text>\n",
       "<text text-anchor=\"middle\" x=\"499.5\" y=\"-141.8\" font-family=\"Helvetica,sans-Serif\" font-size=\"14.00\" fill=\"#000000\">samples = 1783</text>\n",
       "<text text-anchor=\"middle\" x=\"499.5\" y=\"-126.8\" font-family=\"Helvetica,sans-Serif\" font-size=\"14.00\" fill=\"#000000\">value = [1736, 47]</text>\n",
       "<text text-anchor=\"middle\" x=\"499.5\" y=\"-111.8\" font-family=\"Helvetica,sans-Serif\" font-size=\"14.00\" fill=\"#000000\">class = Not churn</text>\n",
       "</g>\n",
       "<!-- 8&#45;&gt;9 -->\n",
       "<g id=\"edge9\" class=\"edge\">\n",
       "<title>8&#45;&gt;9</title>\n",
       "<path fill=\"none\" stroke=\"#000000\" d=\"M558.0224,-222.8796C551.3471,-214.0534 544.2342,-204.6485 537.3504,-195.5466\"/>\n",
       "<polygon fill=\"#000000\" stroke=\"#000000\" points=\"539.9357,-193.1626 531.112,-187.2981 534.3526,-197.3852 539.9357,-193.1626\"/>\n",
       "</g>\n",
       "<!-- 12 -->\n",
       "<g id=\"node13\" class=\"node\">\n",
       "<title>12</title>\n",
       "<path fill=\"#e9965a\" stroke=\"#000000\" d=\"M735,-187C735,-187 606,-187 606,-187 600,-187 594,-181 594,-175 594,-175 594,-116 594,-116 594,-110 600,-104 606,-104 606,-104 735,-104 735,-104 741,-104 747,-110 747,-116 747,-116 747,-175 747,-175 747,-181 741,-187 735,-187\"/>\n",
       "<text text-anchor=\"middle\" x=\"670.5\" y=\"-171.8\" font-family=\"Helvetica,sans-Serif\" font-size=\"14.00\" fill=\"#000000\">OverageFee &lt;= 13.45</text>\n",
       "<text text-anchor=\"middle\" x=\"670.5\" y=\"-156.8\" font-family=\"Helvetica,sans-Serif\" font-size=\"14.00\" fill=\"#000000\">entropy = 0.59</text>\n",
       "<text text-anchor=\"middle\" x=\"670.5\" y=\"-141.8\" font-family=\"Helvetica,sans-Serif\" font-size=\"14.00\" fill=\"#000000\">samples = 202</text>\n",
       "<text text-anchor=\"middle\" x=\"670.5\" y=\"-126.8\" font-family=\"Helvetica,sans-Serif\" font-size=\"14.00\" fill=\"#000000\">value = [173, 29]</text>\n",
       "<text text-anchor=\"middle\" x=\"670.5\" y=\"-111.8\" font-family=\"Helvetica,sans-Serif\" font-size=\"14.00\" fill=\"#000000\">class = Not churn</text>\n",
       "</g>\n",
       "<!-- 8&#45;&gt;12 -->\n",
       "<g id=\"edge12\" class=\"edge\">\n",
       "<title>8&#45;&gt;12</title>\n",
       "<path fill=\"none\" stroke=\"#000000\" d=\"M617.8299,-222.8796C623.7763,-214.1434 630.1086,-204.8404 636.245,-195.8253\"/>\n",
       "<polygon fill=\"#000000\" stroke=\"#000000\" points=\"639.3156,-197.5342 642.0492,-187.2981 633.5289,-193.5953 639.3156,-197.5342\"/>\n",
       "</g>\n",
       "<!-- 10 -->\n",
       "<g id=\"node11\" class=\"node\">\n",
       "<title>10</title>\n",
       "<path fill=\"#e6843e\" stroke=\"#000000\" d=\"M406.5,-68C406.5,-68 302.5,-68 302.5,-68 296.5,-68 290.5,-62 290.5,-56 290.5,-56 290.5,-12 290.5,-12 290.5,-6 296.5,0 302.5,0 302.5,0 406.5,0 406.5,0 412.5,0 418.5,-6 418.5,-12 418.5,-12 418.5,-56 418.5,-56 418.5,-62 412.5,-68 406.5,-68\"/>\n",
       "<text text-anchor=\"middle\" x=\"354.5\" y=\"-52.8\" font-family=\"Helvetica,sans-Serif\" font-size=\"14.00\" fill=\"#000000\">entropy = 0.17</text>\n",
       "<text text-anchor=\"middle\" x=\"354.5\" y=\"-37.8\" font-family=\"Helvetica,sans-Serif\" font-size=\"14.00\" fill=\"#000000\">samples = 1777</text>\n",
       "<text text-anchor=\"middle\" x=\"354.5\" y=\"-22.8\" font-family=\"Helvetica,sans-Serif\" font-size=\"14.00\" fill=\"#000000\">value = [1732, 45]</text>\n",
       "<text text-anchor=\"middle\" x=\"354.5\" y=\"-7.8\" font-family=\"Helvetica,sans-Serif\" font-size=\"14.00\" fill=\"#000000\">class = Not churn</text>\n",
       "</g>\n",
       "<!-- 9&#45;&gt;10 -->\n",
       "<g id=\"edge10\" class=\"edge\">\n",
       "<title>9&#45;&gt;10</title>\n",
       "<path fill=\"none\" stroke=\"#000000\" d=\"M445.5074,-103.9815C432.9578,-94.3313 419.6153,-84.0714 407.1256,-74.4673\"/>\n",
       "<polygon fill=\"#000000\" stroke=\"#000000\" points=\"409.119,-71.585 399.0581,-68.2637 404.8519,-77.134 409.119,-71.585\"/>\n",
       "</g>\n",
       "<!-- 11 -->\n",
       "<g id=\"node12\" class=\"node\">\n",
       "<title>11</title>\n",
       "<path fill=\"#f2c09c\" stroke=\"#000000\" d=\"M550,-68C550,-68 449,-68 449,-68 443,-68 437,-62 437,-56 437,-56 437,-12 437,-12 437,-6 443,0 449,0 449,0 550,0 550,0 556,0 562,-6 562,-12 562,-12 562,-56 562,-56 562,-62 556,-68 550,-68\"/>\n",
       "<text text-anchor=\"middle\" x=\"499.5\" y=\"-52.8\" font-family=\"Helvetica,sans-Serif\" font-size=\"14.00\" fill=\"#000000\">entropy = 0.92</text>\n",
       "<text text-anchor=\"middle\" x=\"499.5\" y=\"-37.8\" font-family=\"Helvetica,sans-Serif\" font-size=\"14.00\" fill=\"#000000\">samples = 6</text>\n",
       "<text text-anchor=\"middle\" x=\"499.5\" y=\"-22.8\" font-family=\"Helvetica,sans-Serif\" font-size=\"14.00\" fill=\"#000000\">value = [4, 2]</text>\n",
       "<text text-anchor=\"middle\" x=\"499.5\" y=\"-7.8\" font-family=\"Helvetica,sans-Serif\" font-size=\"14.00\" fill=\"#000000\">class = Not churn</text>\n",
       "</g>\n",
       "<!-- 9&#45;&gt;11 -->\n",
       "<g id=\"edge11\" class=\"edge\">\n",
       "<title>9&#45;&gt;11</title>\n",
       "<path fill=\"none\" stroke=\"#000000\" d=\"M499.5,-103.9815C499.5,-95.618 499.5,-86.7965 499.5,-78.3409\"/>\n",
       "<polygon fill=\"#000000\" stroke=\"#000000\" points=\"503.0001,-78.2636 499.5,-68.2637 496.0001,-78.2637 503.0001,-78.2636\"/>\n",
       "</g>\n",
       "<!-- 13 -->\n",
       "<g id=\"node14\" class=\"node\">\n",
       "<title>13</title>\n",
       "<path fill=\"#e78a47\" stroke=\"#000000\" d=\"M693,-68C693,-68 592,-68 592,-68 586,-68 580,-62 580,-56 580,-56 580,-12 580,-12 580,-6 586,0 592,0 592,0 693,0 693,0 699,0 705,-6 705,-12 705,-12 705,-56 705,-56 705,-62 699,-68 693,-68\"/>\n",
       "<text text-anchor=\"middle\" x=\"642.5\" y=\"-52.8\" font-family=\"Helvetica,sans-Serif\" font-size=\"14.00\" fill=\"#000000\">entropy = 0.35</text>\n",
       "<text text-anchor=\"middle\" x=\"642.5\" y=\"-37.8\" font-family=\"Helvetica,sans-Serif\" font-size=\"14.00\" fill=\"#000000\">samples = 180</text>\n",
       "<text text-anchor=\"middle\" x=\"642.5\" y=\"-22.8\" font-family=\"Helvetica,sans-Serif\" font-size=\"14.00\" fill=\"#000000\">value = [168, 12]</text>\n",
       "<text text-anchor=\"middle\" x=\"642.5\" y=\"-7.8\" font-family=\"Helvetica,sans-Serif\" font-size=\"14.00\" fill=\"#000000\">class = Not churn</text>\n",
       "</g>\n",
       "<!-- 12&#45;&gt;13 -->\n",
       "<g id=\"edge13\" class=\"edge\">\n",
       "<title>12&#45;&gt;13</title>\n",
       "<path fill=\"none\" stroke=\"#000000\" d=\"M660.0738,-103.9815C657.9505,-95.5261 655.7096,-86.6026 653.565,-78.0623\"/>\n",
       "<polygon fill=\"#000000\" stroke=\"#000000\" points=\"656.9346,-77.1101 651.1043,-68.2637 650.1454,-78.815 656.9346,-77.1101\"/>\n",
       "</g>\n",
       "<!-- 14 -->\n",
       "<g id=\"node15\" class=\"node\">\n",
       "<title>14</title>\n",
       "<path fill=\"#73baed\" stroke=\"#000000\" d=\"M817.5,-68C817.5,-68 735.5,-68 735.5,-68 729.5,-68 723.5,-62 723.5,-56 723.5,-56 723.5,-12 723.5,-12 723.5,-6 729.5,0 735.5,0 735.5,0 817.5,0 817.5,0 823.5,0 829.5,-6 829.5,-12 829.5,-12 829.5,-56 829.5,-56 829.5,-62 823.5,-68 817.5,-68\"/>\n",
       "<text text-anchor=\"middle\" x=\"776.5\" y=\"-52.8\" font-family=\"Helvetica,sans-Serif\" font-size=\"14.00\" fill=\"#000000\">entropy = 0.77</text>\n",
       "<text text-anchor=\"middle\" x=\"776.5\" y=\"-37.8\" font-family=\"Helvetica,sans-Serif\" font-size=\"14.00\" fill=\"#000000\">samples = 22</text>\n",
       "<text text-anchor=\"middle\" x=\"776.5\" y=\"-22.8\" font-family=\"Helvetica,sans-Serif\" font-size=\"14.00\" fill=\"#000000\">value = [5, 17]</text>\n",
       "<text text-anchor=\"middle\" x=\"776.5\" y=\"-7.8\" font-family=\"Helvetica,sans-Serif\" font-size=\"14.00\" fill=\"#000000\">class = Churn</text>\n",
       "</g>\n",
       "<!-- 12&#45;&gt;14 -->\n",
       "<g id=\"edge14\" class=\"edge\">\n",
       "<title>12&#45;&gt;14</title>\n",
       "<path fill=\"none\" stroke=\"#000000\" d=\"M709.9705,-103.9815C718.7952,-94.6989 728.1562,-84.8522 736.9827,-75.5677\"/>\n",
       "<polygon fill=\"#000000\" stroke=\"#000000\" points=\"739.573,-77.9228 743.9265,-68.2637 734.4997,-73.0997 739.573,-77.9228\"/>\n",
       "</g>\n",
       "<!-- 16 -->\n",
       "<g id=\"node17\" class=\"node\">\n",
       "<title>16</title>\n",
       "<path fill=\"#dbedfa\" stroke=\"#000000\" d=\"M1289,-306C1289,-306 1142,-306 1142,-306 1136,-306 1130,-300 1130,-294 1130,-294 1130,-235 1130,-235 1130,-229 1136,-223 1142,-223 1142,-223 1289,-223 1289,-223 1295,-223 1301,-229 1301,-235 1301,-235 1301,-294 1301,-294 1301,-300 1295,-306 1289,-306\"/>\n",
       "<text text-anchor=\"middle\" x=\"1215.5\" y=\"-290.8\" font-family=\"Helvetica,sans-Serif\" font-size=\"14.00\" fill=\"#000000\">MonthlyCharge &lt;= 62.05</text>\n",
       "<text text-anchor=\"middle\" x=\"1215.5\" y=\"-275.8\" font-family=\"Helvetica,sans-Serif\" font-size=\"14.00\" fill=\"#000000\">entropy = 0.99</text>\n",
       "<text text-anchor=\"middle\" x=\"1215.5\" y=\"-260.8\" font-family=\"Helvetica,sans-Serif\" font-size=\"14.00\" fill=\"#000000\">samples = 211</text>\n",
       "<text text-anchor=\"middle\" x=\"1215.5\" y=\"-245.8\" font-family=\"Helvetica,sans-Serif\" font-size=\"14.00\" fill=\"#000000\">value = [95, 116]</text>\n",
       "<text text-anchor=\"middle\" x=\"1215.5\" y=\"-230.8\" font-family=\"Helvetica,sans-Serif\" font-size=\"14.00\" fill=\"#000000\">class = Churn</text>\n",
       "</g>\n",
       "<!-- 15&#45;&gt;16 -->\n",
       "<g id=\"edge16\" class=\"edge\">\n",
       "<title>15&#45;&gt;16</title>\n",
       "<path fill=\"none\" stroke=\"#000000\" d=\"M1274.0224,-341.8796C1267.3471,-333.0534 1260.2342,-323.6485 1253.3504,-314.5466\"/>\n",
       "<polygon fill=\"#000000\" stroke=\"#000000\" points=\"1255.9357,-312.1626 1247.112,-306.2981 1250.3526,-316.3852 1255.9357,-312.1626\"/>\n",
       "</g>\n",
       "<!-- 23 -->\n",
       "<g id=\"node24\" class=\"node\">\n",
       "<title>23</title>\n",
       "<path fill=\"#e88e4e\" stroke=\"#000000\" d=\"M1486,-306C1486,-306 1343,-306 1343,-306 1337,-306 1331,-300 1331,-294 1331,-294 1331,-235 1331,-235 1331,-229 1337,-223 1343,-223 1343,-223 1486,-223 1486,-223 1492,-223 1498,-229 1498,-235 1498,-235 1498,-294 1498,-294 1498,-300 1492,-306 1486,-306\"/>\n",
       "<text text-anchor=\"middle\" x=\"1414.5\" y=\"-290.8\" font-family=\"Helvetica,sans-Serif\" font-size=\"14.00\" fill=\"#000000\">ContractRenewal &lt;= 0.5</text>\n",
       "<text text-anchor=\"middle\" x=\"1414.5\" y=\"-275.8\" font-family=\"Helvetica,sans-Serif\" font-size=\"14.00\" fill=\"#000000\">entropy = 0.45</text>\n",
       "<text text-anchor=\"middle\" x=\"1414.5\" y=\"-260.8\" font-family=\"Helvetica,sans-Serif\" font-size=\"14.00\" fill=\"#000000\">samples = 63</text>\n",
       "<text text-anchor=\"middle\" x=\"1414.5\" y=\"-245.8\" font-family=\"Helvetica,sans-Serif\" font-size=\"14.00\" fill=\"#000000\">value = [57, 6]</text>\n",
       "<text text-anchor=\"middle\" x=\"1414.5\" y=\"-230.8\" font-family=\"Helvetica,sans-Serif\" font-size=\"14.00\" fill=\"#000000\">class = Not churn</text>\n",
       "</g>\n",
       "<!-- 15&#45;&gt;23 -->\n",
       "<g id=\"edge23\" class=\"edge\">\n",
       "<title>15&#45;&gt;23</title>\n",
       "<path fill=\"none\" stroke=\"#000000\" d=\"M1343.6229,-341.8796C1351.9549,-332.7832 1360.8498,-323.0722 1369.4239,-313.7116\"/>\n",
       "<polygon fill=\"#000000\" stroke=\"#000000\" points=\"1372.0408,-316.0363 1376.2144,-306.2981 1366.8789,-311.3081 1372.0408,-316.0363\"/>\n",
       "</g>\n",
       "<!-- 17 -->\n",
       "<g id=\"node18\" class=\"node\">\n",
       "<title>17</title>\n",
       "<path fill=\"#e9965a\" stroke=\"#000000\" d=\"M1105.5,-187C1105.5,-187 983.5,-187 983.5,-187 977.5,-187 971.5,-181 971.5,-175 971.5,-175 971.5,-116 971.5,-116 971.5,-110 977.5,-104 983.5,-104 983.5,-104 1105.5,-104 1105.5,-104 1111.5,-104 1117.5,-110 1117.5,-116 1117.5,-116 1117.5,-175 1117.5,-175 1117.5,-181 1111.5,-187 1105.5,-187\"/>\n",
       "<text text-anchor=\"middle\" x=\"1044.5\" y=\"-171.8\" font-family=\"Helvetica,sans-Serif\" font-size=\"14.00\" fill=\"#000000\">OverageFee &lt;= 10.2</text>\n",
       "<text text-anchor=\"middle\" x=\"1044.5\" y=\"-156.8\" font-family=\"Helvetica,sans-Serif\" font-size=\"14.00\" fill=\"#000000\">entropy = 0.59</text>\n",
       "<text text-anchor=\"middle\" x=\"1044.5\" y=\"-141.8\" font-family=\"Helvetica,sans-Serif\" font-size=\"14.00\" fill=\"#000000\">samples = 78</text>\n",
       "<text text-anchor=\"middle\" x=\"1044.5\" y=\"-126.8\" font-family=\"Helvetica,sans-Serif\" font-size=\"14.00\" fill=\"#000000\">value = [67, 11]</text>\n",
       "<text text-anchor=\"middle\" x=\"1044.5\" y=\"-111.8\" font-family=\"Helvetica,sans-Serif\" font-size=\"14.00\" fill=\"#000000\">class = Not churn</text>\n",
       "</g>\n",
       "<!-- 16&#45;&gt;17 -->\n",
       "<g id=\"edge17\" class=\"edge\">\n",
       "<title>16&#45;&gt;17</title>\n",
       "<path fill=\"none\" stroke=\"#000000\" d=\"M1155.6925,-222.8796C1141.7642,-213.1868 1126.8331,-202.7961 1112.5769,-192.8752\"/>\n",
       "<polygon fill=\"#000000\" stroke=\"#000000\" points=\"1114.4811,-189.9362 1104.2737,-187.0969 1110.4826,-195.6819 1114.4811,-189.9362\"/>\n",
       "</g>\n",
       "<!-- 20 -->\n",
       "<g id=\"node21\" class=\"node\">\n",
       "<title>20</title>\n",
       "<path fill=\"#6eb7ec\" stroke=\"#000000\" d=\"M1272.5,-187C1272.5,-187 1158.5,-187 1158.5,-187 1152.5,-187 1146.5,-181 1146.5,-175 1146.5,-175 1146.5,-116 1146.5,-116 1146.5,-110 1152.5,-104 1158.5,-104 1158.5,-104 1272.5,-104 1272.5,-104 1278.5,-104 1284.5,-110 1284.5,-116 1284.5,-116 1284.5,-175 1284.5,-175 1284.5,-181 1278.5,-187 1272.5,-187\"/>\n",
       "<text text-anchor=\"middle\" x=\"1215.5\" y=\"-171.8\" font-family=\"Helvetica,sans-Serif\" font-size=\"14.00\" fill=\"#000000\">DayMins &lt;= 277.15</text>\n",
       "<text text-anchor=\"middle\" x=\"1215.5\" y=\"-156.8\" font-family=\"Helvetica,sans-Serif\" font-size=\"14.00\" fill=\"#000000\">entropy = 0.74</text>\n",
       "<text text-anchor=\"middle\" x=\"1215.5\" y=\"-141.8\" font-family=\"Helvetica,sans-Serif\" font-size=\"14.00\" fill=\"#000000\">samples = 133</text>\n",
       "<text text-anchor=\"middle\" x=\"1215.5\" y=\"-126.8\" font-family=\"Helvetica,sans-Serif\" font-size=\"14.00\" fill=\"#000000\">value = [28, 105]</text>\n",
       "<text text-anchor=\"middle\" x=\"1215.5\" y=\"-111.8\" font-family=\"Helvetica,sans-Serif\" font-size=\"14.00\" fill=\"#000000\">class = Churn</text>\n",
       "</g>\n",
       "<!-- 16&#45;&gt;20 -->\n",
       "<g id=\"edge20\" class=\"edge\">\n",
       "<title>16&#45;&gt;20</title>\n",
       "<path fill=\"none\" stroke=\"#000000\" d=\"M1215.5,-222.8796C1215.5,-214.6838 1215.5,-205.9891 1215.5,-197.5013\"/>\n",
       "<polygon fill=\"#000000\" stroke=\"#000000\" points=\"1219.0001,-197.298 1215.5,-187.2981 1212.0001,-197.2981 1219.0001,-197.298\"/>\n",
       "</g>\n",
       "<!-- 18 -->\n",
       "<g id=\"node19\" class=\"node\">\n",
       "<title>18</title>\n",
       "<path fill=\"#e78d4c\" stroke=\"#000000\" d=\"M961,-68C961,-68 860,-68 860,-68 854,-68 848,-62 848,-56 848,-56 848,-12 848,-12 848,-6 854,0 860,0 860,0 961,0 961,0 967,0 973,-6 973,-12 973,-12 973,-56 973,-56 973,-62 967,-68 961,-68\"/>\n",
       "<text text-anchor=\"middle\" x=\"910.5\" y=\"-52.8\" font-family=\"Helvetica,sans-Serif\" font-size=\"14.00\" fill=\"#000000\">entropy = 0.43</text>\n",
       "<text text-anchor=\"middle\" x=\"910.5\" y=\"-37.8\" font-family=\"Helvetica,sans-Serif\" font-size=\"14.00\" fill=\"#000000\">samples = 69</text>\n",
       "<text text-anchor=\"middle\" x=\"910.5\" y=\"-22.8\" font-family=\"Helvetica,sans-Serif\" font-size=\"14.00\" fill=\"#000000\">value = [63, 6]</text>\n",
       "<text text-anchor=\"middle\" x=\"910.5\" y=\"-7.8\" font-family=\"Helvetica,sans-Serif\" font-size=\"14.00\" fill=\"#000000\">class = Not churn</text>\n",
       "</g>\n",
       "<!-- 17&#45;&gt;18 -->\n",
       "<g id=\"edge18\" class=\"edge\">\n",
       "<title>17&#45;&gt;18</title>\n",
       "<path fill=\"none\" stroke=\"#000000\" d=\"M994.6033,-103.9815C983.1162,-94.4232 970.9103,-84.2668 959.4633,-74.7419\"/>\n",
       "<polygon fill=\"#000000\" stroke=\"#000000\" points=\"961.6035,-71.9695 951.6779,-68.2637 957.1261,-77.3503 961.6035,-71.9695\"/>\n",
       "</g>\n",
       "<!-- 19 -->\n",
       "<g id=\"node20\" class=\"node\">\n",
       "<title>19</title>\n",
       "<path fill=\"#d7ebfa\" stroke=\"#000000\" d=\"M1085.5,-68C1085.5,-68 1003.5,-68 1003.5,-68 997.5,-68 991.5,-62 991.5,-56 991.5,-56 991.5,-12 991.5,-12 991.5,-6 997.5,0 1003.5,0 1003.5,0 1085.5,0 1085.5,0 1091.5,0 1097.5,-6 1097.5,-12 1097.5,-12 1097.5,-56 1097.5,-56 1097.5,-62 1091.5,-68 1085.5,-68\"/>\n",
       "<text text-anchor=\"middle\" x=\"1044.5\" y=\"-52.8\" font-family=\"Helvetica,sans-Serif\" font-size=\"14.00\" fill=\"#000000\">entropy = 0.99</text>\n",
       "<text text-anchor=\"middle\" x=\"1044.5\" y=\"-37.8\" font-family=\"Helvetica,sans-Serif\" font-size=\"14.00\" fill=\"#000000\">samples = 9</text>\n",
       "<text text-anchor=\"middle\" x=\"1044.5\" y=\"-22.8\" font-family=\"Helvetica,sans-Serif\" font-size=\"14.00\" fill=\"#000000\">value = [4, 5]</text>\n",
       "<text text-anchor=\"middle\" x=\"1044.5\" y=\"-7.8\" font-family=\"Helvetica,sans-Serif\" font-size=\"14.00\" fill=\"#000000\">class = Churn</text>\n",
       "</g>\n",
       "<!-- 17&#45;&gt;19 -->\n",
       "<g id=\"edge19\" class=\"edge\">\n",
       "<title>17&#45;&gt;19</title>\n",
       "<path fill=\"none\" stroke=\"#000000\" d=\"M1044.5,-103.9815C1044.5,-95.618 1044.5,-86.7965 1044.5,-78.3409\"/>\n",
       "<polygon fill=\"#000000\" stroke=\"#000000\" points=\"1048.0001,-78.2636 1044.5,-68.2637 1041.0001,-78.2637 1048.0001,-78.2636\"/>\n",
       "</g>\n",
       "<!-- 21 -->\n",
       "<g id=\"node22\" class=\"node\">\n",
       "<title>21</title>\n",
       "<path fill=\"#a7d3f3\" stroke=\"#000000\" d=\"M1217,-68C1217,-68 1128,-68 1128,-68 1122,-68 1116,-62 1116,-56 1116,-56 1116,-12 1116,-12 1116,-6 1122,0 1128,0 1128,0 1217,0 1217,0 1223,0 1229,-6 1229,-12 1229,-12 1229,-56 1229,-56 1229,-62 1223,-68 1217,-68\"/>\n",
       "<text text-anchor=\"middle\" x=\"1172.5\" y=\"-52.8\" font-family=\"Helvetica,sans-Serif\" font-size=\"14.00\" fill=\"#000000\">entropy = 0.94</text>\n",
       "<text text-anchor=\"middle\" x=\"1172.5\" y=\"-37.8\" font-family=\"Helvetica,sans-Serif\" font-size=\"14.00\" fill=\"#000000\">samples = 73</text>\n",
       "<text text-anchor=\"middle\" x=\"1172.5\" y=\"-22.8\" font-family=\"Helvetica,sans-Serif\" font-size=\"14.00\" fill=\"#000000\">value = [26, 47]</text>\n",
       "<text text-anchor=\"middle\" x=\"1172.5\" y=\"-7.8\" font-family=\"Helvetica,sans-Serif\" font-size=\"14.00\" fill=\"#000000\">class = Churn</text>\n",
       "</g>\n",
       "<!-- 20&#45;&gt;21 -->\n",
       "<g id=\"edge21\" class=\"edge\">\n",
       "<title>20&#45;&gt;21</title>\n",
       "<path fill=\"none\" stroke=\"#000000\" d=\"M1199.4884,-103.9815C1196.1921,-95.4342 1192.7114,-86.4086 1189.3853,-77.7839\"/>\n",
       "<polygon fill=\"#000000\" stroke=\"#000000\" points=\"1192.5776,-76.3345 1185.7138,-68.2637 1186.0465,-78.8533 1192.5776,-76.3345\"/>\n",
       "</g>\n",
       "<!-- 22 -->\n",
       "<g id=\"node23\" class=\"node\">\n",
       "<title>22</title>\n",
       "<path fill=\"#40a0e6\" stroke=\"#000000\" d=\"M1341.5,-68C1341.5,-68 1259.5,-68 1259.5,-68 1253.5,-68 1247.5,-62 1247.5,-56 1247.5,-56 1247.5,-12 1247.5,-12 1247.5,-6 1253.5,0 1259.5,0 1259.5,0 1341.5,0 1341.5,0 1347.5,0 1353.5,-6 1353.5,-12 1353.5,-12 1353.5,-56 1353.5,-56 1353.5,-62 1347.5,-68 1341.5,-68\"/>\n",
       "<text text-anchor=\"middle\" x=\"1300.5\" y=\"-52.8\" font-family=\"Helvetica,sans-Serif\" font-size=\"14.00\" fill=\"#000000\">entropy = 0.21</text>\n",
       "<text text-anchor=\"middle\" x=\"1300.5\" y=\"-37.8\" font-family=\"Helvetica,sans-Serif\" font-size=\"14.00\" fill=\"#000000\">samples = 60</text>\n",
       "<text text-anchor=\"middle\" x=\"1300.5\" y=\"-22.8\" font-family=\"Helvetica,sans-Serif\" font-size=\"14.00\" fill=\"#000000\">value = [2, 58]</text>\n",
       "<text text-anchor=\"middle\" x=\"1300.5\" y=\"-7.8\" font-family=\"Helvetica,sans-Serif\" font-size=\"14.00\" fill=\"#000000\">class = Churn</text>\n",
       "</g>\n",
       "<!-- 20&#45;&gt;22 -->\n",
       "<g id=\"edge22\" class=\"edge\">\n",
       "<title>20&#45;&gt;22</title>\n",
       "<path fill=\"none\" stroke=\"#000000\" d=\"M1247.1509,-103.9815C1254.0171,-94.9747 1261.2882,-85.4367 1268.1798,-76.3965\"/>\n",
       "<polygon fill=\"#000000\" stroke=\"#000000\" points=\"1271.1005,-78.3383 1274.3797,-68.2637 1265.5336,-74.0945 1271.1005,-78.3383\"/>\n",
       "</g>\n",
       "<!-- 24 -->\n",
       "<g id=\"node25\" class=\"node\">\n",
       "<title>24</title>\n",
       "<path fill=\"#deeffb\" stroke=\"#000000\" d=\"M1474,-187C1474,-187 1355,-187 1355,-187 1349,-187 1343,-181 1343,-175 1343,-175 1343,-116 1343,-116 1343,-110 1349,-104 1355,-104 1355,-104 1474,-104 1474,-104 1480,-104 1486,-110 1486,-116 1486,-116 1486,-175 1486,-175 1486,-181 1480,-187 1474,-187\"/>\n",
       "<text text-anchor=\"middle\" x=\"1414.5\" y=\"-171.8\" font-family=\"Helvetica,sans-Serif\" font-size=\"14.00\" fill=\"#000000\">RoamMins &lt;= 13.15</text>\n",
       "<text text-anchor=\"middle\" x=\"1414.5\" y=\"-156.8\" font-family=\"Helvetica,sans-Serif\" font-size=\"14.00\" fill=\"#000000\">entropy = 0.99</text>\n",
       "<text text-anchor=\"middle\" x=\"1414.5\" y=\"-141.8\" font-family=\"Helvetica,sans-Serif\" font-size=\"14.00\" fill=\"#000000\">samples = 11</text>\n",
       "<text text-anchor=\"middle\" x=\"1414.5\" y=\"-126.8\" font-family=\"Helvetica,sans-Serif\" font-size=\"14.00\" fill=\"#000000\">value = [5, 6]</text>\n",
       "<text text-anchor=\"middle\" x=\"1414.5\" y=\"-111.8\" font-family=\"Helvetica,sans-Serif\" font-size=\"14.00\" fill=\"#000000\">class = Churn</text>\n",
       "</g>\n",
       "<!-- 23&#45;&gt;24 -->\n",
       "<g id=\"edge24\" class=\"edge\">\n",
       "<title>23&#45;&gt;24</title>\n",
       "<path fill=\"none\" stroke=\"#000000\" d=\"M1414.5,-222.8796C1414.5,-214.6838 1414.5,-205.9891 1414.5,-197.5013\"/>\n",
       "<polygon fill=\"#000000\" stroke=\"#000000\" points=\"1418.0001,-197.298 1414.5,-187.2981 1411.0001,-197.2981 1418.0001,-197.298\"/>\n",
       "</g>\n",
       "<!-- 27 -->\n",
       "<g id=\"node28\" class=\"node\">\n",
       "<title>27</title>\n",
       "<path fill=\"#e58139\" stroke=\"#000000\" d=\"M1617,-179.5C1617,-179.5 1516,-179.5 1516,-179.5 1510,-179.5 1504,-173.5 1504,-167.5 1504,-167.5 1504,-123.5 1504,-123.5 1504,-117.5 1510,-111.5 1516,-111.5 1516,-111.5 1617,-111.5 1617,-111.5 1623,-111.5 1629,-117.5 1629,-123.5 1629,-123.5 1629,-167.5 1629,-167.5 1629,-173.5 1623,-179.5 1617,-179.5\"/>\n",
       "<text text-anchor=\"middle\" x=\"1566.5\" y=\"-164.3\" font-family=\"Helvetica,sans-Serif\" font-size=\"14.00\" fill=\"#000000\">entropy = 0.0</text>\n",
       "<text text-anchor=\"middle\" x=\"1566.5\" y=\"-149.3\" font-family=\"Helvetica,sans-Serif\" font-size=\"14.00\" fill=\"#000000\">samples = 52</text>\n",
       "<text text-anchor=\"middle\" x=\"1566.5\" y=\"-134.3\" font-family=\"Helvetica,sans-Serif\" font-size=\"14.00\" fill=\"#000000\">value = [52, 0]</text>\n",
       "<text text-anchor=\"middle\" x=\"1566.5\" y=\"-119.3\" font-family=\"Helvetica,sans-Serif\" font-size=\"14.00\" fill=\"#000000\">class = Not churn</text>\n",
       "</g>\n",
       "<!-- 23&#45;&gt;27 -->\n",
       "<g id=\"edge27\" class=\"edge\">\n",
       "<title>23&#45;&gt;27</title>\n",
       "<path fill=\"none\" stroke=\"#000000\" d=\"M1467.6622,-222.8796C1482.8313,-211.0038 1499.3384,-198.0804 1514.4409,-186.2568\"/>\n",
       "<polygon fill=\"#000000\" stroke=\"#000000\" points=\"1516.9528,-188.7353 1522.6692,-179.8149 1512.6376,-183.2236 1516.9528,-188.7353\"/>\n",
       "</g>\n",
       "<!-- 25 -->\n",
       "<g id=\"node26\" class=\"node\">\n",
       "<title>25</title>\n",
       "<path fill=\"#efb388\" stroke=\"#000000\" d=\"M1485,-68C1485,-68 1384,-68 1384,-68 1378,-68 1372,-62 1372,-56 1372,-56 1372,-12 1372,-12 1372,-6 1378,0 1384,0 1384,0 1485,0 1485,0 1491,0 1497,-6 1497,-12 1497,-12 1497,-56 1497,-56 1497,-62 1491,-68 1485,-68\"/>\n",
       "<text text-anchor=\"middle\" x=\"1434.5\" y=\"-52.8\" font-family=\"Helvetica,sans-Serif\" font-size=\"14.00\" fill=\"#000000\">entropy = 0.86</text>\n",
       "<text text-anchor=\"middle\" x=\"1434.5\" y=\"-37.8\" font-family=\"Helvetica,sans-Serif\" font-size=\"14.00\" fill=\"#000000\">samples = 7</text>\n",
       "<text text-anchor=\"middle\" x=\"1434.5\" y=\"-22.8\" font-family=\"Helvetica,sans-Serif\" font-size=\"14.00\" fill=\"#000000\">value = [5, 2]</text>\n",
       "<text text-anchor=\"middle\" x=\"1434.5\" y=\"-7.8\" font-family=\"Helvetica,sans-Serif\" font-size=\"14.00\" fill=\"#000000\">class = Not churn</text>\n",
       "</g>\n",
       "<!-- 24&#45;&gt;25 -->\n",
       "<g id=\"edge25\" class=\"edge\">\n",
       "<title>24&#45;&gt;25</title>\n",
       "<path fill=\"none\" stroke=\"#000000\" d=\"M1421.9473,-103.9815C1423.4474,-95.618 1425.0298,-86.7965 1426.5465,-78.3409\"/>\n",
       "<polygon fill=\"#000000\" stroke=\"#000000\" points=\"1430.0334,-78.7246 1428.354,-68.2637 1423.1434,-77.4886 1430.0334,-78.7246\"/>\n",
       "</g>\n",
       "<!-- 26 -->\n",
       "<g id=\"node27\" class=\"node\">\n",
       "<title>26</title>\n",
       "<path fill=\"#399de5\" stroke=\"#000000\" d=\"M1605.5,-68C1605.5,-68 1527.5,-68 1527.5,-68 1521.5,-68 1515.5,-62 1515.5,-56 1515.5,-56 1515.5,-12 1515.5,-12 1515.5,-6 1521.5,0 1527.5,0 1527.5,0 1605.5,0 1605.5,0 1611.5,0 1617.5,-6 1617.5,-12 1617.5,-12 1617.5,-56 1617.5,-56 1617.5,-62 1611.5,-68 1605.5,-68\"/>\n",
       "<text text-anchor=\"middle\" x=\"1566.5\" y=\"-52.8\" font-family=\"Helvetica,sans-Serif\" font-size=\"14.00\" fill=\"#000000\">entropy = 0.0</text>\n",
       "<text text-anchor=\"middle\" x=\"1566.5\" y=\"-37.8\" font-family=\"Helvetica,sans-Serif\" font-size=\"14.00\" fill=\"#000000\">samples = 4</text>\n",
       "<text text-anchor=\"middle\" x=\"1566.5\" y=\"-22.8\" font-family=\"Helvetica,sans-Serif\" font-size=\"14.00\" fill=\"#000000\">value = [0, 4]</text>\n",
       "<text text-anchor=\"middle\" x=\"1566.5\" y=\"-7.8\" font-family=\"Helvetica,sans-Serif\" font-size=\"14.00\" fill=\"#000000\">class = Churn</text>\n",
       "</g>\n",
       "<!-- 24&#45;&gt;26 -->\n",
       "<g id=\"edge26\" class=\"edge\">\n",
       "<title>24&#45;&gt;26</title>\n",
       "<path fill=\"none\" stroke=\"#000000\" d=\"M1471.0992,-103.9815C1484.3799,-94.2394 1498.5077,-83.8759 1511.7077,-74.193\"/>\n",
       "<polygon fill=\"#000000\" stroke=\"#000000\" points=\"1513.7977,-77.0006 1519.7908,-68.2637 1509.6574,-71.3564 1513.7977,-77.0006\"/>\n",
       "</g>\n",
       "<!-- 29 -->\n",
       "<g id=\"node30\" class=\"node\">\n",
       "<title>29</title>\n",
       "<path fill=\"#44a2e6\" stroke=\"#000000\" d=\"M1775,-425C1775,-425 1636,-425 1636,-425 1630,-425 1624,-419 1624,-413 1624,-413 1624,-354 1624,-354 1624,-348 1630,-342 1636,-342 1636,-342 1775,-342 1775,-342 1781,-342 1787,-348 1787,-354 1787,-354 1787,-413 1787,-413 1787,-419 1781,-425 1775,-425\"/>\n",
       "<text text-anchor=\"middle\" x=\"1705.5\" y=\"-409.8\" font-family=\"Helvetica,sans-Serif\" font-size=\"14.00\" fill=\"#000000\">MonthlyCharge &lt;= 42.8</text>\n",
       "<text text-anchor=\"middle\" x=\"1705.5\" y=\"-394.8\" font-family=\"Helvetica,sans-Serif\" font-size=\"14.00\" fill=\"#000000\">entropy = 0.29</text>\n",
       "<text text-anchor=\"middle\" x=\"1705.5\" y=\"-379.8\" font-family=\"Helvetica,sans-Serif\" font-size=\"14.00\" fill=\"#000000\">samples = 77</text>\n",
       "<text text-anchor=\"middle\" x=\"1705.5\" y=\"-364.8\" font-family=\"Helvetica,sans-Serif\" font-size=\"14.00\" fill=\"#000000\">value = [4, 73]</text>\n",
       "<text text-anchor=\"middle\" x=\"1705.5\" y=\"-349.8\" font-family=\"Helvetica,sans-Serif\" font-size=\"14.00\" fill=\"#000000\">class = Churn</text>\n",
       "</g>\n",
       "<!-- 28&#45;&gt;29 -->\n",
       "<g id=\"edge29\" class=\"edge\">\n",
       "<title>28&#45;&gt;29</title>\n",
       "<path fill=\"none\" stroke=\"#000000\" d=\"M1705.5,-460.8796C1705.5,-452.6838 1705.5,-443.9891 1705.5,-435.5013\"/>\n",
       "<polygon fill=\"#000000\" stroke=\"#000000\" points=\"1709.0001,-435.298 1705.5,-425.2981 1702.0001,-435.2981 1709.0001,-435.298\"/>\n",
       "</g>\n",
       "<!-- 36 -->\n",
       "<g id=\"node37\" class=\"node\">\n",
       "<title>36</title>\n",
       "<path fill=\"#efb388\" stroke=\"#000000\" d=\"M2155,-425C2155,-425 2016,-425 2016,-425 2010,-425 2004,-419 2004,-413 2004,-413 2004,-354 2004,-354 2004,-348 2010,-342 2016,-342 2016,-342 2155,-342 2155,-342 2161,-342 2167,-348 2167,-354 2167,-354 2167,-413 2167,-413 2167,-419 2161,-425 2155,-425\"/>\n",
       "<text text-anchor=\"middle\" x=\"2085.5\" y=\"-409.8\" font-family=\"Helvetica,sans-Serif\" font-size=\"14.00\" fill=\"#000000\">MonthlyCharge &lt;= 58.7</text>\n",
       "<text text-anchor=\"middle\" x=\"2085.5\" y=\"-394.8\" font-family=\"Helvetica,sans-Serif\" font-size=\"14.00\" fill=\"#000000\">entropy = 0.86</text>\n",
       "<text text-anchor=\"middle\" x=\"2085.5\" y=\"-379.8\" font-family=\"Helvetica,sans-Serif\" font-size=\"14.00\" fill=\"#000000\">samples = 140</text>\n",
       "<text text-anchor=\"middle\" x=\"2085.5\" y=\"-364.8\" font-family=\"Helvetica,sans-Serif\" font-size=\"14.00\" fill=\"#000000\">value = [100, 40]</text>\n",
       "<text text-anchor=\"middle\" x=\"2085.5\" y=\"-349.8\" font-family=\"Helvetica,sans-Serif\" font-size=\"14.00\" fill=\"#000000\">class = Not churn</text>\n",
       "</g>\n",
       "<!-- 28&#45;&gt;36 -->\n",
       "<g id=\"edge36\" class=\"edge\">\n",
       "<title>28&#45;&gt;36</title>\n",
       "<path fill=\"none\" stroke=\"#000000\" d=\"M1791.2532,-475.6457C1851.7185,-456.7105 1932.5848,-431.3866 1994.2406,-412.0786\"/>\n",
       "<polygon fill=\"#000000\" stroke=\"#000000\" points=\"1995.4679,-415.3619 2003.965,-409.0333 1993.376,-408.6818 1995.4679,-415.3619\"/>\n",
       "</g>\n",
       "<!-- 30 -->\n",
       "<g id=\"node31\" class=\"node\">\n",
       "<title>30</title>\n",
       "<path fill=\"#399de5\" stroke=\"#000000\" d=\"M1675,-298.5C1675,-298.5 1594,-298.5 1594,-298.5 1588,-298.5 1582,-292.5 1582,-286.5 1582,-286.5 1582,-242.5 1582,-242.5 1582,-236.5 1588,-230.5 1594,-230.5 1594,-230.5 1675,-230.5 1675,-230.5 1681,-230.5 1687,-236.5 1687,-242.5 1687,-242.5 1687,-286.5 1687,-286.5 1687,-292.5 1681,-298.5 1675,-298.5\"/>\n",
       "<text text-anchor=\"middle\" x=\"1634.5\" y=\"-283.3\" font-family=\"Helvetica,sans-Serif\" font-size=\"14.00\" fill=\"#000000\">entropy = 0.0</text>\n",
       "<text text-anchor=\"middle\" x=\"1634.5\" y=\"-268.3\" font-family=\"Helvetica,sans-Serif\" font-size=\"14.00\" fill=\"#000000\">samples = 52</text>\n",
       "<text text-anchor=\"middle\" x=\"1634.5\" y=\"-253.3\" font-family=\"Helvetica,sans-Serif\" font-size=\"14.00\" fill=\"#000000\">value = [0, 52]</text>\n",
       "<text text-anchor=\"middle\" x=\"1634.5\" y=\"-238.3\" font-family=\"Helvetica,sans-Serif\" font-size=\"14.00\" fill=\"#000000\">class = Churn</text>\n",
       "</g>\n",
       "<!-- 29&#45;&gt;30 -->\n",
       "<g id=\"edge30\" class=\"edge\">\n",
       "<title>29&#45;&gt;30</title>\n",
       "<path fill=\"none\" stroke=\"#000000\" d=\"M1680.6676,-341.8796C1674.0413,-330.7735 1666.8684,-318.7513 1660.1967,-307.5691\"/>\n",
       "<polygon fill=\"#000000\" stroke=\"#000000\" points=\"1663.1031,-305.6093 1654.9736,-298.8149 1657.0917,-309.1959 1663.1031,-305.6093\"/>\n",
       "</g>\n",
       "<!-- 31 -->\n",
       "<g id=\"node32\" class=\"node\">\n",
       "<title>31</title>\n",
       "<path fill=\"#5fb0ea\" stroke=\"#000000\" d=\"M1836,-306C1836,-306 1717,-306 1717,-306 1711,-306 1705,-300 1705,-294 1705,-294 1705,-235 1705,-235 1705,-229 1711,-223 1717,-223 1717,-223 1836,-223 1836,-223 1842,-223 1848,-229 1848,-235 1848,-235 1848,-294 1848,-294 1848,-300 1842,-306 1836,-306\"/>\n",
       "<text text-anchor=\"middle\" x=\"1776.5\" y=\"-290.8\" font-family=\"Helvetica,sans-Serif\" font-size=\"14.00\" fill=\"#000000\">Income_High &lt;= 0.5</text>\n",
       "<text text-anchor=\"middle\" x=\"1776.5\" y=\"-275.8\" font-family=\"Helvetica,sans-Serif\" font-size=\"14.00\" fill=\"#000000\">entropy = 0.63</text>\n",
       "<text text-anchor=\"middle\" x=\"1776.5\" y=\"-260.8\" font-family=\"Helvetica,sans-Serif\" font-size=\"14.00\" fill=\"#000000\">samples = 25</text>\n",
       "<text text-anchor=\"middle\" x=\"1776.5\" y=\"-245.8\" font-family=\"Helvetica,sans-Serif\" font-size=\"14.00\" fill=\"#000000\">value = [4, 21]</text>\n",
       "<text text-anchor=\"middle\" x=\"1776.5\" y=\"-230.8\" font-family=\"Helvetica,sans-Serif\" font-size=\"14.00\" fill=\"#000000\">class = Churn</text>\n",
       "</g>\n",
       "<!-- 29&#45;&gt;31 -->\n",
       "<g id=\"edge31\" class=\"edge\">\n",
       "<title>29&#45;&gt;31</title>\n",
       "<path fill=\"none\" stroke=\"#000000\" d=\"M1730.3324,-341.8796C1735.4909,-333.2335 1740.9808,-324.0322 1746.3076,-315.1042\"/>\n",
       "<polygon fill=\"#000000\" stroke=\"#000000\" points=\"1749.4436,-316.679 1751.5617,-306.2981 1743.4322,-313.0924 1749.4436,-316.679\"/>\n",
       "</g>\n",
       "<!-- 32 -->\n",
       "<g id=\"node33\" class=\"node\">\n",
       "<title>32</title>\n",
       "<path fill=\"#399de5\" stroke=\"#000000\" d=\"M1740,-179.5C1740,-179.5 1659,-179.5 1659,-179.5 1653,-179.5 1647,-173.5 1647,-167.5 1647,-167.5 1647,-123.5 1647,-123.5 1647,-117.5 1653,-111.5 1659,-111.5 1659,-111.5 1740,-111.5 1740,-111.5 1746,-111.5 1752,-117.5 1752,-123.5 1752,-123.5 1752,-167.5 1752,-167.5 1752,-173.5 1746,-179.5 1740,-179.5\"/>\n",
       "<text text-anchor=\"middle\" x=\"1699.5\" y=\"-164.3\" font-family=\"Helvetica,sans-Serif\" font-size=\"14.00\" fill=\"#000000\">entropy = 0.0</text>\n",
       "<text text-anchor=\"middle\" x=\"1699.5\" y=\"-149.3\" font-family=\"Helvetica,sans-Serif\" font-size=\"14.00\" fill=\"#000000\">samples = 13</text>\n",
       "<text text-anchor=\"middle\" x=\"1699.5\" y=\"-134.3\" font-family=\"Helvetica,sans-Serif\" font-size=\"14.00\" fill=\"#000000\">value = [0, 13]</text>\n",
       "<text text-anchor=\"middle\" x=\"1699.5\" y=\"-119.3\" font-family=\"Helvetica,sans-Serif\" font-size=\"14.00\" fill=\"#000000\">class = Churn</text>\n",
       "</g>\n",
       "<!-- 31&#45;&gt;32 -->\n",
       "<g id=\"edge32\" class=\"edge\">\n",
       "<title>31&#45;&gt;32</title>\n",
       "<path fill=\"none\" stroke=\"#000000\" d=\"M1749.5691,-222.8796C1742.3117,-211.6636 1734.4497,-199.5131 1727.1535,-188.2372\"/>\n",
       "<polygon fill=\"#000000\" stroke=\"#000000\" points=\"1730.0748,-186.3093 1721.7038,-179.8149 1724.1978,-190.112 1730.0748,-186.3093\"/>\n",
       "</g>\n",
       "<!-- 33 -->\n",
       "<g id=\"node34\" class=\"node\">\n",
       "<title>33</title>\n",
       "<path fill=\"#9ccef2\" stroke=\"#000000\" d=\"M1901,-187C1901,-187 1782,-187 1782,-187 1776,-187 1770,-181 1770,-175 1770,-175 1770,-116 1770,-116 1770,-110 1776,-104 1782,-104 1782,-104 1901,-104 1901,-104 1907,-104 1913,-110 1913,-116 1913,-116 1913,-175 1913,-175 1913,-181 1907,-187 1901,-187\"/>\n",
       "<text text-anchor=\"middle\" x=\"1841.5\" y=\"-171.8\" font-family=\"Helvetica,sans-Serif\" font-size=\"14.00\" fill=\"#000000\">RoamMins &lt;= 11.15</text>\n",
       "<text text-anchor=\"middle\" x=\"1841.5\" y=\"-156.8\" font-family=\"Helvetica,sans-Serif\" font-size=\"14.00\" fill=\"#000000\">entropy = 0.92</text>\n",
       "<text text-anchor=\"middle\" x=\"1841.5\" y=\"-141.8\" font-family=\"Helvetica,sans-Serif\" font-size=\"14.00\" fill=\"#000000\">samples = 12</text>\n",
       "<text text-anchor=\"middle\" x=\"1841.5\" y=\"-126.8\" font-family=\"Helvetica,sans-Serif\" font-size=\"14.00\" fill=\"#000000\">value = [4, 8]</text>\n",
       "<text text-anchor=\"middle\" x=\"1841.5\" y=\"-111.8\" font-family=\"Helvetica,sans-Serif\" font-size=\"14.00\" fill=\"#000000\">class = Churn</text>\n",
       "</g>\n",
       "<!-- 31&#45;&gt;33 -->\n",
       "<g id=\"edge33\" class=\"edge\">\n",
       "<title>31&#45;&gt;33</title>\n",
       "<path fill=\"none\" stroke=\"#000000\" d=\"M1799.2338,-222.8796C1803.9565,-214.2335 1808.9824,-205.0322 1813.859,-196.1042\"/>\n",
       "<polygon fill=\"#000000\" stroke=\"#000000\" points=\"1816.947,-197.752 1818.6691,-187.2981 1810.8037,-194.3964 1816.947,-197.752\"/>\n",
       "</g>\n",
       "<!-- 34 -->\n",
       "<g id=\"node35\" class=\"node\">\n",
       "<title>34</title>\n",
       "<path fill=\"#5aade9\" stroke=\"#000000\" d=\"M1748.5,-68C1748.5,-68 1666.5,-68 1666.5,-68 1660.5,-68 1654.5,-62 1654.5,-56 1654.5,-56 1654.5,-12 1654.5,-12 1654.5,-6 1660.5,0 1666.5,0 1666.5,0 1748.5,0 1748.5,0 1754.5,0 1760.5,-6 1760.5,-12 1760.5,-12 1760.5,-56 1760.5,-56 1760.5,-62 1754.5,-68 1748.5,-68\"/>\n",
       "<text text-anchor=\"middle\" x=\"1707.5\" y=\"-52.8\" font-family=\"Helvetica,sans-Serif\" font-size=\"14.00\" fill=\"#000000\">entropy = 0.59</text>\n",
       "<text text-anchor=\"middle\" x=\"1707.5\" y=\"-37.8\" font-family=\"Helvetica,sans-Serif\" font-size=\"14.00\" fill=\"#000000\">samples = 7</text>\n",
       "<text text-anchor=\"middle\" x=\"1707.5\" y=\"-22.8\" font-family=\"Helvetica,sans-Serif\" font-size=\"14.00\" fill=\"#000000\">value = [1, 6]</text>\n",
       "<text text-anchor=\"middle\" x=\"1707.5\" y=\"-7.8\" font-family=\"Helvetica,sans-Serif\" font-size=\"14.00\" fill=\"#000000\">class = Churn</text>\n",
       "</g>\n",
       "<!-- 33&#45;&gt;34 -->\n",
       "<g id=\"edge34\" class=\"edge\">\n",
       "<title>33&#45;&gt;34</title>\n",
       "<path fill=\"none\" stroke=\"#000000\" d=\"M1791.6033,-103.9815C1780.1162,-94.4232 1767.9103,-84.2668 1756.4633,-74.7419\"/>\n",
       "<polygon fill=\"#000000\" stroke=\"#000000\" points=\"1758.6035,-71.9695 1748.6779,-68.2637 1754.1261,-77.3503 1758.6035,-71.9695\"/>\n",
       "</g>\n",
       "<!-- 35 -->\n",
       "<g id=\"node36\" class=\"node\">\n",
       "<title>35</title>\n",
       "<path fill=\"#f6d5bd\" stroke=\"#000000\" d=\"M1892,-68C1892,-68 1791,-68 1791,-68 1785,-68 1779,-62 1779,-56 1779,-56 1779,-12 1779,-12 1779,-6 1785,0 1791,0 1791,0 1892,0 1892,0 1898,0 1904,-6 1904,-12 1904,-12 1904,-56 1904,-56 1904,-62 1898,-68 1892,-68\"/>\n",
       "<text text-anchor=\"middle\" x=\"1841.5\" y=\"-52.8\" font-family=\"Helvetica,sans-Serif\" font-size=\"14.00\" fill=\"#000000\">entropy = 0.97</text>\n",
       "<text text-anchor=\"middle\" x=\"1841.5\" y=\"-37.8\" font-family=\"Helvetica,sans-Serif\" font-size=\"14.00\" fill=\"#000000\">samples = 5</text>\n",
       "<text text-anchor=\"middle\" x=\"1841.5\" y=\"-22.8\" font-family=\"Helvetica,sans-Serif\" font-size=\"14.00\" fill=\"#000000\">value = [3, 2]</text>\n",
       "<text text-anchor=\"middle\" x=\"1841.5\" y=\"-7.8\" font-family=\"Helvetica,sans-Serif\" font-size=\"14.00\" fill=\"#000000\">class = Not churn</text>\n",
       "</g>\n",
       "<!-- 33&#45;&gt;35 -->\n",
       "<g id=\"edge35\" class=\"edge\">\n",
       "<title>33&#45;&gt;35</title>\n",
       "<path fill=\"none\" stroke=\"#000000\" d=\"M1841.5,-103.9815C1841.5,-95.618 1841.5,-86.7965 1841.5,-78.3409\"/>\n",
       "<polygon fill=\"#000000\" stroke=\"#000000\" points=\"1845.0001,-78.2636 1841.5,-68.2637 1838.0001,-78.2637 1845.0001,-78.2636\"/>\n",
       "</g>\n",
       "<!-- 37 -->\n",
       "<g id=\"node38\" class=\"node\">\n",
       "<title>37</title>\n",
       "<path fill=\"#e88e4d\" stroke=\"#000000\" d=\"M2155,-306C2155,-306 2016,-306 2016,-306 2010,-306 2004,-300 2004,-294 2004,-294 2004,-235 2004,-235 2004,-229 2010,-223 2016,-223 2016,-223 2155,-223 2155,-223 2161,-223 2167,-229 2167,-235 2167,-235 2167,-294 2167,-294 2167,-300 2161,-306 2155,-306\"/>\n",
       "<text text-anchor=\"middle\" x=\"2085.5\" y=\"-290.8\" font-family=\"Helvetica,sans-Serif\" font-size=\"14.00\" fill=\"#000000\">MonthlyCharge &lt;= 52.9</text>\n",
       "<text text-anchor=\"middle\" x=\"2085.5\" y=\"-275.8\" font-family=\"Helvetica,sans-Serif\" font-size=\"14.00\" fill=\"#000000\">entropy = 0.44</text>\n",
       "<text text-anchor=\"middle\" x=\"2085.5\" y=\"-260.8\" font-family=\"Helvetica,sans-Serif\" font-size=\"14.00\" fill=\"#000000\">samples = 65</text>\n",
       "<text text-anchor=\"middle\" x=\"2085.5\" y=\"-245.8\" font-family=\"Helvetica,sans-Serif\" font-size=\"14.00\" fill=\"#000000\">value = [59, 6]</text>\n",
       "<text text-anchor=\"middle\" x=\"2085.5\" y=\"-230.8\" font-family=\"Helvetica,sans-Serif\" font-size=\"14.00\" fill=\"#000000\">class = Not churn</text>\n",
       "</g>\n",
       "<!-- 36&#45;&gt;37 -->\n",
       "<g id=\"edge37\" class=\"edge\">\n",
       "<title>36&#45;&gt;37</title>\n",
       "<path fill=\"none\" stroke=\"#000000\" d=\"M2085.5,-341.8796C2085.5,-333.6838 2085.5,-324.9891 2085.5,-316.5013\"/>\n",
       "<polygon fill=\"#000000\" stroke=\"#000000\" points=\"2089.0001,-316.298 2085.5,-306.2981 2082.0001,-316.2981 2089.0001,-316.298\"/>\n",
       "</g>\n",
       "<!-- 42 -->\n",
       "<g id=\"node43\" class=\"node\">\n",
       "<title>42</title>\n",
       "<path fill=\"#fbe9dd\" stroke=\"#000000\" d=\"M2416,-306C2416,-306 2269,-306 2269,-306 2263,-306 2257,-300 2257,-294 2257,-294 2257,-235 2257,-235 2257,-229 2263,-223 2269,-223 2269,-223 2416,-223 2416,-223 2422,-223 2428,-229 2428,-235 2428,-235 2428,-294 2428,-294 2428,-300 2422,-306 2416,-306\"/>\n",
       "<text text-anchor=\"middle\" x=\"2342.5\" y=\"-290.8\" font-family=\"Helvetica,sans-Serif\" font-size=\"14.00\" fill=\"#000000\">MonthlyCharge &lt;= 76.25</text>\n",
       "<text text-anchor=\"middle\" x=\"2342.5\" y=\"-275.8\" font-family=\"Helvetica,sans-Serif\" font-size=\"14.00\" fill=\"#000000\">entropy = 0.99</text>\n",
       "<text text-anchor=\"middle\" x=\"2342.5\" y=\"-260.8\" font-family=\"Helvetica,sans-Serif\" font-size=\"14.00\" fill=\"#000000\">samples = 75</text>\n",
       "<text text-anchor=\"middle\" x=\"2342.5\" y=\"-245.8\" font-family=\"Helvetica,sans-Serif\" font-size=\"14.00\" fill=\"#000000\">value = [41, 34]</text>\n",
       "<text text-anchor=\"middle\" x=\"2342.5\" y=\"-230.8\" font-family=\"Helvetica,sans-Serif\" font-size=\"14.00\" fill=\"#000000\">class = Not churn</text>\n",
       "</g>\n",
       "<!-- 36&#45;&gt;42 -->\n",
       "<g id=\"edge42\" class=\"edge\">\n",
       "<title>36&#45;&gt;42</title>\n",
       "<path fill=\"none\" stroke=\"#000000\" d=\"M2167.1695,-345.6841C2192.6761,-333.8737 2221.0346,-320.7427 2247.3814,-308.5432\"/>\n",
       "<polygon fill=\"#000000\" stroke=\"#000000\" points=\"2249.0049,-311.6486 2256.6087,-304.2707 2246.0636,-305.2965 2249.0049,-311.6486\"/>\n",
       "</g>\n",
       "<!-- 38 -->\n",
       "<g id=\"node39\" class=\"node\">\n",
       "<title>38</title>\n",
       "<path fill=\"#ea995e\" stroke=\"#000000\" d=\"M2066.5,-187C2066.5,-187 1960.5,-187 1960.5,-187 1954.5,-187 1948.5,-181 1948.5,-175 1948.5,-175 1948.5,-116 1948.5,-116 1948.5,-110 1954.5,-104 1960.5,-104 1960.5,-104 2066.5,-104 2066.5,-104 2072.5,-104 2078.5,-110 2078.5,-116 2078.5,-116 2078.5,-175 2078.5,-175 2078.5,-181 2072.5,-187 2066.5,-187\"/>\n",
       "<text text-anchor=\"middle\" x=\"2013.5\" y=\"-171.8\" font-family=\"Helvetica,sans-Serif\" font-size=\"14.00\" fill=\"#000000\">DayMins &lt;= 224.1</text>\n",
       "<text text-anchor=\"middle\" x=\"2013.5\" y=\"-156.8\" font-family=\"Helvetica,sans-Serif\" font-size=\"14.00\" fill=\"#000000\">entropy = 0.63</text>\n",
       "<text text-anchor=\"middle\" x=\"2013.5\" y=\"-141.8\" font-family=\"Helvetica,sans-Serif\" font-size=\"14.00\" fill=\"#000000\">samples = 38</text>\n",
       "<text text-anchor=\"middle\" x=\"2013.5\" y=\"-126.8\" font-family=\"Helvetica,sans-Serif\" font-size=\"14.00\" fill=\"#000000\">value = [32, 6]</text>\n",
       "<text text-anchor=\"middle\" x=\"2013.5\" y=\"-111.8\" font-family=\"Helvetica,sans-Serif\" font-size=\"14.00\" fill=\"#000000\">class = Not churn</text>\n",
       "</g>\n",
       "<!-- 37&#45;&gt;38 -->\n",
       "<g id=\"edge38\" class=\"edge\">\n",
       "<title>37&#45;&gt;38</title>\n",
       "<path fill=\"none\" stroke=\"#000000\" d=\"M2060.3179,-222.8796C2055.0867,-214.2335 2049.5195,-205.0322 2044.1177,-196.1042\"/>\n",
       "<polygon fill=\"#000000\" stroke=\"#000000\" points=\"2046.9608,-194.0421 2038.7896,-187.2981 2040.9717,-197.6658 2046.9608,-194.0421\"/>\n",
       "</g>\n",
       "<!-- 41 -->\n",
       "<g id=\"node42\" class=\"node\">\n",
       "<title>41</title>\n",
       "<path fill=\"#e58139\" stroke=\"#000000\" d=\"M2210,-179.5C2210,-179.5 2109,-179.5 2109,-179.5 2103,-179.5 2097,-173.5 2097,-167.5 2097,-167.5 2097,-123.5 2097,-123.5 2097,-117.5 2103,-111.5 2109,-111.5 2109,-111.5 2210,-111.5 2210,-111.5 2216,-111.5 2222,-117.5 2222,-123.5 2222,-123.5 2222,-167.5 2222,-167.5 2222,-173.5 2216,-179.5 2210,-179.5\"/>\n",
       "<text text-anchor=\"middle\" x=\"2159.5\" y=\"-164.3\" font-family=\"Helvetica,sans-Serif\" font-size=\"14.00\" fill=\"#000000\">entropy = 0.0</text>\n",
       "<text text-anchor=\"middle\" x=\"2159.5\" y=\"-149.3\" font-family=\"Helvetica,sans-Serif\" font-size=\"14.00\" fill=\"#000000\">samples = 27</text>\n",
       "<text text-anchor=\"middle\" x=\"2159.5\" y=\"-134.3\" font-family=\"Helvetica,sans-Serif\" font-size=\"14.00\" fill=\"#000000\">value = [27, 0]</text>\n",
       "<text text-anchor=\"middle\" x=\"2159.5\" y=\"-119.3\" font-family=\"Helvetica,sans-Serif\" font-size=\"14.00\" fill=\"#000000\">class = Not churn</text>\n",
       "</g>\n",
       "<!-- 37&#45;&gt;41 -->\n",
       "<g id=\"edge41\" class=\"edge\">\n",
       "<title>37&#45;&gt;41</title>\n",
       "<path fill=\"none\" stroke=\"#000000\" d=\"M2111.3816,-222.8796C2118.2879,-211.7735 2125.7639,-199.7513 2132.7175,-188.5691\"/>\n",
       "<polygon fill=\"#000000\" stroke=\"#000000\" points=\"2135.8527,-190.1552 2138.1613,-179.8149 2129.9083,-186.4587 2135.8527,-190.1552\"/>\n",
       "</g>\n",
       "<!-- 39 -->\n",
       "<g id=\"node40\" class=\"node\">\n",
       "<title>39</title>\n",
       "<path fill=\"#e89152\" stroke=\"#000000\" d=\"M2035,-68C2035,-68 1934,-68 1934,-68 1928,-68 1922,-62 1922,-56 1922,-56 1922,-12 1922,-12 1922,-6 1928,0 1934,0 1934,0 2035,0 2035,0 2041,0 2047,-6 2047,-12 2047,-12 2047,-56 2047,-56 2047,-62 2041,-68 2035,-68\"/>\n",
       "<text text-anchor=\"middle\" x=\"1984.5\" y=\"-52.8\" font-family=\"Helvetica,sans-Serif\" font-size=\"14.00\" fill=\"#000000\">entropy = 0.5</text>\n",
       "<text text-anchor=\"middle\" x=\"1984.5\" y=\"-37.8\" font-family=\"Helvetica,sans-Serif\" font-size=\"14.00\" fill=\"#000000\">samples = 36</text>\n",
       "<text text-anchor=\"middle\" x=\"1984.5\" y=\"-22.8\" font-family=\"Helvetica,sans-Serif\" font-size=\"14.00\" fill=\"#000000\">value = [32, 4]</text>\n",
       "<text text-anchor=\"middle\" x=\"1984.5\" y=\"-7.8\" font-family=\"Helvetica,sans-Serif\" font-size=\"14.00\" fill=\"#000000\">class = Not churn</text>\n",
       "</g>\n",
       "<!-- 38&#45;&gt;39 -->\n",
       "<g id=\"edge39\" class=\"edge\">\n",
       "<title>38&#45;&gt;39</title>\n",
       "<path fill=\"none\" stroke=\"#000000\" d=\"M2002.7015,-103.9815C2000.5023,-95.5261 1998.1814,-86.6026 1995.9601,-78.0623\"/>\n",
       "<polygon fill=\"#000000\" stroke=\"#000000\" points=\"1999.3162,-77.0607 1993.4116,-68.2637 1992.5415,-78.8227 1999.3162,-77.0607\"/>\n",
       "</g>\n",
       "<!-- 40 -->\n",
       "<g id=\"node41\" class=\"node\">\n",
       "<title>40</title>\n",
       "<path fill=\"#399de5\" stroke=\"#000000\" d=\"M2155.5,-68C2155.5,-68 2077.5,-68 2077.5,-68 2071.5,-68 2065.5,-62 2065.5,-56 2065.5,-56 2065.5,-12 2065.5,-12 2065.5,-6 2071.5,0 2077.5,0 2077.5,0 2155.5,0 2155.5,0 2161.5,0 2167.5,-6 2167.5,-12 2167.5,-12 2167.5,-56 2167.5,-56 2167.5,-62 2161.5,-68 2155.5,-68\"/>\n",
       "<text text-anchor=\"middle\" x=\"2116.5\" y=\"-52.8\" font-family=\"Helvetica,sans-Serif\" font-size=\"14.00\" fill=\"#000000\">entropy = 0.0</text>\n",
       "<text text-anchor=\"middle\" x=\"2116.5\" y=\"-37.8\" font-family=\"Helvetica,sans-Serif\" font-size=\"14.00\" fill=\"#000000\">samples = 2</text>\n",
       "<text text-anchor=\"middle\" x=\"2116.5\" y=\"-22.8\" font-family=\"Helvetica,sans-Serif\" font-size=\"14.00\" fill=\"#000000\">value = [0, 2]</text>\n",
       "<text text-anchor=\"middle\" x=\"2116.5\" y=\"-7.8\" font-family=\"Helvetica,sans-Serif\" font-size=\"14.00\" fill=\"#000000\">class = Churn</text>\n",
       "</g>\n",
       "<!-- 38&#45;&gt;40 -->\n",
       "<g id=\"edge40\" class=\"edge\">\n",
       "<title>38&#45;&gt;40</title>\n",
       "<path fill=\"none\" stroke=\"#000000\" d=\"M2051.8534,-103.9815C2060.3434,-94.7908 2069.3443,-85.0472 2077.8463,-75.8436\"/>\n",
       "<polygon fill=\"#000000\" stroke=\"#000000\" points=\"2080.6337,-77.9842 2084.8484,-68.2637 2075.4919,-73.2343 2080.6337,-77.9842\"/>\n",
       "</g>\n",
       "<!-- 43 -->\n",
       "<g id=\"node44\" class=\"node\">\n",
       "<title>43</title>\n",
       "<path fill=\"#a9d5f4\" stroke=\"#000000\" d=\"M2399.5,-187C2399.5,-187 2285.5,-187 2285.5,-187 2279.5,-187 2273.5,-181 2273.5,-175 2273.5,-175 2273.5,-116 2273.5,-116 2273.5,-110 2279.5,-104 2285.5,-104 2285.5,-104 2399.5,-104 2399.5,-104 2405.5,-104 2411.5,-110 2411.5,-116 2411.5,-116 2411.5,-175 2411.5,-175 2411.5,-181 2405.5,-187 2399.5,-187\"/>\n",
       "<text text-anchor=\"middle\" x=\"2342.5\" y=\"-171.8\" font-family=\"Helvetica,sans-Serif\" font-size=\"14.00\" fill=\"#000000\">DayMins &lt;= 174.25</text>\n",
       "<text text-anchor=\"middle\" x=\"2342.5\" y=\"-156.8\" font-family=\"Helvetica,sans-Serif\" font-size=\"14.00\" fill=\"#000000\">entropy = 0.94</text>\n",
       "<text text-anchor=\"middle\" x=\"2342.5\" y=\"-141.8\" font-family=\"Helvetica,sans-Serif\" font-size=\"14.00\" fill=\"#000000\">samples = 47</text>\n",
       "<text text-anchor=\"middle\" x=\"2342.5\" y=\"-126.8\" font-family=\"Helvetica,sans-Serif\" font-size=\"14.00\" fill=\"#000000\">value = [17, 30]</text>\n",
       "<text text-anchor=\"middle\" x=\"2342.5\" y=\"-111.8\" font-family=\"Helvetica,sans-Serif\" font-size=\"14.00\" fill=\"#000000\">class = Churn</text>\n",
       "</g>\n",
       "<!-- 42&#45;&gt;43 -->\n",
       "<g id=\"edge43\" class=\"edge\">\n",
       "<title>42&#45;&gt;43</title>\n",
       "<path fill=\"none\" stroke=\"#000000\" d=\"M2342.5,-222.8796C2342.5,-214.6838 2342.5,-205.9891 2342.5,-197.5013\"/>\n",
       "<polygon fill=\"#000000\" stroke=\"#000000\" points=\"2346.0001,-197.298 2342.5,-187.2981 2339.0001,-197.2981 2346.0001,-197.298\"/>\n",
       "</g>\n",
       "<!-- 46 -->\n",
       "<g id=\"node47\" class=\"node\">\n",
       "<title>46</title>\n",
       "<path fill=\"#e9965a\" stroke=\"#000000\" d=\"M2572.5,-187C2572.5,-187 2458.5,-187 2458.5,-187 2452.5,-187 2446.5,-181 2446.5,-175 2446.5,-175 2446.5,-116 2446.5,-116 2446.5,-110 2452.5,-104 2458.5,-104 2458.5,-104 2572.5,-104 2572.5,-104 2578.5,-104 2584.5,-110 2584.5,-116 2584.5,-116 2584.5,-175 2584.5,-175 2584.5,-181 2578.5,-187 2572.5,-187\"/>\n",
       "<text text-anchor=\"middle\" x=\"2515.5\" y=\"-171.8\" font-family=\"Helvetica,sans-Serif\" font-size=\"14.00\" fill=\"#000000\">DayMins &lt;= 286.55</text>\n",
       "<text text-anchor=\"middle\" x=\"2515.5\" y=\"-156.8\" font-family=\"Helvetica,sans-Serif\" font-size=\"14.00\" fill=\"#000000\">entropy = 0.59</text>\n",
       "<text text-anchor=\"middle\" x=\"2515.5\" y=\"-141.8\" font-family=\"Helvetica,sans-Serif\" font-size=\"14.00\" fill=\"#000000\">samples = 28</text>\n",
       "<text text-anchor=\"middle\" x=\"2515.5\" y=\"-126.8\" font-family=\"Helvetica,sans-Serif\" font-size=\"14.00\" fill=\"#000000\">value = [24, 4]</text>\n",
       "<text text-anchor=\"middle\" x=\"2515.5\" y=\"-111.8\" font-family=\"Helvetica,sans-Serif\" font-size=\"14.00\" fill=\"#000000\">class = Not churn</text>\n",
       "</g>\n",
       "<!-- 42&#45;&gt;46 -->\n",
       "<g id=\"edge46\" class=\"edge\">\n",
       "<title>42&#45;&gt;46</title>\n",
       "<path fill=\"none\" stroke=\"#000000\" d=\"M2403.007,-222.8796C2417.0982,-213.1868 2432.2039,-202.7961 2446.6269,-192.8752\"/>\n",
       "<polygon fill=\"#000000\" stroke=\"#000000\" points=\"2448.7717,-195.6479 2455.0272,-187.0969 2444.8045,-189.8806 2448.7717,-195.6479\"/>\n",
       "</g>\n",
       "<!-- 44 -->\n",
       "<g id=\"node45\" class=\"node\">\n",
       "<title>44</title>\n",
       "<path fill=\"#58ace9\" stroke=\"#000000\" d=\"M2279.5,-68C2279.5,-68 2197.5,-68 2197.5,-68 2191.5,-68 2185.5,-62 2185.5,-56 2185.5,-56 2185.5,-12 2185.5,-12 2185.5,-6 2191.5,0 2197.5,0 2197.5,0 2279.5,0 2279.5,0 2285.5,0 2291.5,-6 2291.5,-12 2291.5,-12 2291.5,-56 2291.5,-56 2291.5,-62 2285.5,-68 2279.5,-68\"/>\n",
       "<text text-anchor=\"middle\" x=\"2238.5\" y=\"-52.8\" font-family=\"Helvetica,sans-Serif\" font-size=\"14.00\" fill=\"#000000\">entropy = 0.57</text>\n",
       "<text text-anchor=\"middle\" x=\"2238.5\" y=\"-37.8\" font-family=\"Helvetica,sans-Serif\" font-size=\"14.00\" fill=\"#000000\">samples = 22</text>\n",
       "<text text-anchor=\"middle\" x=\"2238.5\" y=\"-22.8\" font-family=\"Helvetica,sans-Serif\" font-size=\"14.00\" fill=\"#000000\">value = [3, 19]</text>\n",
       "<text text-anchor=\"middle\" x=\"2238.5\" y=\"-7.8\" font-family=\"Helvetica,sans-Serif\" font-size=\"14.00\" fill=\"#000000\">class = Churn</text>\n",
       "</g>\n",
       "<!-- 43&#45;&gt;44 -->\n",
       "<g id=\"edge44\" class=\"edge\">\n",
       "<title>43&#45;&gt;44</title>\n",
       "<path fill=\"none\" stroke=\"#000000\" d=\"M2303.7742,-103.9815C2295.2018,-94.7908 2286.1135,-85.0472 2277.529,-75.8436\"/>\n",
       "<polygon fill=\"#000000\" stroke=\"#000000\" points=\"2279.8393,-73.1891 2270.4589,-68.2637 2274.7204,-77.9637 2279.8393,-73.1891\"/>\n",
       "</g>\n",
       "<!-- 45 -->\n",
       "<g id=\"node46\" class=\"node\">\n",
       "<title>45</title>\n",
       "<path fill=\"#f9e4d5\" stroke=\"#000000\" d=\"M2423,-68C2423,-68 2322,-68 2322,-68 2316,-68 2310,-62 2310,-56 2310,-56 2310,-12 2310,-12 2310,-6 2316,0 2322,0 2322,0 2423,0 2423,0 2429,0 2435,-6 2435,-12 2435,-12 2435,-56 2435,-56 2435,-62 2429,-68 2423,-68\"/>\n",
       "<text text-anchor=\"middle\" x=\"2372.5\" y=\"-52.8\" font-family=\"Helvetica,sans-Serif\" font-size=\"14.00\" fill=\"#000000\">entropy = 0.99</text>\n",
       "<text text-anchor=\"middle\" x=\"2372.5\" y=\"-37.8\" font-family=\"Helvetica,sans-Serif\" font-size=\"14.00\" fill=\"#000000\">samples = 25</text>\n",
       "<text text-anchor=\"middle\" x=\"2372.5\" y=\"-22.8\" font-family=\"Helvetica,sans-Serif\" font-size=\"14.00\" fill=\"#000000\">value = [14, 11]</text>\n",
       "<text text-anchor=\"middle\" x=\"2372.5\" y=\"-7.8\" font-family=\"Helvetica,sans-Serif\" font-size=\"14.00\" fill=\"#000000\">class = Not churn</text>\n",
       "</g>\n",
       "<!-- 43&#45;&gt;45 -->\n",
       "<g id=\"edge45\" class=\"edge\">\n",
       "<title>43&#45;&gt;45</title>\n",
       "<path fill=\"none\" stroke=\"#000000\" d=\"M2353.6709,-103.9815C2355.9459,-95.5261 2358.3468,-86.6026 2360.6447,-78.0623\"/>\n",
       "<polygon fill=\"#000000\" stroke=\"#000000\" points=\"2364.0626,-78.8296 2363.2811,-68.2637 2357.303,-77.0109 2364.0626,-78.8296\"/>\n",
       "</g>\n",
       "<!-- 47 -->\n",
       "<g id=\"node48\" class=\"node\">\n",
       "<title>47</title>\n",
       "<path fill=\"#e68641\" stroke=\"#000000\" d=\"M2566,-68C2566,-68 2465,-68 2465,-68 2459,-68 2453,-62 2453,-56 2453,-56 2453,-12 2453,-12 2453,-6 2459,0 2465,0 2465,0 2566,0 2566,0 2572,0 2578,-6 2578,-12 2578,-12 2578,-56 2578,-56 2578,-62 2572,-68 2566,-68\"/>\n",
       "<text text-anchor=\"middle\" x=\"2515.5\" y=\"-52.8\" font-family=\"Helvetica,sans-Serif\" font-size=\"14.00\" fill=\"#000000\">entropy = 0.24</text>\n",
       "<text text-anchor=\"middle\" x=\"2515.5\" y=\"-37.8\" font-family=\"Helvetica,sans-Serif\" font-size=\"14.00\" fill=\"#000000\">samples = 25</text>\n",
       "<text text-anchor=\"middle\" x=\"2515.5\" y=\"-22.8\" font-family=\"Helvetica,sans-Serif\" font-size=\"14.00\" fill=\"#000000\">value = [24, 1]</text>\n",
       "<text text-anchor=\"middle\" x=\"2515.5\" y=\"-7.8\" font-family=\"Helvetica,sans-Serif\" font-size=\"14.00\" fill=\"#000000\">class = Not churn</text>\n",
       "</g>\n",
       "<!-- 46&#45;&gt;47 -->\n",
       "<g id=\"edge47\" class=\"edge\">\n",
       "<title>46&#45;&gt;47</title>\n",
       "<path fill=\"none\" stroke=\"#000000\" d=\"M2515.5,-103.9815C2515.5,-95.618 2515.5,-86.7965 2515.5,-78.3409\"/>\n",
       "<polygon fill=\"#000000\" stroke=\"#000000\" points=\"2519.0001,-78.2636 2515.5,-68.2637 2512.0001,-78.2637 2519.0001,-78.2636\"/>\n",
       "</g>\n",
       "<!-- 48 -->\n",
       "<g id=\"node49\" class=\"node\">\n",
       "<title>48</title>\n",
       "<path fill=\"#399de5\" stroke=\"#000000\" d=\"M2686.5,-68C2686.5,-68 2608.5,-68 2608.5,-68 2602.5,-68 2596.5,-62 2596.5,-56 2596.5,-56 2596.5,-12 2596.5,-12 2596.5,-6 2602.5,0 2608.5,0 2608.5,0 2686.5,0 2686.5,0 2692.5,0 2698.5,-6 2698.5,-12 2698.5,-12 2698.5,-56 2698.5,-56 2698.5,-62 2692.5,-68 2686.5,-68\"/>\n",
       "<text text-anchor=\"middle\" x=\"2647.5\" y=\"-52.8\" font-family=\"Helvetica,sans-Serif\" font-size=\"14.00\" fill=\"#000000\">entropy = 0.0</text>\n",
       "<text text-anchor=\"middle\" x=\"2647.5\" y=\"-37.8\" font-family=\"Helvetica,sans-Serif\" font-size=\"14.00\" fill=\"#000000\">samples = 3</text>\n",
       "<text text-anchor=\"middle\" x=\"2647.5\" y=\"-22.8\" font-family=\"Helvetica,sans-Serif\" font-size=\"14.00\" fill=\"#000000\">value = [0, 3]</text>\n",
       "<text text-anchor=\"middle\" x=\"2647.5\" y=\"-7.8\" font-family=\"Helvetica,sans-Serif\" font-size=\"14.00\" fill=\"#000000\">class = Churn</text>\n",
       "</g>\n",
       "<!-- 46&#45;&gt;48 -->\n",
       "<g id=\"edge48\" class=\"edge\">\n",
       "<title>46&#45;&gt;48</title>\n",
       "<path fill=\"none\" stroke=\"#000000\" d=\"M2564.6519,-103.9815C2575.9676,-94.4232 2587.9913,-84.2668 2599.2675,-74.7419\"/>\n",
       "<polygon fill=\"#000000\" stroke=\"#000000\" points=\"2601.5559,-77.3904 2606.9367,-68.2637 2597.0388,-72.0429 2601.5559,-77.3904\"/>\n",
       "</g>\n",
       "</g>\n",
       "</svg>\n"
      ],
      "text/plain": [
       "<graphviz.files.Source at 0x1a1f69f650>"
      ]
     },
     "metadata": {},
     "output_type": "display_data"
    },
    {
     "data": {
      "text/plain": [
       "<Figure size 720x720 with 0 Axes>"
      ]
     },
     "metadata": {},
     "output_type": "display_data"
    }
   ],
   "source": [
    "from sklearn.tree import DecisionTreeClassifier\n",
    "from sklearn.tree import export_graphviz\n",
    "from sklearn import tree\n",
    "from graphviz import Source\n",
    "from IPython.display import SVG,display\n",
    "\n",
    "plt.figure(figsize=[10,10])\n",
    "\n",
    "clf_dt = DecisionTreeClassifier(max_depth=5,criterion='entropy',random_state=42)\n",
    "\n",
    "clf_dt.fit(X_train, y_train)\n",
    "\n",
    "y_pred = clf_dt.predict(X_test)\n",
    "score = accuracy_score(y_test,y_pred)\n",
    "\n",
    "print('Model accuracy : ', score)\n",
    "# setting performance parameters\n",
    "print(confusion_matrix(y_test,y_pred))  \n",
    "print(classification_report(y_test,y_pred))  \n",
    "print(accuracy_score(y_test, y_pred))\n",
    "\n",
    "#plot decision tree\n",
    "graph = Source(tree.export_graphviz(clf_dt,out_file=None,\n",
    "                                        rounded=True,proportion = False,\n",
    "                                        feature_names=X.columns,\n",
    "                                        precision  = 2,\n",
    "                                        class_names=[\"Not churn\",\"Churn\"],\n",
    "                                        filled = True                         \n",
    "                                       )\n",
    "                  )\n",
    "    \n",
    "display(graph)\n",
    "    \n"
   ]
  },
  {
   "cell_type": "code",
   "execution_count": 182,
   "metadata": {},
   "outputs": [],
   "source": [
    "### Finding the best set of parameters using cross-validation\n",
    "param_grid = {\n",
    "    'max_depth': [3,4,5,6,7,8],\n",
    "    'max_features':[0.5,0.6,0.7,0.8,0.9,1],\n",
    "    'min_samples_leaf': [3,4,5],\n",
    "    'min_samples_split' : [8,10,12],\n",
    "    'criterion' :['gini','entropy']\n",
    "}"
   ]
  },
  {
   "cell_type": "code",
   "execution_count": 183,
   "metadata": {},
   "outputs": [
    {
     "name": "stdout",
     "output_type": "stream",
     "text": [
      "Fitting 5 folds for each of 648 candidates, totalling 3240 fits\n"
     ]
    },
    {
     "name": "stderr",
     "output_type": "stream",
     "text": [
      "[Parallel(n_jobs=-1)]: Using backend LokyBackend with 4 concurrent workers.\n",
      "[Parallel(n_jobs=-1)]: Done  33 tasks      | elapsed:    5.9s\n",
      "[Parallel(n_jobs=-1)]: Done 492 tasks      | elapsed:   12.2s\n",
      "[Parallel(n_jobs=-1)]: Done 1304 tasks      | elapsed:   24.9s\n",
      "[Parallel(n_jobs=-1)]: Done 2436 tasks      | elapsed:   42.6s\n",
      "[Parallel(n_jobs=-1)]: Done 3240 out of 3240 | elapsed:   52.7s finished\n"
     ]
    },
    {
     "data": {
      "text/plain": [
       "{'criterion': 'gini',\n",
       " 'max_depth': 6,\n",
       " 'max_features': 0.9,\n",
       " 'min_samples_leaf': 5,\n",
       " 'min_samples_split': 12}"
      ]
     },
     "execution_count": 183,
     "metadata": {},
     "output_type": "execute_result"
    }
   ],
   "source": [
    "# Instantiate the grid search model\n",
    "clf_dt = DecisionTreeClassifier()\n",
    "grid_search = GridSearchCV(estimator = clf_dt, param_grid = param_grid, scoring='f1',\n",
    "                          cv = 5, n_jobs = -1, verbose = 2)\n",
    "\n",
    "### Scoring options: 1. 'f1' 2. 'f1_macro' 3. 'f1_weighted' 3. 'roc_auc' 4. 'precision' \n",
    "##  5. 'recall' 6. 'accuracy' 7. 'neg_log_loss'\n",
    "\n",
    "#Fit the grid search to the data\n",
    "grid_search.fit(X_train, y_train)\n",
    "### Find the best possible parameters\n",
    "grid_search.best_params_"
   ]
  },
  {
   "cell_type": "code",
   "execution_count": 184,
   "metadata": {},
   "outputs": [
    {
     "data": {
      "text/plain": [
       "0.7100065182339831"
      ]
     },
     "execution_count": 184,
     "metadata": {},
     "output_type": "execute_result"
    }
   ],
   "source": [
    "grid_search.best_score_"
   ]
  },
  {
   "cell_type": "code",
   "execution_count": 185,
   "metadata": {},
   "outputs": [
    {
     "name": "stdout",
     "output_type": "stream",
     "text": [
      "[[554  12]\n",
      " [ 40  61]]\n",
      "              precision    recall  f1-score   support\n",
      "\n",
      "           0       0.93      0.98      0.96       566\n",
      "           1       0.84      0.60      0.70       101\n",
      "\n",
      "    accuracy                           0.92       667\n",
      "   macro avg       0.88      0.79      0.83       667\n",
      "weighted avg       0.92      0.92      0.92       667\n",
      "\n",
      "0.9220389805097451\n"
     ]
    }
   ],
   "source": [
    "# define model with class weights either using proportion of classes in dataset or experts guidance.\n",
    "#weights = {0:1, 1:1}\n",
    "model = DecisionTreeClassifier(class_weight= None,criterion='entropy',max_depth= 7,max_features=0.9,min_samples_leaf=3,min_samples_split=10,random_state=42)\n",
    "model.fit(X_train,y_train)\n",
    "y_pred = model.predict(X_test)\n",
    "print(confusion_matrix(y_test, y_pred))\n",
    "print(classification_report(y_test, y_pred))\n",
    "print(accuracy_score(y_test, y_pred))"
   ]
  },
  {
   "cell_type": "code",
   "execution_count": 141,
   "metadata": {},
   "outputs": [],
   "source": [
    "# 4. Random Forest"
   ]
  },
  {
   "cell_type": "code",
   "execution_count": 142,
   "metadata": {},
   "outputs": [
    {
     "name": "stdout",
     "output_type": "stream",
     "text": [
      "[[561   5]\n",
      " [ 45  56]]\n",
      "              precision    recall  f1-score   support\n",
      "\n",
      "           0       0.93      0.99      0.96       566\n",
      "           1       0.92      0.55      0.69       101\n",
      "\n",
      "    accuracy                           0.93       667\n",
      "   macro avg       0.92      0.77      0.82       667\n",
      "weighted avg       0.92      0.93      0.92       667\n",
      "\n",
      "0.9250374812593704\n"
     ]
    }
   ],
   "source": [
    "rf = RandomForestClassifier()\n",
    "rf.fit(X_train,y_train)\n",
    "y_pred = rf.predict(X_test)\n",
    "print(confusion_matrix(y_test, y_pred))\n",
    "print(classification_report(y_test, y_pred))\n",
    "print(accuracy_score(y_test, y_pred))"
   ]
  },
  {
   "cell_type": "code",
   "execution_count": 143,
   "metadata": {},
   "outputs": [
    {
     "name": "stdout",
     "output_type": "stream",
     "text": [
      "[[553  13]\n",
      " [ 32  69]]\n",
      "              precision    recall  f1-score   support\n",
      "\n",
      "           0       0.95      0.98      0.96       566\n",
      "           1       0.84      0.68      0.75       101\n",
      "\n",
      "    accuracy                           0.93       667\n",
      "   macro avg       0.89      0.83      0.86       667\n",
      "weighted avg       0.93      0.93      0.93       667\n",
      "\n",
      "0.9325337331334332\n"
     ]
    }
   ],
   "source": [
    "# define model with class weights either using proportion of classes in dataset or experts guidance.\n",
    "weights = {0:1, 1:2}\n",
    "model = RandomForestClassifier(class_weight=weights,bootstrap=True,max_depth= 7,max_features=0.9,min_samples_leaf=4,min_samples_split=10,n_estimators=200, max_samples=0.7,random_state=42)\n",
    "model.fit(X_train,y_train)\n",
    "y_pred = model.predict(X_test)\n",
    "print(confusion_matrix(y_test, y_pred))\n",
    "print(classification_report(y_test, y_pred))\n",
    "print(accuracy_score(y_test, y_pred))"
   ]
  },
  {
   "cell_type": "code",
   "execution_count": 144,
   "metadata": {},
   "outputs": [],
   "source": [
    "# RF with SMOTE"
   ]
  },
  {
   "cell_type": "code",
   "execution_count": 145,
   "metadata": {},
   "outputs": [],
   "source": [
    "X_res, y_res = over.fit_resample(X_train, y_train)"
   ]
  },
  {
   "cell_type": "code",
   "execution_count": 146,
   "metadata": {},
   "outputs": [
    {
     "name": "stdout",
     "output_type": "stream",
     "text": [
      "[[531  35]\n",
      " [ 27  74]]\n",
      "              precision    recall  f1-score   support\n",
      "\n",
      "           0       0.95      0.94      0.94       566\n",
      "           1       0.68      0.73      0.70       101\n",
      "\n",
      "    accuracy                           0.91       667\n",
      "   macro avg       0.82      0.84      0.82       667\n",
      "weighted avg       0.91      0.91      0.91       667\n",
      "\n",
      "0.9070464767616192\n"
     ]
    }
   ],
   "source": [
    "# define model with class weights either using proportion of classes in dataset or experts guidance.\n",
    "weights = {0:1, 1:2}\n",
    "model = RandomForestClassifier(class_weight=weights,bootstrap=True,max_depth= 7,max_features=0.9,min_samples_leaf=4,min_samples_split=10,n_estimators=200, max_samples=0.7,random_state=42)\n",
    "model.fit(X_res,y_res)\n",
    "y_pred = model.predict(X_test)\n",
    "print(confusion_matrix(y_test, y_pred))\n",
    "print(classification_report(y_test, y_pred))\n",
    "print(accuracy_score(y_test, y_pred))"
   ]
  },
  {
   "cell_type": "code",
   "execution_count": 147,
   "metadata": {},
   "outputs": [],
   "source": [
    "# 5. XGBoost (Uses SMOTE)"
   ]
  },
  {
   "cell_type": "code",
   "execution_count": 148,
   "metadata": {},
   "outputs": [
    {
     "name": "stdout",
     "output_type": "stream",
     "text": [
      "[[550  16]\n",
      " [ 31  70]]\n",
      "              precision    recall  f1-score   support\n",
      "\n",
      "           0       0.95      0.97      0.96       566\n",
      "           1       0.81      0.69      0.75       101\n",
      "\n",
      "    accuracy                           0.93       667\n",
      "   macro avg       0.88      0.83      0.85       667\n",
      "weighted avg       0.93      0.93      0.93       667\n",
      "\n",
      "0.9295352323838081\n"
     ]
    }
   ],
   "source": [
    "from xgboost import XGBClassifier\n",
    "\n",
    "xgc = XGBClassifier(base_score=0.5, booster='gbtree', colsample_bylevel=1,\n",
    "                    colsample_bytree=1, gamma=0, learning_rate=0.9, max_delta_step=0,\n",
    "                    max_depth = 9, min_child_weight=1, missing=None, n_estimators=200,\n",
    "                    n_jobs=1, nthread=None, objective='binary:logistic', random_state=42,\n",
    "                    reg_alpha=0, reg_lambda=1, scale_pos_weight=1, seed=None,\n",
    "                    silent=True, subsample=1)\n",
    "\n",
    "\n",
    "X_res, y_res = over.fit_resample(X_train, y_train)\n",
    "xgc.fit(X_res,y_res)\n",
    "\n",
    "#telecom_churn_prediction(xgc,X_res,X_test,y_res,y_test,\n",
    " #                        cols,\"features\",threshold_plot = True)\n",
    "y_pred = xgc.predict(X_test)\n",
    "\n",
    "print(confusion_matrix(y_test,y_pred))  \n",
    "print(classification_report(y_test,y_pred))  \n",
    "print(accuracy_score(y_test, y_pred)) "
   ]
  },
  {
   "cell_type": "code",
   "execution_count": 149,
   "metadata": {},
   "outputs": [],
   "source": [
    "# 6. LGBM Classifier (uses SMOTE)"
   ]
  },
  {
   "cell_type": "code",
   "execution_count": 150,
   "metadata": {},
   "outputs": [
    {
     "name": "stdout",
     "output_type": "stream",
     "text": [
      "[[549  17]\n",
      " [ 37  64]]\n",
      "              precision    recall  f1-score   support\n",
      "\n",
      "           0       0.94      0.97      0.95       566\n",
      "           1       0.79      0.63      0.70       101\n",
      "\n",
      "    accuracy                           0.92       667\n",
      "   macro avg       0.86      0.80      0.83       667\n",
      "weighted avg       0.91      0.92      0.92       667\n",
      "\n",
      "0.9190404797601199\n"
     ]
    }
   ],
   "source": [
    "from lightgbm import LGBMClassifier\n",
    "\n",
    "lgbm_c = LGBMClassifier(boosting_type='gbdt', class_weight=None, colsample_bytree=1.0,\n",
    "                        learning_rate=0.5, max_depth=9, min_child_samples=20,\n",
    "                        min_child_weight=0.001, min_split_gain=0.0, n_estimators=200,\n",
    "                        n_jobs=-1, num_leaves=500, objective='binary', random_state=42,\n",
    "                        reg_alpha=0.0, reg_lambda=0.0, silent=True, subsample=1.0,\n",
    "                        subsample_for_bin=200000, subsample_freq=0)\n",
    "\n",
    "lgbm_c.fit(X_res,y_res)\n",
    "\n",
    "y_pred = lgbm_c.predict(X_test)\n",
    "\n",
    "print(confusion_matrix(y_test,y_pred))  \n",
    "print(classification_report(y_test,y_pred))  \n",
    "print(accuracy_score(y_test, y_pred)) "
   ]
  },
  {
   "cell_type": "code",
   "execution_count": 151,
   "metadata": {},
   "outputs": [],
   "source": [
    "# 7. KNN Classifier"
   ]
  },
  {
   "cell_type": "code",
   "execution_count": 152,
   "metadata": {},
   "outputs": [],
   "source": [
    "#import the KNeighborsClassifier class from sklearn\n",
    "from sklearn.neighbors import KNeighborsClassifier\n",
    "\n",
    "#import metrics model to check the accuracy \n",
    "from sklearn import metrics \n",
    "from sklearn.metrics import accuracy_score, confusion_matrix\n",
    "from sklearn.metrics import classification_report \n",
    "#Try running from k=1 through 25 and record testing accuracy\n",
    "k_range = range(1,26)\n",
    "scores = {}\n",
    "scores_list = []\n",
    "for k in k_range:\n",
    "        knn = KNeighborsClassifier(n_neighbors=k)\n",
    "        knn.fit(X_train,y_train)\n",
    "        y_pred=knn.predict(X_test)\n",
    "        scores[k] = metrics.f1_score(y_test,y_pred)\n",
    "        scores_list.append(metrics.f1_score(y_test,y_pred))"
   ]
  },
  {
   "cell_type": "code",
   "execution_count": 153,
   "metadata": {},
   "outputs": [
    {
     "data": {
      "text/plain": [
       "{1: 0.3465346534653465,\n",
       " 2: 0.30656934306569344,\n",
       " 3: 0.39999999999999997,\n",
       " 4: 0.34074074074074073,\n",
       " 5: 0.41379310344827586,\n",
       " 6: 0.3308270676691729,\n",
       " 7: 0.3795620437956204,\n",
       " 8: 0.3015873015873016,\n",
       " 9: 0.3851851851851852,\n",
       " 10: 0.3174603174603175,\n",
       " 11: 0.3582089552238806,\n",
       " 12: 0.29032258064516125,\n",
       " 13: 0.33587786259541985,\n",
       " 14: 0.29032258064516125,\n",
       " 15: 0.3384615384615385,\n",
       " 16: 0.23529411764705885,\n",
       " 17: 0.3174603174603175,\n",
       " 18: 0.2926829268292683,\n",
       " 19: 0.3464566929133858,\n",
       " 20: 0.30894308943089427,\n",
       " 21: 0.336,\n",
       " 22: 0.2809917355371901,\n",
       " 23: 0.3225806451612903,\n",
       " 24: 0.30894308943089427,\n",
       " 25: 0.3225806451612903}"
      ]
     },
     "execution_count": 153,
     "metadata": {},
     "output_type": "execute_result"
    }
   ],
   "source": [
    "scores"
   ]
  },
  {
   "cell_type": "code",
   "execution_count": 154,
   "metadata": {},
   "outputs": [
    {
     "data": {
      "text/plain": [
       "Text(0, 0.5, 'Positive class f score')"
      ]
     },
     "execution_count": 154,
     "metadata": {},
     "output_type": "execute_result"
    },
    {
     "data": {
      "image/png": "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\n",
      "text/plain": [
       "<Figure size 432x288 with 1 Axes>"
      ]
     },
     "metadata": {
      "needs_background": "light"
     },
     "output_type": "display_data"
    }
   ],
   "source": [
    "%matplotlib inline\n",
    "import matplotlib.pyplot as plt\n",
    "\n",
    "#plot the relationship between K and the testing accuracy\n",
    "plt.plot(k_range,scores_list)\n",
    "plt.xlabel('Value of K for KNN')\n",
    "plt.ylabel('Positive class f score')"
   ]
  },
  {
   "cell_type": "code",
   "execution_count": 155,
   "metadata": {},
   "outputs": [
    {
     "name": "stdout",
     "output_type": "stream",
     "text": [
      "[[552  14]\n",
      " [ 71  30]]\n",
      "              precision    recall  f1-score   support\n",
      "\n",
      "           0       0.89      0.98      0.93       566\n",
      "           1       0.68      0.30      0.41       101\n",
      "\n",
      "    accuracy                           0.87       667\n",
      "   macro avg       0.78      0.64      0.67       667\n",
      "weighted avg       0.86      0.87      0.85       667\n",
      "\n",
      "0.8725637181409296\n"
     ]
    }
   ],
   "source": [
    "knn = KNeighborsClassifier(n_neighbors=5)\n",
    "knn.fit(X_train,y_train)\n",
    "y_pred=knn.predict(X_test)\n",
    "print(confusion_matrix(y_test, y_pred))\n",
    "print(classification_report(y_test,y_pred)) \n",
    "print(accuracy_score(y_test, y_pred))\n",
    "\n"
   ]
  },
  {
   "cell_type": "code",
   "execution_count": 156,
   "metadata": {},
   "outputs": [],
   "source": [
    "### 8. Navie Bayes algorithm"
   ]
  },
  {
   "cell_type": "code",
   "execution_count": 157,
   "metadata": {},
   "outputs": [],
   "source": [
    "from sklearn.naive_bayes import GaussianNB\n",
    "from sklearn import model_selection"
   ]
  },
  {
   "cell_type": "code",
   "execution_count": 158,
   "metadata": {},
   "outputs": [
    {
     "name": "stdout",
     "output_type": "stream",
     "text": [
      "[[522  44]\n",
      " [ 66  35]]\n",
      "              precision    recall  f1-score   support\n",
      "\n",
      "           0       0.89      0.92      0.90       566\n",
      "           1       0.44      0.35      0.39       101\n",
      "\n",
      "    accuracy                           0.84       667\n",
      "   macro avg       0.67      0.63      0.65       667\n",
      "weighted avg       0.82      0.84      0.83       667\n",
      "\n",
      "0.8350824587706147\n"
     ]
    }
   ],
   "source": [
    "# Initialize Gaussian Naive Bayes\n",
    "gnb = GaussianNB()\n",
    "seed=7\n",
    "\n",
    "# Test options and evaluation metric\n",
    "scoring = 'accuracy'\n",
    "\n",
    "# Fitting the training set\n",
    "gnb.fit(X_train, y_train)\n",
    "\n",
    "# Predicting for the Test Set\n",
    "y_pred = gnb.predict(X_test)\n",
    "\n",
    "# Prediction Probability\n",
    "prob_pos_clf = gnb.predict_proba(X_test)[:, 1]\n",
    "\n",
    "# Model Performance\n",
    "# setting performance parameters\n",
    "print(confusion_matrix(y_test,y_pred))  \n",
    "print(classification_report(y_test,y_pred))  \n",
    "print(accuracy_score(y_test, y_pred))  "
   ]
  },
  {
   "cell_type": "code",
   "execution_count": 159,
   "metadata": {},
   "outputs": [],
   "source": [
    "# 9 SVM Classifier - Linear"
   ]
  },
  {
   "cell_type": "code",
   "execution_count": 160,
   "metadata": {},
   "outputs": [],
   "source": [
    "from sklearn.preprocessing import StandardScaler\n",
    "scaler = StandardScaler()\n",
    "X_train = scaler.fit_transform(X_train)\n",
    "X_test = scaler.fit_transform(X_test)"
   ]
  },
  {
   "cell_type": "code",
   "execution_count": 161,
   "metadata": {},
   "outputs": [
    {
     "name": "stdout",
     "output_type": "stream",
     "text": [
      "[[559   7]\n",
      " [ 88  13]]\n",
      "              precision    recall  f1-score   support\n",
      "\n",
      "           0       0.86      0.99      0.92       566\n",
      "           1       0.65      0.13      0.21       101\n",
      "\n",
      "    accuracy                           0.86       667\n",
      "   macro avg       0.76      0.56      0.57       667\n",
      "weighted avg       0.83      0.86      0.81       667\n",
      "\n",
      "0.8575712143928036\n"
     ]
    }
   ],
   "source": [
    "from sklearn.svm import SVC\n",
    "from sklearn.calibration import CalibratedClassifierCV\n",
    "from sklearn.svm import LinearSVC\n",
    "\n",
    "\n",
    "svc_lin = LinearSVC(random_state=0, tol=1e-4,max_iter=10000)\n",
    "svc_lin.fit(X_train, y_train) \n",
    "\n",
    "\n",
    "#model_svc = SVC(kernel='linear',probability=True)\n",
    "#svc_lin = CalibratedClassifierCV(model_svc) \n",
    "#svc_lin.fit(X_train, y_train)\n",
    "\n",
    "\n",
    "\n",
    "#svc_lin = SVC(kernel='linear',probability=True)\n",
    "#svc_lin.fit(X_train, y_train)\n",
    "y_pred = svc_lin.predict(X_test)\n",
    "print(confusion_matrix(y_test,y_pred))  \n",
    "print(classification_report(y_test,y_pred))  \n",
    "print(accuracy_score(y_test, y_pred)) "
   ]
  },
  {
   "cell_type": "code",
   "execution_count": 162,
   "metadata": {},
   "outputs": [],
   "source": [
    "# 10 SVM Classifier - rbf"
   ]
  },
  {
   "cell_type": "code",
   "execution_count": 163,
   "metadata": {},
   "outputs": [
    {
     "name": "stdout",
     "output_type": "stream",
     "text": [
      "[[558   8]\n",
      " [ 46  55]]\n",
      "              precision    recall  f1-score   support\n",
      "\n",
      "           0       0.92      0.99      0.95       566\n",
      "           1       0.87      0.54      0.67       101\n",
      "\n",
      "    accuracy                           0.92       667\n",
      "   macro avg       0.90      0.77      0.81       667\n",
      "weighted avg       0.92      0.92      0.91       667\n",
      "\n",
      "0.9190404797601199\n"
     ]
    }
   ],
   "source": [
    "from sklearn.svm import SVC\n",
    "model_svc_rbf = SVC(kernel='rbf')\n",
    "svc_rbf = CalibratedClassifierCV(model_svc_rbf) \n",
    "svc_rbf.fit(scaler.fit_transform(X_train), y_train)\n",
    "\n",
    "\n",
    "y_pred = svc_rbf.predict(scaler.fit_transform(X_test))\n",
    "print(confusion_matrix(y_test,y_pred))  \n",
    "print(classification_report(y_test,y_pred))  \n",
    "print(accuracy_score(y_test, y_pred)) "
   ]
  },
  {
   "cell_type": "code",
   "execution_count": 164,
   "metadata": {},
   "outputs": [],
   "source": [
    "# Model Performance"
   ]
  },
  {
   "cell_type": "code",
   "execution_count": 165,
   "metadata": {},
   "outputs": [
    {
     "name": "stderr",
     "output_type": "stream",
     "text": [
      "/Users/sameer/opt/anaconda3/lib/python3.7/site-packages/sklearn/svm/_base.py:977: ConvergenceWarning:\n",
      "\n",
      "Liblinear failed to converge, increase the number of iterations.\n",
      "\n"
     ]
    },
    {
     "data": {
      "application/vnd.plotly.v1+json": {
       "config": {
        "linkText": "Export to plot.ly",
        "plotlyServerURL": "https://plot.ly",
        "showLink": false
       },
       "data": [
        {
         "colorscale": [
          [
           0,
           "#00083e"
          ],
          [
           0.5,
           "#ededee"
          ],
          [
           1,
           "#ffffff"
          ]
         ],
         "hoverinfo": "none",
         "opacity": 0.75,
         "showscale": false,
         "type": "heatmap",
         "z": [
          [
           0,
           0,
           0,
           0,
           0,
           0,
           0
          ],
          [
           0.5,
           0.5,
           0.5,
           0.5,
           0.5,
           0.5,
           0.5
          ],
          [
           1,
           1,
           1,
           1,
           1,
           1,
           1
          ],
          [
           0.5,
           0.5,
           0.5,
           0.5,
           0.5,
           0.5,
           0.5
          ],
          [
           1,
           1,
           1,
           1,
           1,
           1,
           1
          ],
          [
           0.5,
           0.5,
           0.5,
           0.5,
           0.5,
           0.5,
           0.5
          ],
          [
           1,
           1,
           1,
           1,
           1,
           1,
           1
          ],
          [
           0.5,
           0.5,
           0.5,
           0.5,
           0.5,
           0.5,
           0.5
          ],
          [
           1,
           1,
           1,
           1,
           1,
           1,
           1
          ],
          [
           0.5,
           0.5,
           0.5,
           0.5,
           0.5,
           0.5,
           0.5
          ],
          [
           1,
           1,
           1,
           1,
           1,
           1,
           1
          ]
         ]
        }
       ],
       "layout": {
        "annotations": [
         {
          "align": "left",
          "font": {
           "color": "#ffffff"
          },
          "showarrow": false,
          "text": "<b>Model</b>",
          "x": -0.45,
          "xanchor": "left",
          "xref": "x",
          "y": 0,
          "yref": "y"
         },
         {
          "align": "left",
          "font": {
           "color": "#ffffff"
          },
          "showarrow": false,
          "text": "<b>Accuracy_score</b>",
          "x": 0.55,
          "xanchor": "left",
          "xref": "x",
          "y": 0,
          "yref": "y"
         },
         {
          "align": "left",
          "font": {
           "color": "#ffffff"
          },
          "showarrow": false,
          "text": "<b>Recall_score</b>",
          "x": 1.55,
          "xanchor": "left",
          "xref": "x",
          "y": 0,
          "yref": "y"
         },
         {
          "align": "left",
          "font": {
           "color": "#ffffff"
          },
          "showarrow": false,
          "text": "<b>Precision</b>",
          "x": 2.55,
          "xanchor": "left",
          "xref": "x",
          "y": 0,
          "yref": "y"
         },
         {
          "align": "left",
          "font": {
           "color": "#ffffff"
          },
          "showarrow": false,
          "text": "<b>f1_score</b>",
          "x": 3.55,
          "xanchor": "left",
          "xref": "x",
          "y": 0,
          "yref": "y"
         },
         {
          "align": "left",
          "font": {
           "color": "#ffffff"
          },
          "showarrow": false,
          "text": "<b>Area_under_curve</b>",
          "x": 4.55,
          "xanchor": "left",
          "xref": "x",
          "y": 0,
          "yref": "y"
         },
         {
          "align": "left",
          "font": {
           "color": "#ffffff"
          },
          "showarrow": false,
          "text": "<b>Kappa_metric</b>",
          "x": 5.55,
          "xanchor": "left",
          "xref": "x",
          "y": 0,
          "yref": "y"
         },
         {
          "align": "left",
          "font": {
           "color": "#000000"
          },
          "showarrow": false,
          "text": "Logistic Regression",
          "x": -0.45,
          "xanchor": "left",
          "xref": "x",
          "y": 1,
          "yref": "y"
         },
         {
          "align": "left",
          "font": {
           "color": "#000000"
          },
          "showarrow": false,
          "text": "0.8591",
          "x": 0.55,
          "xanchor": "left",
          "xref": "x",
          "y": 1,
          "yref": "y"
         },
         {
          "align": "left",
          "font": {
           "color": "#000000"
          },
          "showarrow": false,
          "text": "0.1881",
          "x": 1.55,
          "xanchor": "left",
          "xref": "x",
          "y": 1,
          "yref": "y"
         },
         {
          "align": "left",
          "font": {
           "color": "#000000"
          },
          "showarrow": false,
          "text": "0.6129",
          "x": 2.55,
          "xanchor": "left",
          "xref": "x",
          "y": 1,
          "yref": "y"
         },
         {
          "align": "left",
          "font": {
           "color": "#000000"
          },
          "showarrow": false,
          "text": "0.2879",
          "x": 3.55,
          "xanchor": "left",
          "xref": "x",
          "y": 1,
          "yref": "y"
         },
         {
          "align": "left",
          "font": {
           "color": "#000000"
          },
          "showarrow": false,
          "text": "0.5835",
          "x": 4.55,
          "xanchor": "left",
          "xref": "x",
          "y": 1,
          "yref": "y"
         },
         {
          "align": "left",
          "font": {
           "color": "#000000"
          },
          "showarrow": false,
          "text": "0.2334",
          "x": 5.55,
          "xanchor": "left",
          "xref": "x",
          "y": 1,
          "yref": "y"
         },
         {
          "align": "left",
          "font": {
           "color": "#000000"
          },
          "showarrow": false,
          "text": "Logistic Reg (SMOTE)",
          "x": -0.45,
          "xanchor": "left",
          "xref": "x",
          "y": 2,
          "yref": "y"
         },
         {
          "align": "left",
          "font": {
           "color": "#000000"
          },
          "showarrow": false,
          "text": "0.8501",
          "x": 0.55,
          "xanchor": "left",
          "xref": "x",
          "y": 2,
          "yref": "y"
         },
         {
          "align": "left",
          "font": {
           "color": "#000000"
          },
          "showarrow": false,
          "text": "0.2277",
          "x": 1.55,
          "xanchor": "left",
          "xref": "x",
          "y": 2,
          "yref": "y"
         },
         {
          "align": "left",
          "font": {
           "color": "#000000"
          },
          "showarrow": false,
          "text": "0.5111",
          "x": 2.55,
          "xanchor": "left",
          "xref": "x",
          "y": 2,
          "yref": "y"
         },
         {
          "align": "left",
          "font": {
           "color": "#000000"
          },
          "showarrow": false,
          "text": "0.3151",
          "x": 3.55,
          "xanchor": "left",
          "xref": "x",
          "y": 2,
          "yref": "y"
         },
         {
          "align": "left",
          "font": {
           "color": "#000000"
          },
          "showarrow": false,
          "text": "0.5944",
          "x": 4.55,
          "xanchor": "left",
          "xref": "x",
          "y": 2,
          "yref": "y"
         },
         {
          "align": "left",
          "font": {
           "color": "#000000"
          },
          "showarrow": false,
          "text": "0.2446",
          "x": 5.55,
          "xanchor": "left",
          "xref": "x",
          "y": 2,
          "yref": "y"
         },
         {
          "align": "left",
          "font": {
           "color": "#000000"
          },
          "showarrow": false,
          "text": "Naive Bayes",
          "x": -0.45,
          "xanchor": "left",
          "xref": "x",
          "y": 3,
          "yref": "y"
         },
         {
          "align": "left",
          "font": {
           "color": "#000000"
          },
          "showarrow": false,
          "text": "0.8351",
          "x": 0.55,
          "xanchor": "left",
          "xref": "x",
          "y": 3,
          "yref": "y"
         },
         {
          "align": "left",
          "font": {
           "color": "#000000"
          },
          "showarrow": false,
          "text": "0.3465",
          "x": 1.55,
          "xanchor": "left",
          "xref": "x",
          "y": 3,
          "yref": "y"
         },
         {
          "align": "left",
          "font": {
           "color": "#000000"
          },
          "showarrow": false,
          "text": "0.443",
          "x": 2.55,
          "xanchor": "left",
          "xref": "x",
          "y": 3,
          "yref": "y"
         },
         {
          "align": "left",
          "font": {
           "color": "#000000"
          },
          "showarrow": false,
          "text": "0.3889",
          "x": 3.55,
          "xanchor": "left",
          "xref": "x",
          "y": 3,
          "yref": "y"
         },
         {
          "align": "left",
          "font": {
           "color": "#000000"
          },
          "showarrow": false,
          "text": "0.6344",
          "x": 4.55,
          "xanchor": "left",
          "xref": "x",
          "y": 3,
          "yref": "y"
         },
         {
          "align": "left",
          "font": {
           "color": "#000000"
          },
          "showarrow": false,
          "text": "0.2952",
          "x": 5.55,
          "xanchor": "left",
          "xref": "x",
          "y": 3,
          "yref": "y"
         },
         {
          "align": "left",
          "font": {
           "color": "#000000"
          },
          "showarrow": false,
          "text": "Decision Tree",
          "x": -0.45,
          "xanchor": "left",
          "xref": "x",
          "y": 4,
          "yref": "y"
         },
         {
          "align": "left",
          "font": {
           "color": "#000000"
          },
          "showarrow": false,
          "text": "0.9205",
          "x": 0.55,
          "xanchor": "left",
          "xref": "x",
          "y": 4,
          "yref": "y"
         },
         {
          "align": "left",
          "font": {
           "color": "#000000"
          },
          "showarrow": false,
          "text": "0.604",
          "x": 1.55,
          "xanchor": "left",
          "xref": "x",
          "y": 4,
          "yref": "y"
         },
         {
          "align": "left",
          "font": {
           "color": "#000000"
          },
          "showarrow": false,
          "text": "0.8243",
          "x": 2.55,
          "xanchor": "left",
          "xref": "x",
          "y": 4,
          "yref": "y"
         },
         {
          "align": "left",
          "font": {
           "color": "#000000"
          },
          "showarrow": false,
          "text": "0.6971",
          "x": 3.55,
          "xanchor": "left",
          "xref": "x",
          "y": 4,
          "yref": "y"
         },
         {
          "align": "left",
          "font": {
           "color": "#000000"
          },
          "showarrow": false,
          "text": "0.7905",
          "x": 4.55,
          "xanchor": "left",
          "xref": "x",
          "y": 4,
          "yref": "y"
         },
         {
          "align": "left",
          "font": {
           "color": "#000000"
          },
          "showarrow": false,
          "text": "0.6527",
          "x": 5.55,
          "xanchor": "left",
          "xref": "x",
          "y": 4,
          "yref": "y"
         },
         {
          "align": "left",
          "font": {
           "color": "#000000"
          },
          "showarrow": false,
          "text": "KNN Classifier",
          "x": -0.45,
          "xanchor": "left",
          "xref": "x",
          "y": 5,
          "yref": "y"
         },
         {
          "align": "left",
          "font": {
           "color": "#000000"
          },
          "showarrow": false,
          "text": "0.8726",
          "x": 0.55,
          "xanchor": "left",
          "xref": "x",
          "y": 5,
          "yref": "y"
         },
         {
          "align": "left",
          "font": {
           "color": "#000000"
          },
          "showarrow": false,
          "text": "0.297",
          "x": 1.55,
          "xanchor": "left",
          "xref": "x",
          "y": 5,
          "yref": "y"
         },
         {
          "align": "left",
          "font": {
           "color": "#000000"
          },
          "showarrow": false,
          "text": "0.6818",
          "x": 2.55,
          "xanchor": "left",
          "xref": "x",
          "y": 5,
          "yref": "y"
         },
         {
          "align": "left",
          "font": {
           "color": "#000000"
          },
          "showarrow": false,
          "text": "0.4138",
          "x": 3.55,
          "xanchor": "left",
          "xref": "x",
          "y": 5,
          "yref": "y"
         },
         {
          "align": "left",
          "font": {
           "color": "#000000"
          },
          "showarrow": false,
          "text": "0.6361",
          "x": 4.55,
          "xanchor": "left",
          "xref": "x",
          "y": 5,
          "yref": "y"
         },
         {
          "align": "left",
          "font": {
           "color": "#000000"
          },
          "showarrow": false,
          "text": "0.3545",
          "x": 5.55,
          "xanchor": "left",
          "xref": "x",
          "y": 5,
          "yref": "y"
         },
         {
          "align": "left",
          "font": {
           "color": "#000000"
          },
          "showarrow": false,
          "text": "Random Forest CF",
          "x": -0.45,
          "xanchor": "left",
          "xref": "x",
          "y": 6,
          "yref": "y"
         },
         {
          "align": "left",
          "font": {
           "color": "#000000"
          },
          "showarrow": false,
          "text": "0.9325",
          "x": 0.55,
          "xanchor": "left",
          "xref": "x",
          "y": 6,
          "yref": "y"
         },
         {
          "align": "left",
          "font": {
           "color": "#000000"
          },
          "showarrow": false,
          "text": "0.6832",
          "x": 1.55,
          "xanchor": "left",
          "xref": "x",
          "y": 6,
          "yref": "y"
         },
         {
          "align": "left",
          "font": {
           "color": "#000000"
          },
          "showarrow": false,
          "text": "0.8415",
          "x": 2.55,
          "xanchor": "left",
          "xref": "x",
          "y": 6,
          "yref": "y"
         },
         {
          "align": "left",
          "font": {
           "color": "#000000"
          },
          "showarrow": false,
          "text": "0.7541",
          "x": 3.55,
          "xanchor": "left",
          "xref": "x",
          "y": 6,
          "yref": "y"
         },
         {
          "align": "left",
          "font": {
           "color": "#000000"
          },
          "showarrow": false,
          "text": "0.8301",
          "x": 4.55,
          "xanchor": "left",
          "xref": "x",
          "y": 6,
          "yref": "y"
         },
         {
          "align": "left",
          "font": {
           "color": "#000000"
          },
          "showarrow": false,
          "text": "0.7155",
          "x": 5.55,
          "xanchor": "left",
          "xref": "x",
          "y": 6,
          "yref": "y"
         },
         {
          "align": "left",
          "font": {
           "color": "#000000"
          },
          "showarrow": false,
          "text": "SVM Classifier Linear",
          "x": -0.45,
          "xanchor": "left",
          "xref": "x",
          "y": 7,
          "yref": "y"
         },
         {
          "align": "left",
          "font": {
           "color": "#000000"
          },
          "showarrow": false,
          "text": "0.8426",
          "x": 0.55,
          "xanchor": "left",
          "xref": "x",
          "y": 7,
          "yref": "y"
         },
         {
          "align": "left",
          "font": {
           "color": "#000000"
          },
          "showarrow": false,
          "text": "0.3861",
          "x": 1.55,
          "xanchor": "left",
          "xref": "x",
          "y": 7,
          "yref": "y"
         },
         {
          "align": "left",
          "font": {
           "color": "#000000"
          },
          "showarrow": false,
          "text": "0.4756",
          "x": 2.55,
          "xanchor": "left",
          "xref": "x",
          "y": 7,
          "yref": "y"
         },
         {
          "align": "left",
          "font": {
           "color": "#000000"
          },
          "showarrow": false,
          "text": "0.4262",
          "x": 3.55,
          "xanchor": "left",
          "xref": "x",
          "y": 7,
          "yref": "y"
         },
         {
          "align": "left",
          "font": {
           "color": "#000000"
          },
          "showarrow": false,
          "text": "0.6551",
          "x": 4.55,
          "xanchor": "left",
          "xref": "x",
          "y": 7,
          "yref": "y"
         },
         {
          "align": "left",
          "font": {
           "color": "#000000"
          },
          "showarrow": false,
          "text": "0.3361",
          "x": 5.55,
          "xanchor": "left",
          "xref": "x",
          "y": 7,
          "yref": "y"
         },
         {
          "align": "left",
          "font": {
           "color": "#000000"
          },
          "showarrow": false,
          "text": "SVM Classifier rbf",
          "x": -0.45,
          "xanchor": "left",
          "xref": "x",
          "y": 8,
          "yref": "y"
         },
         {
          "align": "left",
          "font": {
           "color": "#000000"
          },
          "showarrow": false,
          "text": "0.919",
          "x": 0.55,
          "xanchor": "left",
          "xref": "x",
          "y": 8,
          "yref": "y"
         },
         {
          "align": "left",
          "font": {
           "color": "#000000"
          },
          "showarrow": false,
          "text": "0.5446",
          "x": 1.55,
          "xanchor": "left",
          "xref": "x",
          "y": 8,
          "yref": "y"
         },
         {
          "align": "left",
          "font": {
           "color": "#000000"
          },
          "showarrow": false,
          "text": "0.873",
          "x": 2.55,
          "xanchor": "left",
          "xref": "x",
          "y": 8,
          "yref": "y"
         },
         {
          "align": "left",
          "font": {
           "color": "#000000"
          },
          "showarrow": false,
          "text": "0.6707",
          "x": 3.55,
          "xanchor": "left",
          "xref": "x",
          "y": 8,
          "yref": "y"
         },
         {
          "align": "left",
          "font": {
           "color": "#000000"
          },
          "showarrow": false,
          "text": "0.7652",
          "x": 4.55,
          "xanchor": "left",
          "xref": "x",
          "y": 8,
          "yref": "y"
         },
         {
          "align": "left",
          "font": {
           "color": "#000000"
          },
          "showarrow": false,
          "text": "0.6274",
          "x": 5.55,
          "xanchor": "left",
          "xref": "x",
          "y": 8,
          "yref": "y"
         },
         {
          "align": "left",
          "font": {
           "color": "#000000"
          },
          "showarrow": false,
          "text": "LGBM Classifier",
          "x": -0.45,
          "xanchor": "left",
          "xref": "x",
          "y": 9,
          "yref": "y"
         },
         {
          "align": "left",
          "font": {
           "color": "#000000"
          },
          "showarrow": false,
          "text": "0.919",
          "x": 0.55,
          "xanchor": "left",
          "xref": "x",
          "y": 9,
          "yref": "y"
         },
         {
          "align": "left",
          "font": {
           "color": "#000000"
          },
          "showarrow": false,
          "text": "0.6337",
          "x": 1.55,
          "xanchor": "left",
          "xref": "x",
          "y": 9,
          "yref": "y"
         },
         {
          "align": "left",
          "font": {
           "color": "#000000"
          },
          "showarrow": false,
          "text": "0.7901",
          "x": 2.55,
          "xanchor": "left",
          "xref": "x",
          "y": 9,
          "yref": "y"
         },
         {
          "align": "left",
          "font": {
           "color": "#000000"
          },
          "showarrow": false,
          "text": "0.7033",
          "x": 3.55,
          "xanchor": "left",
          "xref": "x",
          "y": 9,
          "yref": "y"
         },
         {
          "align": "left",
          "font": {
           "color": "#000000"
          },
          "showarrow": false,
          "text": "0.8018",
          "x": 4.55,
          "xanchor": "left",
          "xref": "x",
          "y": 9,
          "yref": "y"
         },
         {
          "align": "left",
          "font": {
           "color": "#000000"
          },
          "showarrow": false,
          "text": "0.6571",
          "x": 5.55,
          "xanchor": "left",
          "xref": "x",
          "y": 9,
          "yref": "y"
         },
         {
          "align": "left",
          "font": {
           "color": "#000000"
          },
          "showarrow": false,
          "text": "XGBoost Classifier",
          "x": -0.45,
          "xanchor": "left",
          "xref": "x",
          "y": 10,
          "yref": "y"
         },
         {
          "align": "left",
          "font": {
           "color": "#000000"
          },
          "showarrow": false,
          "text": "0.9295",
          "x": 0.55,
          "xanchor": "left",
          "xref": "x",
          "y": 10,
          "yref": "y"
         },
         {
          "align": "left",
          "font": {
           "color": "#000000"
          },
          "showarrow": false,
          "text": "0.6931",
          "x": 1.55,
          "xanchor": "left",
          "xref": "x",
          "y": 10,
          "yref": "y"
         },
         {
          "align": "left",
          "font": {
           "color": "#000000"
          },
          "showarrow": false,
          "text": "0.814",
          "x": 2.55,
          "xanchor": "left",
          "xref": "x",
          "y": 10,
          "yref": "y"
         },
         {
          "align": "left",
          "font": {
           "color": "#000000"
          },
          "showarrow": false,
          "text": "0.7487",
          "x": 3.55,
          "xanchor": "left",
          "xref": "x",
          "y": 10,
          "yref": "y"
         },
         {
          "align": "left",
          "font": {
           "color": "#000000"
          },
          "showarrow": false,
          "text": "0.8324",
          "x": 4.55,
          "xanchor": "left",
          "xref": "x",
          "y": 10,
          "yref": "y"
         },
         {
          "align": "left",
          "font": {
           "color": "#000000"
          },
          "showarrow": false,
          "text": "0.708",
          "x": 5.55,
          "xanchor": "left",
          "xref": "x",
          "y": 10,
          "yref": "y"
         }
        ],
        "height": 380,
        "margin": {
         "b": 0,
         "l": 0,
         "r": 0,
         "t": 0
        },
        "template": {
         "data": {
          "bar": [
           {
            "error_x": {
             "color": "#2a3f5f"
            },
            "error_y": {
             "color": "#2a3f5f"
            },
            "marker": {
             "line": {
              "color": "#E5ECF6",
              "width": 0.5
             }
            },
            "type": "bar"
           }
          ],
          "barpolar": [
           {
            "marker": {
             "line": {
              "color": "#E5ECF6",
              "width": 0.5
             }
            },
            "type": "barpolar"
           }
          ],
          "carpet": [
           {
            "aaxis": {
             "endlinecolor": "#2a3f5f",
             "gridcolor": "white",
             "linecolor": "white",
             "minorgridcolor": "white",
             "startlinecolor": "#2a3f5f"
            },
            "baxis": {
             "endlinecolor": "#2a3f5f",
             "gridcolor": "white",
             "linecolor": "white",
             "minorgridcolor": "white",
             "startlinecolor": "#2a3f5f"
            },
            "type": "carpet"
           }
          ],
          "choropleth": [
           {
            "colorbar": {
             "outlinewidth": 0,
             "ticks": ""
            },
            "type": "choropleth"
           }
          ],
          "contour": [
           {
            "colorbar": {
             "outlinewidth": 0,
             "ticks": ""
            },
            "colorscale": [
             [
              0,
              "#0d0887"
             ],
             [
              0.1111111111111111,
              "#46039f"
             ],
             [
              0.2222222222222222,
              "#7201a8"
             ],
             [
              0.3333333333333333,
              "#9c179e"
             ],
             [
              0.4444444444444444,
              "#bd3786"
             ],
             [
              0.5555555555555556,
              "#d8576b"
             ],
             [
              0.6666666666666666,
              "#ed7953"
             ],
             [
              0.7777777777777778,
              "#fb9f3a"
             ],
             [
              0.8888888888888888,
              "#fdca26"
             ],
             [
              1,
              "#f0f921"
             ]
            ],
            "type": "contour"
           }
          ],
          "contourcarpet": [
           {
            "colorbar": {
             "outlinewidth": 0,
             "ticks": ""
            },
            "type": "contourcarpet"
           }
          ],
          "heatmap": [
           {
            "colorbar": {
             "outlinewidth": 0,
             "ticks": ""
            },
            "colorscale": [
             [
              0,
              "#0d0887"
             ],
             [
              0.1111111111111111,
              "#46039f"
             ],
             [
              0.2222222222222222,
              "#7201a8"
             ],
             [
              0.3333333333333333,
              "#9c179e"
             ],
             [
              0.4444444444444444,
              "#bd3786"
             ],
             [
              0.5555555555555556,
              "#d8576b"
             ],
             [
              0.6666666666666666,
              "#ed7953"
             ],
             [
              0.7777777777777778,
              "#fb9f3a"
             ],
             [
              0.8888888888888888,
              "#fdca26"
             ],
             [
              1,
              "#f0f921"
             ]
            ],
            "type": "heatmap"
           }
          ],
          "heatmapgl": [
           {
            "colorbar": {
             "outlinewidth": 0,
             "ticks": ""
            },
            "colorscale": [
             [
              0,
              "#0d0887"
             ],
             [
              0.1111111111111111,
              "#46039f"
             ],
             [
              0.2222222222222222,
              "#7201a8"
             ],
             [
              0.3333333333333333,
              "#9c179e"
             ],
             [
              0.4444444444444444,
              "#bd3786"
             ],
             [
              0.5555555555555556,
              "#d8576b"
             ],
             [
              0.6666666666666666,
              "#ed7953"
             ],
             [
              0.7777777777777778,
              "#fb9f3a"
             ],
             [
              0.8888888888888888,
              "#fdca26"
             ],
             [
              1,
              "#f0f921"
             ]
            ],
            "type": "heatmapgl"
           }
          ],
          "histogram": [
           {
            "marker": {
             "colorbar": {
              "outlinewidth": 0,
              "ticks": ""
             }
            },
            "type": "histogram"
           }
          ],
          "histogram2d": [
           {
            "colorbar": {
             "outlinewidth": 0,
             "ticks": ""
            },
            "colorscale": [
             [
              0,
              "#0d0887"
             ],
             [
              0.1111111111111111,
              "#46039f"
             ],
             [
              0.2222222222222222,
              "#7201a8"
             ],
             [
              0.3333333333333333,
              "#9c179e"
             ],
             [
              0.4444444444444444,
              "#bd3786"
             ],
             [
              0.5555555555555556,
              "#d8576b"
             ],
             [
              0.6666666666666666,
              "#ed7953"
             ],
             [
              0.7777777777777778,
              "#fb9f3a"
             ],
             [
              0.8888888888888888,
              "#fdca26"
             ],
             [
              1,
              "#f0f921"
             ]
            ],
            "type": "histogram2d"
           }
          ],
          "histogram2dcontour": [
           {
            "colorbar": {
             "outlinewidth": 0,
             "ticks": ""
            },
            "colorscale": [
             [
              0,
              "#0d0887"
             ],
             [
              0.1111111111111111,
              "#46039f"
             ],
             [
              0.2222222222222222,
              "#7201a8"
             ],
             [
              0.3333333333333333,
              "#9c179e"
             ],
             [
              0.4444444444444444,
              "#bd3786"
             ],
             [
              0.5555555555555556,
              "#d8576b"
             ],
             [
              0.6666666666666666,
              "#ed7953"
             ],
             [
              0.7777777777777778,
              "#fb9f3a"
             ],
             [
              0.8888888888888888,
              "#fdca26"
             ],
             [
              1,
              "#f0f921"
             ]
            ],
            "type": "histogram2dcontour"
           }
          ],
          "mesh3d": [
           {
            "colorbar": {
             "outlinewidth": 0,
             "ticks": ""
            },
            "type": "mesh3d"
           }
          ],
          "parcoords": [
           {
            "line": {
             "colorbar": {
              "outlinewidth": 0,
              "ticks": ""
             }
            },
            "type": "parcoords"
           }
          ],
          "pie": [
           {
            "automargin": true,
            "type": "pie"
           }
          ],
          "scatter": [
           {
            "marker": {
             "colorbar": {
              "outlinewidth": 0,
              "ticks": ""
             }
            },
            "type": "scatter"
           }
          ],
          "scatter3d": [
           {
            "line": {
             "colorbar": {
              "outlinewidth": 0,
              "ticks": ""
             }
            },
            "marker": {
             "colorbar": {
              "outlinewidth": 0,
              "ticks": ""
             }
            },
            "type": "scatter3d"
           }
          ],
          "scattercarpet": [
           {
            "marker": {
             "colorbar": {
              "outlinewidth": 0,
              "ticks": ""
             }
            },
            "type": "scattercarpet"
           }
          ],
          "scattergeo": [
           {
            "marker": {
             "colorbar": {
              "outlinewidth": 0,
              "ticks": ""
             }
            },
            "type": "scattergeo"
           }
          ],
          "scattergl": [
           {
            "marker": {
             "colorbar": {
              "outlinewidth": 0,
              "ticks": ""
             }
            },
            "type": "scattergl"
           }
          ],
          "scattermapbox": [
           {
            "marker": {
             "colorbar": {
              "outlinewidth": 0,
              "ticks": ""
             }
            },
            "type": "scattermapbox"
           }
          ],
          "scatterpolar": [
           {
            "marker": {
             "colorbar": {
              "outlinewidth": 0,
              "ticks": ""
             }
            },
            "type": "scatterpolar"
           }
          ],
          "scatterpolargl": [
           {
            "marker": {
             "colorbar": {
              "outlinewidth": 0,
              "ticks": ""
             }
            },
            "type": "scatterpolargl"
           }
          ],
          "scatterternary": [
           {
            "marker": {
             "colorbar": {
              "outlinewidth": 0,
              "ticks": ""
             }
            },
            "type": "scatterternary"
           }
          ],
          "surface": [
           {
            "colorbar": {
             "outlinewidth": 0,
             "ticks": ""
            },
            "colorscale": [
             [
              0,
              "#0d0887"
             ],
             [
              0.1111111111111111,
              "#46039f"
             ],
             [
              0.2222222222222222,
              "#7201a8"
             ],
             [
              0.3333333333333333,
              "#9c179e"
             ],
             [
              0.4444444444444444,
              "#bd3786"
             ],
             [
              0.5555555555555556,
              "#d8576b"
             ],
             [
              0.6666666666666666,
              "#ed7953"
             ],
             [
              0.7777777777777778,
              "#fb9f3a"
             ],
             [
              0.8888888888888888,
              "#fdca26"
             ],
             [
              1,
              "#f0f921"
             ]
            ],
            "type": "surface"
           }
          ],
          "table": [
           {
            "cells": {
             "fill": {
              "color": "#EBF0F8"
             },
             "line": {
              "color": "white"
             }
            },
            "header": {
             "fill": {
              "color": "#C8D4E3"
             },
             "line": {
              "color": "white"
             }
            },
            "type": "table"
           }
          ]
         },
         "layout": {
          "annotationdefaults": {
           "arrowcolor": "#2a3f5f",
           "arrowhead": 0,
           "arrowwidth": 1
          },
          "coloraxis": {
           "colorbar": {
            "outlinewidth": 0,
            "ticks": ""
           }
          },
          "colorscale": {
           "diverging": [
            [
             0,
             "#8e0152"
            ],
            [
             0.1,
             "#c51b7d"
            ],
            [
             0.2,
             "#de77ae"
            ],
            [
             0.3,
             "#f1b6da"
            ],
            [
             0.4,
             "#fde0ef"
            ],
            [
             0.5,
             "#f7f7f7"
            ],
            [
             0.6,
             "#e6f5d0"
            ],
            [
             0.7,
             "#b8e186"
            ],
            [
             0.8,
             "#7fbc41"
            ],
            [
             0.9,
             "#4d9221"
            ],
            [
             1,
             "#276419"
            ]
           ],
           "sequential": [
            [
             0,
             "#0d0887"
            ],
            [
             0.1111111111111111,
             "#46039f"
            ],
            [
             0.2222222222222222,
             "#7201a8"
            ],
            [
             0.3333333333333333,
             "#9c179e"
            ],
            [
             0.4444444444444444,
             "#bd3786"
            ],
            [
             0.5555555555555556,
             "#d8576b"
            ],
            [
             0.6666666666666666,
             "#ed7953"
            ],
            [
             0.7777777777777778,
             "#fb9f3a"
            ],
            [
             0.8888888888888888,
             "#fdca26"
            ],
            [
             1,
             "#f0f921"
            ]
           ],
           "sequentialminus": [
            [
             0,
             "#0d0887"
            ],
            [
             0.1111111111111111,
             "#46039f"
            ],
            [
             0.2222222222222222,
             "#7201a8"
            ],
            [
             0.3333333333333333,
             "#9c179e"
            ],
            [
             0.4444444444444444,
             "#bd3786"
            ],
            [
             0.5555555555555556,
             "#d8576b"
            ],
            [
             0.6666666666666666,
             "#ed7953"
            ],
            [
             0.7777777777777778,
             "#fb9f3a"
            ],
            [
             0.8888888888888888,
             "#fdca26"
            ],
            [
             1,
             "#f0f921"
            ]
           ]
          },
          "colorway": [
           "#636efa",
           "#EF553B",
           "#00cc96",
           "#ab63fa",
           "#FFA15A",
           "#19d3f3",
           "#FF6692",
           "#B6E880",
           "#FF97FF",
           "#FECB52"
          ],
          "font": {
           "color": "#2a3f5f"
          },
          "geo": {
           "bgcolor": "white",
           "lakecolor": "white",
           "landcolor": "#E5ECF6",
           "showlakes": true,
           "showland": true,
           "subunitcolor": "white"
          },
          "hoverlabel": {
           "align": "left"
          },
          "hovermode": "closest",
          "mapbox": {
           "style": "light"
          },
          "paper_bgcolor": "white",
          "plot_bgcolor": "#E5ECF6",
          "polar": {
           "angularaxis": {
            "gridcolor": "white",
            "linecolor": "white",
            "ticks": ""
           },
           "bgcolor": "#E5ECF6",
           "radialaxis": {
            "gridcolor": "white",
            "linecolor": "white",
            "ticks": ""
           }
          },
          "scene": {
           "xaxis": {
            "backgroundcolor": "#E5ECF6",
            "gridcolor": "white",
            "gridwidth": 2,
            "linecolor": "white",
            "showbackground": true,
            "ticks": "",
            "zerolinecolor": "white"
           },
           "yaxis": {
            "backgroundcolor": "#E5ECF6",
            "gridcolor": "white",
            "gridwidth": 2,
            "linecolor": "white",
            "showbackground": true,
            "ticks": "",
            "zerolinecolor": "white"
           },
           "zaxis": {
            "backgroundcolor": "#E5ECF6",
            "gridcolor": "white",
            "gridwidth": 2,
            "linecolor": "white",
            "showbackground": true,
            "ticks": "",
            "zerolinecolor": "white"
           }
          },
          "shapedefaults": {
           "line": {
            "color": "#2a3f5f"
           }
          },
          "ternary": {
           "aaxis": {
            "gridcolor": "white",
            "linecolor": "white",
            "ticks": ""
           },
           "baxis": {
            "gridcolor": "white",
            "linecolor": "white",
            "ticks": ""
           },
           "bgcolor": "#E5ECF6",
           "caxis": {
            "gridcolor": "white",
            "linecolor": "white",
            "ticks": ""
           }
          },
          "title": {
           "x": 0.05
          },
          "xaxis": {
           "automargin": true,
           "gridcolor": "white",
           "linecolor": "white",
           "ticks": "",
           "title": {
            "standoff": 15
           },
           "zerolinecolor": "white",
           "zerolinewidth": 2
          },
          "yaxis": {
           "automargin": true,
           "gridcolor": "white",
           "linecolor": "white",
           "ticks": "",
           "title": {
            "standoff": 15
           },
           "zerolinecolor": "white",
           "zerolinewidth": 2
          }
         }
        },
        "xaxis": {
         "dtick": 1,
         "gridwidth": 2,
         "showticklabels": false,
         "tick0": -0.5,
         "ticks": "",
         "zeroline": false
        },
        "yaxis": {
         "autorange": "reversed",
         "dtick": 1,
         "gridwidth": 2,
         "showticklabels": false,
         "tick0": 0.5,
         "ticks": "",
         "zeroline": false
        }
       }
      },
      "text/html": [
       "<div>\n",
       "        \n",
       "        \n",
       "            <div id=\"1991a922-057f-48c0-aa91-d78c8e911508\" class=\"plotly-graph-div\" style=\"height:380px; width:100%;\"></div>\n",
       "            <script type=\"text/javascript\">\n",
       "                require([\"plotly\"], function(Plotly) {\n",
       "                    window.PLOTLYENV=window.PLOTLYENV || {};\n",
       "                    \n",
       "                if (document.getElementById(\"1991a922-057f-48c0-aa91-d78c8e911508\")) {\n",
       "                    Plotly.newPlot(\n",
       "                        '1991a922-057f-48c0-aa91-d78c8e911508',\n",
       "                        [{\"colorscale\": [[0, \"#00083e\"], [0.5, \"#ededee\"], [1, \"#ffffff\"]], \"hoverinfo\": \"none\", \"opacity\": 0.75, \"showscale\": false, \"type\": \"heatmap\", \"z\": [[0, 0, 0, 0, 0, 0, 0], [0.5, 0.5, 0.5, 0.5, 0.5, 0.5, 0.5], [1, 1, 1, 1, 1, 1, 1], [0.5, 0.5, 0.5, 0.5, 0.5, 0.5, 0.5], [1, 1, 1, 1, 1, 1, 1], [0.5, 0.5, 0.5, 0.5, 0.5, 0.5, 0.5], [1, 1, 1, 1, 1, 1, 1], [0.5, 0.5, 0.5, 0.5, 0.5, 0.5, 0.5], [1, 1, 1, 1, 1, 1, 1], [0.5, 0.5, 0.5, 0.5, 0.5, 0.5, 0.5], [1, 1, 1, 1, 1, 1, 1]]}],\n",
       "                        {\"annotations\": [{\"align\": \"left\", \"font\": {\"color\": \"#ffffff\"}, \"showarrow\": false, \"text\": \"<b>Model</b>\", \"x\": -0.45, \"xanchor\": \"left\", \"xref\": \"x\", \"y\": 0, \"yref\": \"y\"}, {\"align\": \"left\", \"font\": {\"color\": \"#ffffff\"}, \"showarrow\": false, \"text\": \"<b>Accuracy_score</b>\", \"x\": 0.55, \"xanchor\": \"left\", \"xref\": \"x\", \"y\": 0, \"yref\": \"y\"}, {\"align\": \"left\", \"font\": {\"color\": \"#ffffff\"}, \"showarrow\": false, \"text\": \"<b>Recall_score</b>\", \"x\": 1.55, \"xanchor\": \"left\", \"xref\": \"x\", \"y\": 0, \"yref\": \"y\"}, {\"align\": \"left\", \"font\": {\"color\": \"#ffffff\"}, \"showarrow\": false, \"text\": \"<b>Precision</b>\", \"x\": 2.55, \"xanchor\": \"left\", \"xref\": \"x\", \"y\": 0, \"yref\": \"y\"}, {\"align\": \"left\", \"font\": {\"color\": \"#ffffff\"}, \"showarrow\": false, \"text\": \"<b>f1_score</b>\", \"x\": 3.55, \"xanchor\": \"left\", \"xref\": \"x\", \"y\": 0, \"yref\": \"y\"}, {\"align\": \"left\", \"font\": {\"color\": \"#ffffff\"}, \"showarrow\": false, \"text\": \"<b>Area_under_curve</b>\", \"x\": 4.55, \"xanchor\": \"left\", \"xref\": \"x\", \"y\": 0, \"yref\": \"y\"}, {\"align\": \"left\", \"font\": {\"color\": \"#ffffff\"}, \"showarrow\": false, \"text\": \"<b>Kappa_metric</b>\", \"x\": 5.55, \"xanchor\": \"left\", \"xref\": \"x\", \"y\": 0, \"yref\": \"y\"}, {\"align\": \"left\", \"font\": {\"color\": \"#000000\"}, \"showarrow\": false, \"text\": \"Logistic Regression\", \"x\": -0.45, \"xanchor\": \"left\", \"xref\": \"x\", \"y\": 1, \"yref\": \"y\"}, {\"align\": \"left\", \"font\": {\"color\": \"#000000\"}, \"showarrow\": false, \"text\": \"0.8591\", \"x\": 0.55, \"xanchor\": \"left\", \"xref\": \"x\", \"y\": 1, \"yref\": \"y\"}, {\"align\": \"left\", \"font\": {\"color\": \"#000000\"}, \"showarrow\": false, \"text\": \"0.1881\", \"x\": 1.55, \"xanchor\": \"left\", \"xref\": \"x\", \"y\": 1, \"yref\": \"y\"}, {\"align\": \"left\", \"font\": {\"color\": \"#000000\"}, \"showarrow\": false, \"text\": \"0.6129\", \"x\": 2.55, \"xanchor\": \"left\", \"xref\": \"x\", \"y\": 1, \"yref\": \"y\"}, {\"align\": \"left\", \"font\": {\"color\": \"#000000\"}, \"showarrow\": false, \"text\": \"0.2879\", \"x\": 3.55, \"xanchor\": \"left\", \"xref\": \"x\", \"y\": 1, \"yref\": \"y\"}, {\"align\": \"left\", \"font\": {\"color\": \"#000000\"}, \"showarrow\": false, \"text\": \"0.5835\", \"x\": 4.55, \"xanchor\": \"left\", \"xref\": \"x\", \"y\": 1, \"yref\": \"y\"}, {\"align\": \"left\", \"font\": {\"color\": \"#000000\"}, \"showarrow\": false, \"text\": \"0.2334\", \"x\": 5.55, \"xanchor\": \"left\", \"xref\": \"x\", \"y\": 1, \"yref\": \"y\"}, {\"align\": \"left\", \"font\": {\"color\": \"#000000\"}, \"showarrow\": false, \"text\": \"Logistic Reg (SMOTE)\", \"x\": -0.45, \"xanchor\": \"left\", \"xref\": \"x\", \"y\": 2, \"yref\": \"y\"}, {\"align\": \"left\", \"font\": {\"color\": \"#000000\"}, \"showarrow\": false, \"text\": \"0.8501\", \"x\": 0.55, \"xanchor\": \"left\", \"xref\": \"x\", \"y\": 2, \"yref\": \"y\"}, {\"align\": \"left\", \"font\": {\"color\": \"#000000\"}, \"showarrow\": false, \"text\": \"0.2277\", \"x\": 1.55, \"xanchor\": \"left\", \"xref\": \"x\", \"y\": 2, \"yref\": \"y\"}, {\"align\": \"left\", \"font\": {\"color\": \"#000000\"}, \"showarrow\": false, \"text\": \"0.5111\", \"x\": 2.55, \"xanchor\": \"left\", \"xref\": \"x\", \"y\": 2, \"yref\": \"y\"}, {\"align\": \"left\", \"font\": {\"color\": \"#000000\"}, \"showarrow\": false, \"text\": \"0.3151\", \"x\": 3.55, \"xanchor\": \"left\", \"xref\": \"x\", \"y\": 2, \"yref\": \"y\"}, {\"align\": \"left\", \"font\": {\"color\": \"#000000\"}, \"showarrow\": false, \"text\": \"0.5944\", \"x\": 4.55, \"xanchor\": \"left\", \"xref\": \"x\", \"y\": 2, \"yref\": \"y\"}, {\"align\": \"left\", \"font\": {\"color\": \"#000000\"}, \"showarrow\": false, \"text\": \"0.2446\", \"x\": 5.55, \"xanchor\": \"left\", \"xref\": \"x\", \"y\": 2, \"yref\": \"y\"}, {\"align\": \"left\", \"font\": {\"color\": \"#000000\"}, \"showarrow\": false, \"text\": \"Naive Bayes\", \"x\": -0.45, \"xanchor\": \"left\", \"xref\": \"x\", \"y\": 3, \"yref\": \"y\"}, {\"align\": \"left\", \"font\": {\"color\": \"#000000\"}, \"showarrow\": false, \"text\": \"0.8351\", \"x\": 0.55, \"xanchor\": \"left\", \"xref\": \"x\", \"y\": 3, \"yref\": \"y\"}, {\"align\": \"left\", \"font\": {\"color\": \"#000000\"}, \"showarrow\": false, \"text\": \"0.3465\", \"x\": 1.55, \"xanchor\": \"left\", \"xref\": \"x\", \"y\": 3, \"yref\": \"y\"}, {\"align\": \"left\", \"font\": {\"color\": \"#000000\"}, \"showarrow\": false, \"text\": \"0.443\", \"x\": 2.55, \"xanchor\": \"left\", \"xref\": \"x\", \"y\": 3, \"yref\": \"y\"}, {\"align\": \"left\", \"font\": {\"color\": \"#000000\"}, \"showarrow\": false, \"text\": \"0.3889\", \"x\": 3.55, \"xanchor\": \"left\", \"xref\": \"x\", \"y\": 3, \"yref\": \"y\"}, {\"align\": \"left\", \"font\": {\"color\": \"#000000\"}, \"showarrow\": false, \"text\": \"0.6344\", \"x\": 4.55, \"xanchor\": \"left\", \"xref\": \"x\", \"y\": 3, \"yref\": \"y\"}, {\"align\": \"left\", \"font\": {\"color\": \"#000000\"}, \"showarrow\": false, \"text\": \"0.2952\", \"x\": 5.55, \"xanchor\": \"left\", \"xref\": \"x\", \"y\": 3, \"yref\": \"y\"}, {\"align\": \"left\", \"font\": {\"color\": \"#000000\"}, \"showarrow\": false, \"text\": \"Decision Tree\", \"x\": -0.45, \"xanchor\": \"left\", \"xref\": \"x\", \"y\": 4, \"yref\": \"y\"}, {\"align\": \"left\", \"font\": {\"color\": \"#000000\"}, \"showarrow\": false, \"text\": \"0.9205\", \"x\": 0.55, \"xanchor\": \"left\", \"xref\": \"x\", \"y\": 4, \"yref\": \"y\"}, {\"align\": \"left\", \"font\": {\"color\": \"#000000\"}, \"showarrow\": false, \"text\": \"0.604\", \"x\": 1.55, \"xanchor\": \"left\", \"xref\": \"x\", \"y\": 4, \"yref\": \"y\"}, {\"align\": \"left\", \"font\": {\"color\": \"#000000\"}, \"showarrow\": false, \"text\": \"0.8243\", \"x\": 2.55, \"xanchor\": \"left\", \"xref\": \"x\", \"y\": 4, \"yref\": \"y\"}, {\"align\": \"left\", \"font\": {\"color\": \"#000000\"}, \"showarrow\": false, \"text\": \"0.6971\", \"x\": 3.55, \"xanchor\": \"left\", \"xref\": \"x\", \"y\": 4, \"yref\": \"y\"}, {\"align\": \"left\", \"font\": {\"color\": \"#000000\"}, \"showarrow\": false, \"text\": \"0.7905\", \"x\": 4.55, \"xanchor\": \"left\", \"xref\": \"x\", \"y\": 4, \"yref\": \"y\"}, {\"align\": \"left\", \"font\": {\"color\": \"#000000\"}, \"showarrow\": false, \"text\": \"0.6527\", \"x\": 5.55, \"xanchor\": \"left\", \"xref\": \"x\", \"y\": 4, \"yref\": \"y\"}, {\"align\": \"left\", \"font\": {\"color\": \"#000000\"}, \"showarrow\": false, \"text\": \"KNN Classifier\", \"x\": -0.45, \"xanchor\": \"left\", \"xref\": \"x\", \"y\": 5, \"yref\": \"y\"}, {\"align\": \"left\", \"font\": {\"color\": \"#000000\"}, \"showarrow\": false, \"text\": \"0.8726\", \"x\": 0.55, \"xanchor\": \"left\", \"xref\": \"x\", \"y\": 5, \"yref\": \"y\"}, {\"align\": \"left\", \"font\": {\"color\": \"#000000\"}, \"showarrow\": false, \"text\": \"0.297\", \"x\": 1.55, \"xanchor\": \"left\", \"xref\": \"x\", \"y\": 5, \"yref\": \"y\"}, {\"align\": \"left\", \"font\": {\"color\": \"#000000\"}, \"showarrow\": false, \"text\": \"0.6818\", \"x\": 2.55, \"xanchor\": \"left\", \"xref\": \"x\", \"y\": 5, \"yref\": \"y\"}, {\"align\": \"left\", \"font\": {\"color\": \"#000000\"}, \"showarrow\": false, \"text\": \"0.4138\", \"x\": 3.55, \"xanchor\": \"left\", \"xref\": \"x\", \"y\": 5, \"yref\": \"y\"}, {\"align\": \"left\", \"font\": {\"color\": \"#000000\"}, \"showarrow\": false, \"text\": \"0.6361\", \"x\": 4.55, \"xanchor\": \"left\", \"xref\": \"x\", \"y\": 5, \"yref\": \"y\"}, {\"align\": \"left\", \"font\": {\"color\": \"#000000\"}, \"showarrow\": false, \"text\": \"0.3545\", \"x\": 5.55, \"xanchor\": \"left\", \"xref\": \"x\", \"y\": 5, \"yref\": \"y\"}, {\"align\": \"left\", \"font\": {\"color\": \"#000000\"}, \"showarrow\": false, \"text\": \"Random Forest CF\", \"x\": -0.45, \"xanchor\": \"left\", \"xref\": \"x\", \"y\": 6, \"yref\": \"y\"}, {\"align\": \"left\", \"font\": {\"color\": \"#000000\"}, \"showarrow\": false, \"text\": \"0.9325\", \"x\": 0.55, \"xanchor\": \"left\", \"xref\": \"x\", \"y\": 6, \"yref\": \"y\"}, {\"align\": \"left\", \"font\": {\"color\": \"#000000\"}, \"showarrow\": false, \"text\": \"0.6832\", \"x\": 1.55, \"xanchor\": \"left\", \"xref\": \"x\", \"y\": 6, \"yref\": \"y\"}, {\"align\": \"left\", \"font\": {\"color\": \"#000000\"}, \"showarrow\": false, \"text\": \"0.8415\", \"x\": 2.55, \"xanchor\": \"left\", \"xref\": \"x\", \"y\": 6, \"yref\": \"y\"}, {\"align\": \"left\", \"font\": {\"color\": \"#000000\"}, \"showarrow\": false, \"text\": \"0.7541\", \"x\": 3.55, \"xanchor\": \"left\", \"xref\": \"x\", \"y\": 6, \"yref\": \"y\"}, {\"align\": \"left\", \"font\": {\"color\": \"#000000\"}, \"showarrow\": false, \"text\": \"0.8301\", \"x\": 4.55, \"xanchor\": \"left\", \"xref\": \"x\", \"y\": 6, \"yref\": \"y\"}, {\"align\": \"left\", \"font\": {\"color\": \"#000000\"}, \"showarrow\": false, \"text\": \"0.7155\", \"x\": 5.55, \"xanchor\": \"left\", \"xref\": \"x\", \"y\": 6, \"yref\": \"y\"}, {\"align\": \"left\", \"font\": {\"color\": \"#000000\"}, \"showarrow\": false, \"text\": \"SVM Classifier Linear\", \"x\": -0.45, \"xanchor\": \"left\", \"xref\": \"x\", \"y\": 7, \"yref\": \"y\"}, {\"align\": \"left\", \"font\": {\"color\": \"#000000\"}, \"showarrow\": false, \"text\": \"0.8426\", \"x\": 0.55, \"xanchor\": \"left\", \"xref\": \"x\", \"y\": 7, \"yref\": \"y\"}, {\"align\": \"left\", \"font\": {\"color\": \"#000000\"}, \"showarrow\": false, \"text\": \"0.3861\", \"x\": 1.55, \"xanchor\": \"left\", \"xref\": \"x\", \"y\": 7, \"yref\": \"y\"}, {\"align\": \"left\", \"font\": {\"color\": \"#000000\"}, \"showarrow\": false, \"text\": \"0.4756\", \"x\": 2.55, \"xanchor\": \"left\", \"xref\": \"x\", \"y\": 7, \"yref\": \"y\"}, {\"align\": \"left\", \"font\": {\"color\": \"#000000\"}, \"showarrow\": false, \"text\": \"0.4262\", \"x\": 3.55, \"xanchor\": \"left\", \"xref\": \"x\", \"y\": 7, \"yref\": \"y\"}, {\"align\": \"left\", \"font\": {\"color\": \"#000000\"}, \"showarrow\": false, \"text\": \"0.6551\", \"x\": 4.55, \"xanchor\": \"left\", \"xref\": \"x\", \"y\": 7, \"yref\": \"y\"}, {\"align\": \"left\", \"font\": {\"color\": \"#000000\"}, \"showarrow\": false, \"text\": \"0.3361\", \"x\": 5.55, \"xanchor\": \"left\", \"xref\": \"x\", \"y\": 7, \"yref\": \"y\"}, {\"align\": \"left\", \"font\": {\"color\": \"#000000\"}, \"showarrow\": false, \"text\": \"SVM Classifier rbf\", \"x\": -0.45, \"xanchor\": \"left\", \"xref\": \"x\", \"y\": 8, \"yref\": \"y\"}, {\"align\": \"left\", \"font\": {\"color\": \"#000000\"}, \"showarrow\": false, \"text\": \"0.919\", \"x\": 0.55, \"xanchor\": \"left\", \"xref\": \"x\", \"y\": 8, \"yref\": \"y\"}, {\"align\": \"left\", \"font\": {\"color\": \"#000000\"}, \"showarrow\": false, \"text\": \"0.5446\", \"x\": 1.55, \"xanchor\": \"left\", \"xref\": \"x\", \"y\": 8, \"yref\": \"y\"}, {\"align\": \"left\", \"font\": {\"color\": \"#000000\"}, \"showarrow\": false, \"text\": \"0.873\", \"x\": 2.55, \"xanchor\": \"left\", \"xref\": \"x\", \"y\": 8, \"yref\": \"y\"}, {\"align\": \"left\", \"font\": {\"color\": \"#000000\"}, \"showarrow\": false, \"text\": \"0.6707\", \"x\": 3.55, \"xanchor\": \"left\", \"xref\": \"x\", \"y\": 8, \"yref\": \"y\"}, {\"align\": \"left\", \"font\": {\"color\": \"#000000\"}, \"showarrow\": false, \"text\": \"0.7652\", \"x\": 4.55, \"xanchor\": \"left\", \"xref\": \"x\", \"y\": 8, \"yref\": \"y\"}, {\"align\": \"left\", \"font\": {\"color\": \"#000000\"}, \"showarrow\": false, \"text\": \"0.6274\", \"x\": 5.55, \"xanchor\": \"left\", \"xref\": \"x\", \"y\": 8, \"yref\": \"y\"}, {\"align\": \"left\", \"font\": {\"color\": \"#000000\"}, \"showarrow\": false, \"text\": \"LGBM Classifier\", \"x\": -0.45, \"xanchor\": \"left\", \"xref\": \"x\", \"y\": 9, \"yref\": \"y\"}, {\"align\": \"left\", \"font\": {\"color\": \"#000000\"}, \"showarrow\": false, \"text\": \"0.919\", \"x\": 0.55, \"xanchor\": \"left\", \"xref\": \"x\", \"y\": 9, \"yref\": \"y\"}, {\"align\": \"left\", \"font\": {\"color\": \"#000000\"}, \"showarrow\": false, \"text\": \"0.6337\", \"x\": 1.55, \"xanchor\": \"left\", \"xref\": \"x\", \"y\": 9, \"yref\": \"y\"}, {\"align\": \"left\", \"font\": {\"color\": \"#000000\"}, \"showarrow\": false, \"text\": \"0.7901\", \"x\": 2.55, \"xanchor\": \"left\", \"xref\": \"x\", \"y\": 9, \"yref\": \"y\"}, {\"align\": \"left\", \"font\": {\"color\": \"#000000\"}, \"showarrow\": false, \"text\": \"0.7033\", \"x\": 3.55, \"xanchor\": \"left\", \"xref\": \"x\", \"y\": 9, \"yref\": \"y\"}, {\"align\": \"left\", \"font\": {\"color\": \"#000000\"}, \"showarrow\": false, \"text\": \"0.8018\", \"x\": 4.55, \"xanchor\": \"left\", \"xref\": \"x\", \"y\": 9, \"yref\": \"y\"}, {\"align\": \"left\", \"font\": {\"color\": \"#000000\"}, \"showarrow\": false, \"text\": \"0.6571\", \"x\": 5.55, \"xanchor\": \"left\", \"xref\": \"x\", \"y\": 9, \"yref\": \"y\"}, {\"align\": \"left\", \"font\": {\"color\": \"#000000\"}, \"showarrow\": false, \"text\": \"XGBoost Classifier\", \"x\": -0.45, \"xanchor\": \"left\", \"xref\": \"x\", \"y\": 10, \"yref\": \"y\"}, {\"align\": \"left\", \"font\": {\"color\": \"#000000\"}, \"showarrow\": false, \"text\": \"0.9295\", \"x\": 0.55, \"xanchor\": \"left\", \"xref\": \"x\", \"y\": 10, \"yref\": \"y\"}, {\"align\": \"left\", \"font\": {\"color\": \"#000000\"}, \"showarrow\": false, \"text\": \"0.6931\", \"x\": 1.55, \"xanchor\": \"left\", \"xref\": \"x\", \"y\": 10, \"yref\": \"y\"}, {\"align\": \"left\", \"font\": {\"color\": \"#000000\"}, \"showarrow\": false, \"text\": \"0.814\", \"x\": 2.55, \"xanchor\": \"left\", \"xref\": \"x\", \"y\": 10, \"yref\": \"y\"}, {\"align\": \"left\", \"font\": {\"color\": \"#000000\"}, \"showarrow\": false, \"text\": \"0.7487\", \"x\": 3.55, \"xanchor\": \"left\", \"xref\": \"x\", \"y\": 10, \"yref\": \"y\"}, {\"align\": \"left\", \"font\": {\"color\": \"#000000\"}, \"showarrow\": false, \"text\": \"0.8324\", \"x\": 4.55, \"xanchor\": \"left\", \"xref\": \"x\", \"y\": 10, \"yref\": \"y\"}, {\"align\": \"left\", \"font\": {\"color\": \"#000000\"}, \"showarrow\": false, \"text\": \"0.708\", \"x\": 5.55, \"xanchor\": \"left\", \"xref\": \"x\", \"y\": 10, \"yref\": \"y\"}], \"height\": 380, \"margin\": {\"b\": 0, \"l\": 0, \"r\": 0, \"t\": 0}, \"template\": {\"data\": {\"bar\": [{\"error_x\": {\"color\": \"#2a3f5f\"}, \"error_y\": {\"color\": \"#2a3f5f\"}, \"marker\": {\"line\": {\"color\": \"#E5ECF6\", \"width\": 0.5}}, \"type\": \"bar\"}], \"barpolar\": [{\"marker\": {\"line\": {\"color\": \"#E5ECF6\", \"width\": 0.5}}, \"type\": \"barpolar\"}], \"carpet\": [{\"aaxis\": {\"endlinecolor\": \"#2a3f5f\", \"gridcolor\": \"white\", \"linecolor\": \"white\", \"minorgridcolor\": \"white\", \"startlinecolor\": \"#2a3f5f\"}, \"baxis\": {\"endlinecolor\": \"#2a3f5f\", \"gridcolor\": \"white\", \"linecolor\": \"white\", \"minorgridcolor\": \"white\", \"startlinecolor\": \"#2a3f5f\"}, \"type\": \"carpet\"}], \"choropleth\": [{\"colorbar\": {\"outlinewidth\": 0, \"ticks\": \"\"}, \"type\": \"choropleth\"}], \"contour\": [{\"colorbar\": {\"outlinewidth\": 0, \"ticks\": \"\"}, \"colorscale\": [[0.0, \"#0d0887\"], [0.1111111111111111, \"#46039f\"], [0.2222222222222222, \"#7201a8\"], [0.3333333333333333, \"#9c179e\"], [0.4444444444444444, \"#bd3786\"], [0.5555555555555556, \"#d8576b\"], [0.6666666666666666, \"#ed7953\"], [0.7777777777777778, \"#fb9f3a\"], [0.8888888888888888, \"#fdca26\"], [1.0, \"#f0f921\"]], \"type\": \"contour\"}], \"contourcarpet\": [{\"colorbar\": {\"outlinewidth\": 0, \"ticks\": \"\"}, \"type\": \"contourcarpet\"}], \"heatmap\": [{\"colorbar\": {\"outlinewidth\": 0, \"ticks\": \"\"}, \"colorscale\": [[0.0, \"#0d0887\"], [0.1111111111111111, \"#46039f\"], [0.2222222222222222, \"#7201a8\"], [0.3333333333333333, \"#9c179e\"], [0.4444444444444444, \"#bd3786\"], [0.5555555555555556, \"#d8576b\"], [0.6666666666666666, \"#ed7953\"], [0.7777777777777778, \"#fb9f3a\"], [0.8888888888888888, \"#fdca26\"], [1.0, \"#f0f921\"]], \"type\": \"heatmap\"}], \"heatmapgl\": [{\"colorbar\": {\"outlinewidth\": 0, \"ticks\": \"\"}, \"colorscale\": [[0.0, \"#0d0887\"], [0.1111111111111111, \"#46039f\"], [0.2222222222222222, \"#7201a8\"], [0.3333333333333333, \"#9c179e\"], [0.4444444444444444, \"#bd3786\"], [0.5555555555555556, \"#d8576b\"], [0.6666666666666666, \"#ed7953\"], [0.7777777777777778, \"#fb9f3a\"], [0.8888888888888888, \"#fdca26\"], [1.0, \"#f0f921\"]], \"type\": \"heatmapgl\"}], \"histogram\": [{\"marker\": {\"colorbar\": {\"outlinewidth\": 0, \"ticks\": \"\"}}, \"type\": \"histogram\"}], \"histogram2d\": [{\"colorbar\": {\"outlinewidth\": 0, \"ticks\": \"\"}, \"colorscale\": [[0.0, \"#0d0887\"], [0.1111111111111111, \"#46039f\"], [0.2222222222222222, \"#7201a8\"], [0.3333333333333333, \"#9c179e\"], [0.4444444444444444, \"#bd3786\"], [0.5555555555555556, \"#d8576b\"], [0.6666666666666666, \"#ed7953\"], [0.7777777777777778, \"#fb9f3a\"], [0.8888888888888888, \"#fdca26\"], [1.0, \"#f0f921\"]], \"type\": \"histogram2d\"}], \"histogram2dcontour\": [{\"colorbar\": {\"outlinewidth\": 0, \"ticks\": \"\"}, \"colorscale\": [[0.0, \"#0d0887\"], [0.1111111111111111, \"#46039f\"], [0.2222222222222222, \"#7201a8\"], [0.3333333333333333, \"#9c179e\"], [0.4444444444444444, \"#bd3786\"], [0.5555555555555556, \"#d8576b\"], [0.6666666666666666, \"#ed7953\"], [0.7777777777777778, \"#fb9f3a\"], [0.8888888888888888, \"#fdca26\"], [1.0, \"#f0f921\"]], \"type\": \"histogram2dcontour\"}], \"mesh3d\": [{\"colorbar\": {\"outlinewidth\": 0, \"ticks\": \"\"}, \"type\": \"mesh3d\"}], \"parcoords\": [{\"line\": {\"colorbar\": {\"outlinewidth\": 0, \"ticks\": \"\"}}, \"type\": \"parcoords\"}], \"pie\": [{\"automargin\": true, \"type\": \"pie\"}], \"scatter\": [{\"marker\": {\"colorbar\": {\"outlinewidth\": 0, \"ticks\": \"\"}}, \"type\": \"scatter\"}], \"scatter3d\": [{\"line\": {\"colorbar\": {\"outlinewidth\": 0, \"ticks\": \"\"}}, \"marker\": {\"colorbar\": {\"outlinewidth\": 0, \"ticks\": \"\"}}, \"type\": \"scatter3d\"}], \"scattercarpet\": [{\"marker\": {\"colorbar\": {\"outlinewidth\": 0, \"ticks\": \"\"}}, \"type\": \"scattercarpet\"}], \"scattergeo\": [{\"marker\": {\"colorbar\": {\"outlinewidth\": 0, \"ticks\": \"\"}}, \"type\": \"scattergeo\"}], \"scattergl\": [{\"marker\": {\"colorbar\": {\"outlinewidth\": 0, \"ticks\": \"\"}}, \"type\": \"scattergl\"}], \"scattermapbox\": [{\"marker\": {\"colorbar\": {\"outlinewidth\": 0, \"ticks\": \"\"}}, \"type\": \"scattermapbox\"}], \"scatterpolar\": [{\"marker\": {\"colorbar\": {\"outlinewidth\": 0, \"ticks\": \"\"}}, \"type\": \"scatterpolar\"}], \"scatterpolargl\": [{\"marker\": {\"colorbar\": {\"outlinewidth\": 0, \"ticks\": \"\"}}, \"type\": \"scatterpolargl\"}], \"scatterternary\": [{\"marker\": {\"colorbar\": {\"outlinewidth\": 0, \"ticks\": \"\"}}, \"type\": \"scatterternary\"}], \"surface\": [{\"colorbar\": {\"outlinewidth\": 0, \"ticks\": \"\"}, \"colorscale\": [[0.0, \"#0d0887\"], [0.1111111111111111, \"#46039f\"], [0.2222222222222222, \"#7201a8\"], [0.3333333333333333, \"#9c179e\"], [0.4444444444444444, \"#bd3786\"], [0.5555555555555556, \"#d8576b\"], [0.6666666666666666, \"#ed7953\"], [0.7777777777777778, \"#fb9f3a\"], [0.8888888888888888, \"#fdca26\"], [1.0, \"#f0f921\"]], \"type\": \"surface\"}], \"table\": [{\"cells\": {\"fill\": {\"color\": \"#EBF0F8\"}, \"line\": {\"color\": \"white\"}}, \"header\": {\"fill\": {\"color\": \"#C8D4E3\"}, \"line\": {\"color\": \"white\"}}, \"type\": \"table\"}]}, \"layout\": {\"annotationdefaults\": {\"arrowcolor\": \"#2a3f5f\", \"arrowhead\": 0, \"arrowwidth\": 1}, \"coloraxis\": {\"colorbar\": {\"outlinewidth\": 0, \"ticks\": \"\"}}, \"colorscale\": {\"diverging\": [[0, \"#8e0152\"], [0.1, \"#c51b7d\"], [0.2, \"#de77ae\"], [0.3, \"#f1b6da\"], [0.4, \"#fde0ef\"], [0.5, \"#f7f7f7\"], [0.6, \"#e6f5d0\"], [0.7, \"#b8e186\"], [0.8, \"#7fbc41\"], [0.9, \"#4d9221\"], [1, \"#276419\"]], \"sequential\": [[0.0, \"#0d0887\"], [0.1111111111111111, \"#46039f\"], [0.2222222222222222, \"#7201a8\"], [0.3333333333333333, \"#9c179e\"], [0.4444444444444444, \"#bd3786\"], [0.5555555555555556, \"#d8576b\"], [0.6666666666666666, \"#ed7953\"], [0.7777777777777778, \"#fb9f3a\"], [0.8888888888888888, \"#fdca26\"], [1.0, \"#f0f921\"]], \"sequentialminus\": [[0.0, \"#0d0887\"], [0.1111111111111111, \"#46039f\"], [0.2222222222222222, \"#7201a8\"], [0.3333333333333333, \"#9c179e\"], [0.4444444444444444, \"#bd3786\"], [0.5555555555555556, \"#d8576b\"], [0.6666666666666666, \"#ed7953\"], [0.7777777777777778, \"#fb9f3a\"], [0.8888888888888888, \"#fdca26\"], [1.0, \"#f0f921\"]]}, \"colorway\": [\"#636efa\", \"#EF553B\", \"#00cc96\", \"#ab63fa\", \"#FFA15A\", \"#19d3f3\", \"#FF6692\", \"#B6E880\", \"#FF97FF\", \"#FECB52\"], \"font\": {\"color\": \"#2a3f5f\"}, \"geo\": {\"bgcolor\": \"white\", \"lakecolor\": \"white\", \"landcolor\": \"#E5ECF6\", \"showlakes\": true, \"showland\": true, \"subunitcolor\": \"white\"}, \"hoverlabel\": {\"align\": \"left\"}, \"hovermode\": \"closest\", \"mapbox\": {\"style\": \"light\"}, \"paper_bgcolor\": \"white\", \"plot_bgcolor\": \"#E5ECF6\", \"polar\": {\"angularaxis\": {\"gridcolor\": \"white\", \"linecolor\": \"white\", \"ticks\": \"\"}, \"bgcolor\": \"#E5ECF6\", \"radialaxis\": {\"gridcolor\": \"white\", \"linecolor\": \"white\", \"ticks\": \"\"}}, \"scene\": {\"xaxis\": {\"backgroundcolor\": \"#E5ECF6\", \"gridcolor\": \"white\", \"gridwidth\": 2, \"linecolor\": \"white\", \"showbackground\": true, \"ticks\": \"\", \"zerolinecolor\": \"white\"}, \"yaxis\": {\"backgroundcolor\": \"#E5ECF6\", \"gridcolor\": \"white\", \"gridwidth\": 2, \"linecolor\": \"white\", \"showbackground\": true, \"ticks\": \"\", \"zerolinecolor\": \"white\"}, \"zaxis\": {\"backgroundcolor\": \"#E5ECF6\", \"gridcolor\": \"white\", \"gridwidth\": 2, \"linecolor\": \"white\", \"showbackground\": true, \"ticks\": \"\", \"zerolinecolor\": \"white\"}}, \"shapedefaults\": {\"line\": {\"color\": \"#2a3f5f\"}}, \"ternary\": {\"aaxis\": {\"gridcolor\": \"white\", \"linecolor\": \"white\", \"ticks\": \"\"}, \"baxis\": {\"gridcolor\": \"white\", \"linecolor\": \"white\", \"ticks\": \"\"}, \"bgcolor\": \"#E5ECF6\", \"caxis\": {\"gridcolor\": \"white\", \"linecolor\": \"white\", \"ticks\": \"\"}}, \"title\": {\"x\": 0.05}, \"xaxis\": {\"automargin\": true, \"gridcolor\": \"white\", \"linecolor\": \"white\", \"ticks\": \"\", \"title\": {\"standoff\": 15}, \"zerolinecolor\": \"white\", \"zerolinewidth\": 2}, \"yaxis\": {\"automargin\": true, \"gridcolor\": \"white\", \"linecolor\": \"white\", \"ticks\": \"\", \"title\": {\"standoff\": 15}, \"zerolinecolor\": \"white\", \"zerolinewidth\": 2}}}, \"xaxis\": {\"dtick\": 1, \"gridwidth\": 2, \"showticklabels\": false, \"tick0\": -0.5, \"ticks\": \"\", \"zeroline\": false}, \"yaxis\": {\"autorange\": \"reversed\", \"dtick\": 1, \"gridwidth\": 2, \"showticklabels\": false, \"tick0\": 0.5, \"ticks\": \"\", \"zeroline\": false}},\n",
       "                        {\"responsive\": true}\n",
       "                    ).then(function(){\n",
       "                            \n",
       "var gd = document.getElementById('1991a922-057f-48c0-aa91-d78c8e911508');\n",
       "var x = new MutationObserver(function (mutations, observer) {{\n",
       "        var display = window.getComputedStyle(gd).display;\n",
       "        if (!display || display === 'none') {{\n",
       "            console.log([gd, 'removed!']);\n",
       "            Plotly.purge(gd);\n",
       "            observer.disconnect();\n",
       "        }}\n",
       "}});\n",
       "\n",
       "// Listen for the removal of the full notebook cells\n",
       "var notebookContainer = gd.closest('#notebook-container');\n",
       "if (notebookContainer) {{\n",
       "    x.observe(notebookContainer, {childList: true});\n",
       "}}\n",
       "\n",
       "// Listen for the clearing of the current output cell\n",
       "var outputEl = gd.closest('.output');\n",
       "if (outputEl) {{\n",
       "    x.observe(outputEl, {childList: true});\n",
       "}}\n",
       "\n",
       "                        })\n",
       "                };\n",
       "                });\n",
       "            </script>\n",
       "        </div>"
      ]
     },
     "metadata": {},
     "output_type": "display_data"
    }
   ],
   "source": [
    "from sklearn.metrics import f1_score\n",
    "from sklearn.metrics import cohen_kappa_score\n",
    "from sklearn.metrics import recall_score\n",
    "from sklearn.metrics import precision_score\n",
    "from sklearn.metrics import roc_auc_score\n",
    "from sklearn.model_selection import train_test_split\n",
    "\n",
    "y_logit=Churn_data_logreg['Churn']\n",
    "X_logit=Churn_data_logreg[['AccountWeeks', 'ContractRenewal', 'CustServCalls', 'DayMins',\n",
    "       'DayCalls', 'MonthlyCharge', 'OverageFee', 'RoamMins', 'Income_High', 'Income_Low']]\n",
    "\n",
    "Xl_train,Xl_test,yl_train,yl_test = train_test_split(X_logit,y_logit,test_size=0.2,random_state=42)\n",
    "\n",
    "Xl_res, yl_res = over.fit_resample(Xl_train, yl_train)\n",
    "\n",
    "y=Churn_data['Churn']\n",
    "X=Churn_data[['AccountWeeks', 'ContractRenewal', 'CustServCalls', 'DayMins',\n",
    "       'DayCalls', 'MonthlyCharge', 'OverageFee', 'RoamMins', 'Income_High', 'Income_Low','Income_Medium']]\n",
    "\n",
    "X_train,X_test,y_train,y_test = train_test_split(X,y,test_size=0.2,random_state=42)\n",
    "X_res, y_res = over.fit_resample(X_train, y_train)\n",
    "\n",
    "\n",
    "#gives model report in dataframe\n",
    "def model_report(model,training_x,testing_x,training_y,testing_y,name) :\n",
    "    model.fit(training_x,training_y)\n",
    "    predictions  = model.predict(testing_x)\n",
    "    accuracy     = accuracy_score(testing_y,predictions)\n",
    "    recallscore  = recall_score(testing_y,predictions)\n",
    "    precision    = precision_score(testing_y,predictions)\n",
    "    roc_auc      = roc_auc_score(testing_y,predictions)\n",
    "    f1score      = f1_score(testing_y,predictions) \n",
    "    kappa_metric = cohen_kappa_score(testing_y,predictions)\n",
    "    \n",
    "    df = pd.DataFrame({\"Model\"           : [name],\n",
    "                       \"Accuracy_score\"  : [accuracy],\n",
    "                       \"Recall_score\"    : [recallscore],\n",
    "                       \"Precision\"       : [precision],\n",
    "                       \"f1_score\"        : [f1score],\n",
    "                       \"Area_under_curve\": [roc_auc],\n",
    "                       \"Kappa_metric\"    : [kappa_metric],\n",
    "                      })\n",
    "    return df\n",
    "\n",
    "\n",
    "\n",
    "#outputs for every model\n",
    "model1 = model_report(logit,X_train,X_test,y_train,y_test,\n",
    "                      \"Logistic Regression\")\n",
    "model2 = model_report(logit_smote,X_res,X_test,y_res,y_test,\n",
    "                      \"Logistic Reg (SMOTE)\")\n",
    "model3 = model_report(gnb,X_train,X_test,y_train,y_test,\n",
    "                      \"Naive Bayes\")\n",
    "decision_tree = DecisionTreeClassifier(max_depth = 5,\n",
    "                                       random_state = 42,\n",
    "                                       splitter  = \"best\",\n",
    "                                       criterion = \"entropy\",\n",
    "                                      )\n",
    "model4 = model_report(decision_tree,X_train,X_test,y_train,y_test,\n",
    "                      \"Decision Tree\")\n",
    "model5 = model_report(knn,X_train,X_test,y_train,y_test,\n",
    "                      \"KNN Classifier\")\n",
    "\n",
    "weights_class = {0:1, 1:2} \n",
    "rfc = RandomForestClassifier(class_weight=weights_class,bootstrap=True,max_depth= 7,max_features=0.9,min_samples_leaf=4,min_samples_split=10,n_estimators=200, max_samples=0.7,random_state=42)\n",
    "\n",
    "model6 = model_report(rfc,X_train,X_test,y_train,y_test,\n",
    "                      \"Random Forest CF\")\n",
    "model7 = model_report(svc_lin,X_train,X_test,y_train,y_test,\n",
    "                     \"SVM Classifier Linear\")\n",
    "model8 = model_report(svc_rbf,scaler.fit_transform(X_train),scaler.fit_transform(X_test),y_train,y_test,\n",
    "                      \"SVM Classifier rbf\")\n",
    "model9 = model_report(lgbm_c,X_res,X_test,y_res,y_test,\n",
    "                      \"LGBM Classifier\")\n",
    "model10 = model_report(xgc,X_res,X_test,y_res,y_test,\n",
    "                      \"XGBoost Classifier\")\n",
    "\n",
    "#concat all models\n",
    "model_performances = pd.concat([model1,model2,model3,model4,model5,model6,model7,model8,model9,model10\n",
    "                                ],axis = 0).reset_index()\n",
    "\n",
    "model_performances = model_performances.drop(columns = \"index\",axis =1)\n",
    "\n",
    "table  = ff.create_table(np.round(model_performances,4))\n",
    "\n",
    "py.iplot(table)"
   ]
  },
  {
   "cell_type": "code",
   "execution_count": 166,
   "metadata": {},
   "outputs": [
    {
     "data": {
      "application/vnd.plotly.v1+json": {
       "config": {
        "linkText": "Export to plot.ly",
        "plotlyServerURL": "https://plot.ly",
        "showLink": false
       },
       "data": [
        {
         "marker": {
          "color": "#6699FF",
          "line": {
           "width": 0.7
          }
         },
         "name": "Accuracy_score",
         "orientation": "h",
         "type": "bar",
         "x": [
          0.8590704647676162,
          0.8500749625187406,
          0.8350824587706147,
          0.9205397301349325,
          0.8725637181409296,
          0.9325337331334332,
          0.8425787106446777,
          0.9190404797601199,
          0.9190404797601199,
          0.9295352323838081
         ],
         "y": [
          "Logistic Regression",
          "Logistic Reg (SMOTE)",
          "Naive Bayes",
          "Decision Tree",
          "KNN Classifier",
          "Random Forest CF",
          "SVM Classifier Linear",
          "SVM Classifier rbf",
          "LGBM Classifier",
          "XGBoost Classifier"
         ]
        },
        {
         "marker": {
          "color": "red",
          "line": {
           "width": 0.7
          }
         },
         "name": "Recall_score",
         "orientation": "h",
         "type": "bar",
         "x": [
          0.18811881188118812,
          0.22772277227722773,
          0.3465346534653465,
          0.6039603960396039,
          0.297029702970297,
          0.6831683168316832,
          0.38613861386138615,
          0.5445544554455446,
          0.6336633663366337,
          0.693069306930693
         ],
         "y": [
          "Logistic Regression",
          "Logistic Reg (SMOTE)",
          "Naive Bayes",
          "Decision Tree",
          "KNN Classifier",
          "Random Forest CF",
          "SVM Classifier Linear",
          "SVM Classifier rbf",
          "LGBM Classifier",
          "XGBoost Classifier"
         ]
        },
        {
         "marker": {
          "color": "#33CC99",
          "line": {
           "width": 0.7
          }
         },
         "name": "Precision",
         "orientation": "h",
         "type": "bar",
         "x": [
          0.6129032258064516,
          0.5111111111111111,
          0.4430379746835443,
          0.8243243243243243,
          0.6818181818181818,
          0.8414634146341463,
          0.47560975609756095,
          0.873015873015873,
          0.7901234567901234,
          0.813953488372093
         ],
         "y": [
          "Logistic Regression",
          "Logistic Reg (SMOTE)",
          "Naive Bayes",
          "Decision Tree",
          "KNN Classifier",
          "Random Forest CF",
          "SVM Classifier Linear",
          "SVM Classifier rbf",
          "LGBM Classifier",
          "XGBoost Classifier"
         ]
        },
        {
         "marker": {
          "color": "lightgrey",
          "line": {
           "width": 0.7
          }
         },
         "name": "f1_score",
         "orientation": "h",
         "type": "bar",
         "x": [
          0.28787878787878785,
          0.3150684931506849,
          0.38888888888888884,
          0.6971428571428572,
          0.41379310344827586,
          0.7540983606557378,
          0.4262295081967213,
          0.6707317073170732,
          0.7032967032967031,
          0.7486631016042781
         ],
         "y": [
          "Logistic Regression",
          "Logistic Reg (SMOTE)",
          "Naive Bayes",
          "Decision Tree",
          "KNN Classifier",
          "Random Forest CF",
          "SVM Classifier Linear",
          "SVM Classifier rbf",
          "LGBM Classifier",
          "XGBoost Classifier"
         ]
        },
        {
         "marker": {
          "color": "#FFCC99",
          "line": {
           "width": 0.7
          }
         },
         "name": "Kappa_metric",
         "orientation": "h",
         "type": "bar",
         "x": [
          0.23335208236531269,
          0.24455216780682276,
          0.295210466657701,
          0.6526621928333514,
          0.35446958224691716,
          0.715489539986919,
          0.3361422599694779,
          0.627382011545385,
          0.6570759387615204,
          0.7079929580744618
         ],
         "y": [
          "Logistic Regression",
          "Logistic Reg (SMOTE)",
          "Naive Bayes",
          "Decision Tree",
          "KNN Classifier",
          "Random Forest CF",
          "SVM Classifier Linear",
          "SVM Classifier rbf",
          "LGBM Classifier",
          "XGBoost Classifier"
         ]
        }
       ],
       "layout": {
        "height": 780,
        "margin": {
         "l": 250
        },
        "paper_bgcolor": "rgb(243,243,243)",
        "plot_bgcolor": "rgb(243,243,243)",
        "template": {
         "data": {
          "bar": [
           {
            "error_x": {
             "color": "#2a3f5f"
            },
            "error_y": {
             "color": "#2a3f5f"
            },
            "marker": {
             "line": {
              "color": "#E5ECF6",
              "width": 0.5
             }
            },
            "type": "bar"
           }
          ],
          "barpolar": [
           {
            "marker": {
             "line": {
              "color": "#E5ECF6",
              "width": 0.5
             }
            },
            "type": "barpolar"
           }
          ],
          "carpet": [
           {
            "aaxis": {
             "endlinecolor": "#2a3f5f",
             "gridcolor": "white",
             "linecolor": "white",
             "minorgridcolor": "white",
             "startlinecolor": "#2a3f5f"
            },
            "baxis": {
             "endlinecolor": "#2a3f5f",
             "gridcolor": "white",
             "linecolor": "white",
             "minorgridcolor": "white",
             "startlinecolor": "#2a3f5f"
            },
            "type": "carpet"
           }
          ],
          "choropleth": [
           {
            "colorbar": {
             "outlinewidth": 0,
             "ticks": ""
            },
            "type": "choropleth"
           }
          ],
          "contour": [
           {
            "colorbar": {
             "outlinewidth": 0,
             "ticks": ""
            },
            "colorscale": [
             [
              0,
              "#0d0887"
             ],
             [
              0.1111111111111111,
              "#46039f"
             ],
             [
              0.2222222222222222,
              "#7201a8"
             ],
             [
              0.3333333333333333,
              "#9c179e"
             ],
             [
              0.4444444444444444,
              "#bd3786"
             ],
             [
              0.5555555555555556,
              "#d8576b"
             ],
             [
              0.6666666666666666,
              "#ed7953"
             ],
             [
              0.7777777777777778,
              "#fb9f3a"
             ],
             [
              0.8888888888888888,
              "#fdca26"
             ],
             [
              1,
              "#f0f921"
             ]
            ],
            "type": "contour"
           }
          ],
          "contourcarpet": [
           {
            "colorbar": {
             "outlinewidth": 0,
             "ticks": ""
            },
            "type": "contourcarpet"
           }
          ],
          "heatmap": [
           {
            "colorbar": {
             "outlinewidth": 0,
             "ticks": ""
            },
            "colorscale": [
             [
              0,
              "#0d0887"
             ],
             [
              0.1111111111111111,
              "#46039f"
             ],
             [
              0.2222222222222222,
              "#7201a8"
             ],
             [
              0.3333333333333333,
              "#9c179e"
             ],
             [
              0.4444444444444444,
              "#bd3786"
             ],
             [
              0.5555555555555556,
              "#d8576b"
             ],
             [
              0.6666666666666666,
              "#ed7953"
             ],
             [
              0.7777777777777778,
              "#fb9f3a"
             ],
             [
              0.8888888888888888,
              "#fdca26"
             ],
             [
              1,
              "#f0f921"
             ]
            ],
            "type": "heatmap"
           }
          ],
          "heatmapgl": [
           {
            "colorbar": {
             "outlinewidth": 0,
             "ticks": ""
            },
            "colorscale": [
             [
              0,
              "#0d0887"
             ],
             [
              0.1111111111111111,
              "#46039f"
             ],
             [
              0.2222222222222222,
              "#7201a8"
             ],
             [
              0.3333333333333333,
              "#9c179e"
             ],
             [
              0.4444444444444444,
              "#bd3786"
             ],
             [
              0.5555555555555556,
              "#d8576b"
             ],
             [
              0.6666666666666666,
              "#ed7953"
             ],
             [
              0.7777777777777778,
              "#fb9f3a"
             ],
             [
              0.8888888888888888,
              "#fdca26"
             ],
             [
              1,
              "#f0f921"
             ]
            ],
            "type": "heatmapgl"
           }
          ],
          "histogram": [
           {
            "marker": {
             "colorbar": {
              "outlinewidth": 0,
              "ticks": ""
             }
            },
            "type": "histogram"
           }
          ],
          "histogram2d": [
           {
            "colorbar": {
             "outlinewidth": 0,
             "ticks": ""
            },
            "colorscale": [
             [
              0,
              "#0d0887"
             ],
             [
              0.1111111111111111,
              "#46039f"
             ],
             [
              0.2222222222222222,
              "#7201a8"
             ],
             [
              0.3333333333333333,
              "#9c179e"
             ],
             [
              0.4444444444444444,
              "#bd3786"
             ],
             [
              0.5555555555555556,
              "#d8576b"
             ],
             [
              0.6666666666666666,
              "#ed7953"
             ],
             [
              0.7777777777777778,
              "#fb9f3a"
             ],
             [
              0.8888888888888888,
              "#fdca26"
             ],
             [
              1,
              "#f0f921"
             ]
            ],
            "type": "histogram2d"
           }
          ],
          "histogram2dcontour": [
           {
            "colorbar": {
             "outlinewidth": 0,
             "ticks": ""
            },
            "colorscale": [
             [
              0,
              "#0d0887"
             ],
             [
              0.1111111111111111,
              "#46039f"
             ],
             [
              0.2222222222222222,
              "#7201a8"
             ],
             [
              0.3333333333333333,
              "#9c179e"
             ],
             [
              0.4444444444444444,
              "#bd3786"
             ],
             [
              0.5555555555555556,
              "#d8576b"
             ],
             [
              0.6666666666666666,
              "#ed7953"
             ],
             [
              0.7777777777777778,
              "#fb9f3a"
             ],
             [
              0.8888888888888888,
              "#fdca26"
             ],
             [
              1,
              "#f0f921"
             ]
            ],
            "type": "histogram2dcontour"
           }
          ],
          "mesh3d": [
           {
            "colorbar": {
             "outlinewidth": 0,
             "ticks": ""
            },
            "type": "mesh3d"
           }
          ],
          "parcoords": [
           {
            "line": {
             "colorbar": {
              "outlinewidth": 0,
              "ticks": ""
             }
            },
            "type": "parcoords"
           }
          ],
          "pie": [
           {
            "automargin": true,
            "type": "pie"
           }
          ],
          "scatter": [
           {
            "marker": {
             "colorbar": {
              "outlinewidth": 0,
              "ticks": ""
             }
            },
            "type": "scatter"
           }
          ],
          "scatter3d": [
           {
            "line": {
             "colorbar": {
              "outlinewidth": 0,
              "ticks": ""
             }
            },
            "marker": {
             "colorbar": {
              "outlinewidth": 0,
              "ticks": ""
             }
            },
            "type": "scatter3d"
           }
          ],
          "scattercarpet": [
           {
            "marker": {
             "colorbar": {
              "outlinewidth": 0,
              "ticks": ""
             }
            },
            "type": "scattercarpet"
           }
          ],
          "scattergeo": [
           {
            "marker": {
             "colorbar": {
              "outlinewidth": 0,
              "ticks": ""
             }
            },
            "type": "scattergeo"
           }
          ],
          "scattergl": [
           {
            "marker": {
             "colorbar": {
              "outlinewidth": 0,
              "ticks": ""
             }
            },
            "type": "scattergl"
           }
          ],
          "scattermapbox": [
           {
            "marker": {
             "colorbar": {
              "outlinewidth": 0,
              "ticks": ""
             }
            },
            "type": "scattermapbox"
           }
          ],
          "scatterpolar": [
           {
            "marker": {
             "colorbar": {
              "outlinewidth": 0,
              "ticks": ""
             }
            },
            "type": "scatterpolar"
           }
          ],
          "scatterpolargl": [
           {
            "marker": {
             "colorbar": {
              "outlinewidth": 0,
              "ticks": ""
             }
            },
            "type": "scatterpolargl"
           }
          ],
          "scatterternary": [
           {
            "marker": {
             "colorbar": {
              "outlinewidth": 0,
              "ticks": ""
             }
            },
            "type": "scatterternary"
           }
          ],
          "surface": [
           {
            "colorbar": {
             "outlinewidth": 0,
             "ticks": ""
            },
            "colorscale": [
             [
              0,
              "#0d0887"
             ],
             [
              0.1111111111111111,
              "#46039f"
             ],
             [
              0.2222222222222222,
              "#7201a8"
             ],
             [
              0.3333333333333333,
              "#9c179e"
             ],
             [
              0.4444444444444444,
              "#bd3786"
             ],
             [
              0.5555555555555556,
              "#d8576b"
             ],
             [
              0.6666666666666666,
              "#ed7953"
             ],
             [
              0.7777777777777778,
              "#fb9f3a"
             ],
             [
              0.8888888888888888,
              "#fdca26"
             ],
             [
              1,
              "#f0f921"
             ]
            ],
            "type": "surface"
           }
          ],
          "table": [
           {
            "cells": {
             "fill": {
              "color": "#EBF0F8"
             },
             "line": {
              "color": "white"
             }
            },
            "header": {
             "fill": {
              "color": "#C8D4E3"
             },
             "line": {
              "color": "white"
             }
            },
            "type": "table"
           }
          ]
         },
         "layout": {
          "annotationdefaults": {
           "arrowcolor": "#2a3f5f",
           "arrowhead": 0,
           "arrowwidth": 1
          },
          "coloraxis": {
           "colorbar": {
            "outlinewidth": 0,
            "ticks": ""
           }
          },
          "colorscale": {
           "diverging": [
            [
             0,
             "#8e0152"
            ],
            [
             0.1,
             "#c51b7d"
            ],
            [
             0.2,
             "#de77ae"
            ],
            [
             0.3,
             "#f1b6da"
            ],
            [
             0.4,
             "#fde0ef"
            ],
            [
             0.5,
             "#f7f7f7"
            ],
            [
             0.6,
             "#e6f5d0"
            ],
            [
             0.7,
             "#b8e186"
            ],
            [
             0.8,
             "#7fbc41"
            ],
            [
             0.9,
             "#4d9221"
            ],
            [
             1,
             "#276419"
            ]
           ],
           "sequential": [
            [
             0,
             "#0d0887"
            ],
            [
             0.1111111111111111,
             "#46039f"
            ],
            [
             0.2222222222222222,
             "#7201a8"
            ],
            [
             0.3333333333333333,
             "#9c179e"
            ],
            [
             0.4444444444444444,
             "#bd3786"
            ],
            [
             0.5555555555555556,
             "#d8576b"
            ],
            [
             0.6666666666666666,
             "#ed7953"
            ],
            [
             0.7777777777777778,
             "#fb9f3a"
            ],
            [
             0.8888888888888888,
             "#fdca26"
            ],
            [
             1,
             "#f0f921"
            ]
           ],
           "sequentialminus": [
            [
             0,
             "#0d0887"
            ],
            [
             0.1111111111111111,
             "#46039f"
            ],
            [
             0.2222222222222222,
             "#7201a8"
            ],
            [
             0.3333333333333333,
             "#9c179e"
            ],
            [
             0.4444444444444444,
             "#bd3786"
            ],
            [
             0.5555555555555556,
             "#d8576b"
            ],
            [
             0.6666666666666666,
             "#ed7953"
            ],
            [
             0.7777777777777778,
             "#fb9f3a"
            ],
            [
             0.8888888888888888,
             "#fdca26"
            ],
            [
             1,
             "#f0f921"
            ]
           ]
          },
          "colorway": [
           "#636efa",
           "#EF553B",
           "#00cc96",
           "#ab63fa",
           "#FFA15A",
           "#19d3f3",
           "#FF6692",
           "#B6E880",
           "#FF97FF",
           "#FECB52"
          ],
          "font": {
           "color": "#2a3f5f"
          },
          "geo": {
           "bgcolor": "white",
           "lakecolor": "white",
           "landcolor": "#E5ECF6",
           "showlakes": true,
           "showland": true,
           "subunitcolor": "white"
          },
          "hoverlabel": {
           "align": "left"
          },
          "hovermode": "closest",
          "mapbox": {
           "style": "light"
          },
          "paper_bgcolor": "white",
          "plot_bgcolor": "#E5ECF6",
          "polar": {
           "angularaxis": {
            "gridcolor": "white",
            "linecolor": "white",
            "ticks": ""
           },
           "bgcolor": "#E5ECF6",
           "radialaxis": {
            "gridcolor": "white",
            "linecolor": "white",
            "ticks": ""
           }
          },
          "scene": {
           "xaxis": {
            "backgroundcolor": "#E5ECF6",
            "gridcolor": "white",
            "gridwidth": 2,
            "linecolor": "white",
            "showbackground": true,
            "ticks": "",
            "zerolinecolor": "white"
           },
           "yaxis": {
            "backgroundcolor": "#E5ECF6",
            "gridcolor": "white",
            "gridwidth": 2,
            "linecolor": "white",
            "showbackground": true,
            "ticks": "",
            "zerolinecolor": "white"
           },
           "zaxis": {
            "backgroundcolor": "#E5ECF6",
            "gridcolor": "white",
            "gridwidth": 2,
            "linecolor": "white",
            "showbackground": true,
            "ticks": "",
            "zerolinecolor": "white"
           }
          },
          "shapedefaults": {
           "line": {
            "color": "#2a3f5f"
           }
          },
          "ternary": {
           "aaxis": {
            "gridcolor": "white",
            "linecolor": "white",
            "ticks": ""
           },
           "baxis": {
            "gridcolor": "white",
            "linecolor": "white",
            "ticks": ""
           },
           "bgcolor": "#E5ECF6",
           "caxis": {
            "gridcolor": "white",
            "linecolor": "white",
            "ticks": ""
           }
          },
          "title": {
           "x": 0.05
          },
          "xaxis": {
           "automargin": true,
           "gridcolor": "white",
           "linecolor": "white",
           "ticks": "",
           "title": {
            "standoff": 15
           },
           "zerolinecolor": "white",
           "zerolinewidth": 2
          },
          "yaxis": {
           "automargin": true,
           "gridcolor": "white",
           "linecolor": "white",
           "ticks": "",
           "title": {
            "standoff": 15
           },
           "zerolinecolor": "white",
           "zerolinewidth": 2
          }
         }
        },
        "title": {
         "text": "Model performances"
        },
        "xaxis": {
         "gridcolor": "rgb(255, 255, 255)",
         "gridwidth": 2,
         "ticklen": 5,
         "title": {
          "text": "metric"
         },
         "zerolinewidth": 1
        },
        "yaxis": {
         "gridcolor": "rgb(255, 255, 255)",
         "gridwidth": 2,
         "ticklen": 5,
         "zerolinewidth": 1
        }
       }
      },
      "text/html": [
       "<div>\n",
       "        \n",
       "        \n",
       "            <div id=\"d2fda596-1ffd-42a2-b76e-847238ad5703\" class=\"plotly-graph-div\" style=\"height:780px; width:100%;\"></div>\n",
       "            <script type=\"text/javascript\">\n",
       "                require([\"plotly\"], function(Plotly) {\n",
       "                    window.PLOTLYENV=window.PLOTLYENV || {};\n",
       "                    \n",
       "                if (document.getElementById(\"d2fda596-1ffd-42a2-b76e-847238ad5703\")) {\n",
       "                    Plotly.newPlot(\n",
       "                        'd2fda596-1ffd-42a2-b76e-847238ad5703',\n",
       "                        [{\"marker\": {\"color\": \"#6699FF\", \"line\": {\"width\": 0.7}}, \"name\": \"Accuracy_score\", \"orientation\": \"h\", \"type\": \"bar\", \"x\": [0.8590704647676162, 0.8500749625187406, 0.8350824587706147, 0.9205397301349325, 0.8725637181409296, 0.9325337331334332, 0.8425787106446777, 0.9190404797601199, 0.9190404797601199, 0.9295352323838081], \"y\": [\"Logistic Regression\", \"Logistic Reg (SMOTE)\", \"Naive Bayes\", \"Decision Tree\", \"KNN Classifier\", \"Random Forest CF\", \"SVM Classifier Linear\", \"SVM Classifier rbf\", \"LGBM Classifier\", \"XGBoost Classifier\"]}, {\"marker\": {\"color\": \"red\", \"line\": {\"width\": 0.7}}, \"name\": \"Recall_score\", \"orientation\": \"h\", \"type\": \"bar\", \"x\": [0.18811881188118812, 0.22772277227722773, 0.3465346534653465, 0.6039603960396039, 0.297029702970297, 0.6831683168316832, 0.38613861386138615, 0.5445544554455446, 0.6336633663366337, 0.693069306930693], \"y\": [\"Logistic Regression\", \"Logistic Reg (SMOTE)\", \"Naive Bayes\", \"Decision Tree\", \"KNN Classifier\", \"Random Forest CF\", \"SVM Classifier Linear\", \"SVM Classifier rbf\", \"LGBM Classifier\", \"XGBoost Classifier\"]}, {\"marker\": {\"color\": \"#33CC99\", \"line\": {\"width\": 0.7}}, \"name\": \"Precision\", \"orientation\": \"h\", \"type\": \"bar\", \"x\": [0.6129032258064516, 0.5111111111111111, 0.4430379746835443, 0.8243243243243243, 0.6818181818181818, 0.8414634146341463, 0.47560975609756095, 0.873015873015873, 0.7901234567901234, 0.813953488372093], \"y\": [\"Logistic Regression\", \"Logistic Reg (SMOTE)\", \"Naive Bayes\", \"Decision Tree\", \"KNN Classifier\", \"Random Forest CF\", \"SVM Classifier Linear\", \"SVM Classifier rbf\", \"LGBM Classifier\", \"XGBoost Classifier\"]}, {\"marker\": {\"color\": \"lightgrey\", \"line\": {\"width\": 0.7}}, \"name\": \"f1_score\", \"orientation\": \"h\", \"type\": \"bar\", \"x\": [0.28787878787878785, 0.3150684931506849, 0.38888888888888884, 0.6971428571428572, 0.41379310344827586, 0.7540983606557378, 0.4262295081967213, 0.6707317073170732, 0.7032967032967031, 0.7486631016042781], \"y\": [\"Logistic Regression\", \"Logistic Reg (SMOTE)\", \"Naive Bayes\", \"Decision Tree\", \"KNN Classifier\", \"Random Forest CF\", \"SVM Classifier Linear\", \"SVM Classifier rbf\", \"LGBM Classifier\", \"XGBoost Classifier\"]}, {\"marker\": {\"color\": \"#FFCC99\", \"line\": {\"width\": 0.7}}, \"name\": \"Kappa_metric\", \"orientation\": \"h\", \"type\": \"bar\", \"x\": [0.23335208236531269, 0.24455216780682276, 0.295210466657701, 0.6526621928333514, 0.35446958224691716, 0.715489539986919, 0.3361422599694779, 0.627382011545385, 0.6570759387615204, 0.7079929580744618], \"y\": [\"Logistic Regression\", \"Logistic Reg (SMOTE)\", \"Naive Bayes\", \"Decision Tree\", \"KNN Classifier\", \"Random Forest CF\", \"SVM Classifier Linear\", \"SVM Classifier rbf\", \"LGBM Classifier\", \"XGBoost Classifier\"]}],\n",
       "                        {\"height\": 780, \"margin\": {\"l\": 250}, \"paper_bgcolor\": \"rgb(243,243,243)\", \"plot_bgcolor\": \"rgb(243,243,243)\", \"template\": {\"data\": {\"bar\": [{\"error_x\": {\"color\": \"#2a3f5f\"}, \"error_y\": {\"color\": \"#2a3f5f\"}, \"marker\": {\"line\": {\"color\": \"#E5ECF6\", \"width\": 0.5}}, \"type\": \"bar\"}], \"barpolar\": [{\"marker\": {\"line\": {\"color\": \"#E5ECF6\", \"width\": 0.5}}, \"type\": \"barpolar\"}], \"carpet\": [{\"aaxis\": {\"endlinecolor\": \"#2a3f5f\", \"gridcolor\": \"white\", \"linecolor\": \"white\", \"minorgridcolor\": \"white\", \"startlinecolor\": \"#2a3f5f\"}, \"baxis\": {\"endlinecolor\": \"#2a3f5f\", \"gridcolor\": \"white\", \"linecolor\": \"white\", \"minorgridcolor\": \"white\", \"startlinecolor\": \"#2a3f5f\"}, \"type\": \"carpet\"}], \"choropleth\": [{\"colorbar\": {\"outlinewidth\": 0, \"ticks\": \"\"}, \"type\": \"choropleth\"}], \"contour\": [{\"colorbar\": {\"outlinewidth\": 0, \"ticks\": \"\"}, \"colorscale\": [[0.0, \"#0d0887\"], [0.1111111111111111, \"#46039f\"], [0.2222222222222222, \"#7201a8\"], [0.3333333333333333, \"#9c179e\"], [0.4444444444444444, \"#bd3786\"], [0.5555555555555556, \"#d8576b\"], [0.6666666666666666, \"#ed7953\"], [0.7777777777777778, \"#fb9f3a\"], [0.8888888888888888, \"#fdca26\"], [1.0, \"#f0f921\"]], \"type\": \"contour\"}], \"contourcarpet\": [{\"colorbar\": {\"outlinewidth\": 0, \"ticks\": \"\"}, \"type\": \"contourcarpet\"}], \"heatmap\": [{\"colorbar\": {\"outlinewidth\": 0, \"ticks\": \"\"}, \"colorscale\": [[0.0, \"#0d0887\"], [0.1111111111111111, \"#46039f\"], [0.2222222222222222, \"#7201a8\"], [0.3333333333333333, \"#9c179e\"], [0.4444444444444444, \"#bd3786\"], [0.5555555555555556, \"#d8576b\"], [0.6666666666666666, \"#ed7953\"], [0.7777777777777778, \"#fb9f3a\"], [0.8888888888888888, \"#fdca26\"], [1.0, \"#f0f921\"]], \"type\": \"heatmap\"}], \"heatmapgl\": [{\"colorbar\": {\"outlinewidth\": 0, \"ticks\": \"\"}, \"colorscale\": [[0.0, \"#0d0887\"], [0.1111111111111111, \"#46039f\"], [0.2222222222222222, \"#7201a8\"], [0.3333333333333333, \"#9c179e\"], [0.4444444444444444, \"#bd3786\"], [0.5555555555555556, \"#d8576b\"], [0.6666666666666666, \"#ed7953\"], [0.7777777777777778, \"#fb9f3a\"], [0.8888888888888888, \"#fdca26\"], [1.0, \"#f0f921\"]], \"type\": \"heatmapgl\"}], \"histogram\": [{\"marker\": {\"colorbar\": {\"outlinewidth\": 0, \"ticks\": \"\"}}, \"type\": \"histogram\"}], \"histogram2d\": [{\"colorbar\": {\"outlinewidth\": 0, \"ticks\": \"\"}, \"colorscale\": [[0.0, \"#0d0887\"], [0.1111111111111111, \"#46039f\"], [0.2222222222222222, \"#7201a8\"], [0.3333333333333333, \"#9c179e\"], [0.4444444444444444, \"#bd3786\"], [0.5555555555555556, \"#d8576b\"], [0.6666666666666666, \"#ed7953\"], [0.7777777777777778, \"#fb9f3a\"], [0.8888888888888888, \"#fdca26\"], [1.0, \"#f0f921\"]], \"type\": \"histogram2d\"}], \"histogram2dcontour\": [{\"colorbar\": {\"outlinewidth\": 0, \"ticks\": \"\"}, \"colorscale\": [[0.0, \"#0d0887\"], [0.1111111111111111, \"#46039f\"], [0.2222222222222222, \"#7201a8\"], [0.3333333333333333, \"#9c179e\"], [0.4444444444444444, \"#bd3786\"], [0.5555555555555556, \"#d8576b\"], [0.6666666666666666, \"#ed7953\"], [0.7777777777777778, \"#fb9f3a\"], [0.8888888888888888, \"#fdca26\"], [1.0, \"#f0f921\"]], \"type\": \"histogram2dcontour\"}], \"mesh3d\": [{\"colorbar\": {\"outlinewidth\": 0, \"ticks\": \"\"}, \"type\": \"mesh3d\"}], \"parcoords\": [{\"line\": {\"colorbar\": {\"outlinewidth\": 0, \"ticks\": \"\"}}, \"type\": \"parcoords\"}], \"pie\": [{\"automargin\": true, \"type\": \"pie\"}], \"scatter\": [{\"marker\": {\"colorbar\": {\"outlinewidth\": 0, \"ticks\": \"\"}}, \"type\": \"scatter\"}], \"scatter3d\": [{\"line\": {\"colorbar\": {\"outlinewidth\": 0, \"ticks\": \"\"}}, \"marker\": {\"colorbar\": {\"outlinewidth\": 0, \"ticks\": \"\"}}, \"type\": \"scatter3d\"}], \"scattercarpet\": [{\"marker\": {\"colorbar\": {\"outlinewidth\": 0, \"ticks\": \"\"}}, \"type\": \"scattercarpet\"}], \"scattergeo\": [{\"marker\": {\"colorbar\": {\"outlinewidth\": 0, \"ticks\": \"\"}}, \"type\": \"scattergeo\"}], \"scattergl\": [{\"marker\": {\"colorbar\": {\"outlinewidth\": 0, \"ticks\": \"\"}}, \"type\": \"scattergl\"}], \"scattermapbox\": [{\"marker\": {\"colorbar\": {\"outlinewidth\": 0, \"ticks\": \"\"}}, \"type\": \"scattermapbox\"}], \"scatterpolar\": [{\"marker\": {\"colorbar\": {\"outlinewidth\": 0, \"ticks\": \"\"}}, \"type\": \"scatterpolar\"}], \"scatterpolargl\": [{\"marker\": {\"colorbar\": {\"outlinewidth\": 0, \"ticks\": \"\"}}, \"type\": \"scatterpolargl\"}], \"scatterternary\": [{\"marker\": {\"colorbar\": {\"outlinewidth\": 0, \"ticks\": \"\"}}, \"type\": \"scatterternary\"}], \"surface\": [{\"colorbar\": {\"outlinewidth\": 0, \"ticks\": \"\"}, \"colorscale\": [[0.0, \"#0d0887\"], [0.1111111111111111, \"#46039f\"], [0.2222222222222222, \"#7201a8\"], [0.3333333333333333, \"#9c179e\"], [0.4444444444444444, \"#bd3786\"], [0.5555555555555556, \"#d8576b\"], [0.6666666666666666, \"#ed7953\"], [0.7777777777777778, \"#fb9f3a\"], [0.8888888888888888, \"#fdca26\"], [1.0, \"#f0f921\"]], \"type\": \"surface\"}], \"table\": [{\"cells\": {\"fill\": {\"color\": \"#EBF0F8\"}, \"line\": {\"color\": \"white\"}}, \"header\": {\"fill\": {\"color\": \"#C8D4E3\"}, \"line\": {\"color\": \"white\"}}, \"type\": \"table\"}]}, \"layout\": {\"annotationdefaults\": {\"arrowcolor\": \"#2a3f5f\", \"arrowhead\": 0, \"arrowwidth\": 1}, \"coloraxis\": {\"colorbar\": {\"outlinewidth\": 0, \"ticks\": \"\"}}, \"colorscale\": {\"diverging\": [[0, \"#8e0152\"], [0.1, \"#c51b7d\"], [0.2, \"#de77ae\"], [0.3, \"#f1b6da\"], [0.4, \"#fde0ef\"], [0.5, \"#f7f7f7\"], [0.6, \"#e6f5d0\"], [0.7, \"#b8e186\"], [0.8, \"#7fbc41\"], [0.9, \"#4d9221\"], [1, \"#276419\"]], \"sequential\": [[0.0, \"#0d0887\"], [0.1111111111111111, \"#46039f\"], [0.2222222222222222, \"#7201a8\"], [0.3333333333333333, \"#9c179e\"], [0.4444444444444444, \"#bd3786\"], [0.5555555555555556, \"#d8576b\"], [0.6666666666666666, \"#ed7953\"], [0.7777777777777778, \"#fb9f3a\"], [0.8888888888888888, \"#fdca26\"], [1.0, \"#f0f921\"]], \"sequentialminus\": [[0.0, \"#0d0887\"], [0.1111111111111111, \"#46039f\"], [0.2222222222222222, \"#7201a8\"], [0.3333333333333333, \"#9c179e\"], [0.4444444444444444, \"#bd3786\"], [0.5555555555555556, \"#d8576b\"], [0.6666666666666666, \"#ed7953\"], [0.7777777777777778, \"#fb9f3a\"], [0.8888888888888888, \"#fdca26\"], [1.0, \"#f0f921\"]]}, \"colorway\": [\"#636efa\", \"#EF553B\", \"#00cc96\", \"#ab63fa\", \"#FFA15A\", \"#19d3f3\", \"#FF6692\", \"#B6E880\", \"#FF97FF\", \"#FECB52\"], \"font\": {\"color\": \"#2a3f5f\"}, \"geo\": {\"bgcolor\": \"white\", \"lakecolor\": \"white\", \"landcolor\": \"#E5ECF6\", \"showlakes\": true, \"showland\": true, \"subunitcolor\": \"white\"}, \"hoverlabel\": {\"align\": \"left\"}, \"hovermode\": \"closest\", \"mapbox\": {\"style\": \"light\"}, \"paper_bgcolor\": \"white\", \"plot_bgcolor\": \"#E5ECF6\", \"polar\": {\"angularaxis\": {\"gridcolor\": \"white\", \"linecolor\": \"white\", \"ticks\": \"\"}, \"bgcolor\": \"#E5ECF6\", \"radialaxis\": {\"gridcolor\": \"white\", \"linecolor\": \"white\", \"ticks\": \"\"}}, \"scene\": {\"xaxis\": {\"backgroundcolor\": \"#E5ECF6\", \"gridcolor\": \"white\", \"gridwidth\": 2, \"linecolor\": \"white\", \"showbackground\": true, \"ticks\": \"\", \"zerolinecolor\": \"white\"}, \"yaxis\": {\"backgroundcolor\": \"#E5ECF6\", \"gridcolor\": \"white\", \"gridwidth\": 2, \"linecolor\": \"white\", \"showbackground\": true, \"ticks\": \"\", \"zerolinecolor\": \"white\"}, \"zaxis\": {\"backgroundcolor\": \"#E5ECF6\", \"gridcolor\": \"white\", \"gridwidth\": 2, \"linecolor\": \"white\", \"showbackground\": true, \"ticks\": \"\", \"zerolinecolor\": \"white\"}}, \"shapedefaults\": {\"line\": {\"color\": \"#2a3f5f\"}}, \"ternary\": {\"aaxis\": {\"gridcolor\": \"white\", \"linecolor\": \"white\", \"ticks\": \"\"}, \"baxis\": {\"gridcolor\": \"white\", \"linecolor\": \"white\", \"ticks\": \"\"}, \"bgcolor\": \"#E5ECF6\", \"caxis\": {\"gridcolor\": \"white\", \"linecolor\": \"white\", \"ticks\": \"\"}}, \"title\": {\"x\": 0.05}, \"xaxis\": {\"automargin\": true, \"gridcolor\": \"white\", \"linecolor\": \"white\", \"ticks\": \"\", \"title\": {\"standoff\": 15}, \"zerolinecolor\": \"white\", \"zerolinewidth\": 2}, \"yaxis\": {\"automargin\": true, \"gridcolor\": \"white\", \"linecolor\": \"white\", \"ticks\": \"\", \"title\": {\"standoff\": 15}, \"zerolinecolor\": \"white\", \"zerolinewidth\": 2}}}, \"title\": {\"text\": \"Model performances\"}, \"xaxis\": {\"gridcolor\": \"rgb(255, 255, 255)\", \"gridwidth\": 2, \"ticklen\": 5, \"title\": {\"text\": \"metric\"}, \"zerolinewidth\": 1}, \"yaxis\": {\"gridcolor\": \"rgb(255, 255, 255)\", \"gridwidth\": 2, \"ticklen\": 5, \"zerolinewidth\": 1}},\n",
       "                        {\"responsive\": true}\n",
       "                    ).then(function(){\n",
       "                            \n",
       "var gd = document.getElementById('d2fda596-1ffd-42a2-b76e-847238ad5703');\n",
       "var x = new MutationObserver(function (mutations, observer) {{\n",
       "        var display = window.getComputedStyle(gd).display;\n",
       "        if (!display || display === 'none') {{\n",
       "            console.log([gd, 'removed!']);\n",
       "            Plotly.purge(gd);\n",
       "            observer.disconnect();\n",
       "        }}\n",
       "}});\n",
       "\n",
       "// Listen for the removal of the full notebook cells\n",
       "var notebookContainer = gd.closest('#notebook-container');\n",
       "if (notebookContainer) {{\n",
       "    x.observe(notebookContainer, {childList: true});\n",
       "}}\n",
       "\n",
       "// Listen for the clearing of the current output cell\n",
       "var outputEl = gd.closest('.output');\n",
       "if (outputEl) {{\n",
       "    x.observe(outputEl, {childList: true});\n",
       "}}\n",
       "\n",
       "                        })\n",
       "                };\n",
       "                });\n",
       "            </script>\n",
       "        </div>"
      ]
     },
     "metadata": {},
     "output_type": "display_data"
    }
   ],
   "source": [
    "model_performances\n",
    "def output_tracer(metric,color) :\n",
    "    tracer = go.Bar(y = model_performances[\"Model\"] ,\n",
    "                    x = model_performances[metric],\n",
    "                    orientation = \"h\",name = metric ,\n",
    "                    marker = dict(line = dict(width =.7),\n",
    "                                  color = color)\n",
    "                   )\n",
    "    return tracer\n",
    "\n",
    "layout = go.Layout(dict(title = \"Model performances\",\n",
    "                        plot_bgcolor  = \"rgb(243,243,243)\",\n",
    "                        paper_bgcolor = \"rgb(243,243,243)\",\n",
    "                        xaxis = dict(gridcolor = 'rgb(255, 255, 255)',\n",
    "                                     title = \"metric\",\n",
    "                                     zerolinewidth=1,\n",
    "                                     ticklen=5,gridwidth=2),\n",
    "                        yaxis = dict(gridcolor = 'rgb(255, 255, 255)',\n",
    "                                     zerolinewidth=1,ticklen=5,gridwidth=2),\n",
    "                        margin = dict(l = 250),\n",
    "                        height = 780\n",
    "                       )\n",
    "                  )\n",
    "\n",
    "\n",
    "trace1  = output_tracer(\"Accuracy_score\",\"#6699FF\")\n",
    "trace2  = output_tracer('Recall_score',\"red\")\n",
    "trace3  = output_tracer('Precision',\"#33CC99\")\n",
    "trace4  = output_tracer('f1_score',\"lightgrey\")\n",
    "trace5  = output_tracer('Kappa_metric',\"#FFCC99\")\n",
    "\n",
    "data = [trace1,trace2,trace3,trace4,trace5]\n",
    "fig = go.Figure(data=data,layout=layout)\n",
    "py.iplot(fig)\n",
    "\n",
    "\n"
   ]
  },
  {
   "cell_type": "code",
   "execution_count": 167,
   "metadata": {},
   "outputs": [
    {
     "data": {
      "image/png": "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\n",
      "text/plain": [
       "<Figure size 936x1080 with 20 Axes>"
      ]
     },
     "metadata": {},
     "output_type": "display_data"
    }
   ],
   "source": [
    "lst    = [logit,logit_smote,decision_tree,knn,rfc,\n",
    "          gnb,svc_lin,svc_rbf,lgbm_c,xgc]\n",
    "\n",
    "length = len(lst)\n",
    "\n",
    "mods   = ['Logistic Regression(Baseline_model)','Logistic Regression(SMOTE)',\n",
    "          'Decision Tree','KNN Classifier','Random Forest Classifier',\"Naive Bayes\",\n",
    "          'SVM Classifier Linear','SVM Classifier RBF', 'LGBM Classifier',\n",
    "          'XGBoost Classifier']\n",
    "\n",
    "fig = plt.figure(figsize=(13,15))\n",
    "fig.set_facecolor(\"#F3F3F3\")\n",
    "for i,j,k in itertools.zip_longest(lst,range(length),mods) :\n",
    "    plt.subplot(4,3,j+1)\n",
    "    if (j==7):\n",
    "        i.fit(scaler.fit_transform(X_train), y_train)\n",
    "        predictions = i.predict(scaler.fit_transform(X_test))\n",
    "        conf_matrix = confusion_matrix(predictions,y_test)\n",
    "        \n",
    "    else:\n",
    "        predictions = i.predict(X_test)\n",
    "        conf_matrix = confusion_matrix(predictions,y_test)\n",
    "    sns.heatmap(conf_matrix,annot=True,fmt = \"d\",square = True,\n",
    "                xticklabels=[\"not churn\",\"churn\"],\n",
    "                yticklabels=[\"not churn\",\"churn\"],\n",
    "                linewidths = 2,linecolor = \"w\",cmap = \"Set2\")\n",
    "    plt.title(k,color = \"b\")\n",
    "    plt.subplots_adjust(wspace = .3,hspace = .3)"
   ]
  },
  {
   "cell_type": "code",
   "execution_count": 168,
   "metadata": {},
   "outputs": [
    {
     "data": {
      "image/png": "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\n",
      "text/plain": [
       "<Figure size 864x1152 with 10 Axes>"
      ]
     },
     "metadata": {},
     "output_type": "display_data"
    }
   ],
   "source": [
    "lst    = [logit,logit_smote,decision_tree,knn,rfc,\n",
    "          gnb,svc_lin,svc_rbf,lgbm_c,xgc]\n",
    "\n",
    "length = len(lst)\n",
    "\n",
    "mods   = ['Logistic Regression(Baseline_model)','Logistic Regression(SMOTE)',\n",
    "          'Decision Tree','KNN Classifier','Random Forest Classifier',\"Naive Bayes\",\n",
    "          'SVM Classifier Linear','SVM Classifier RBF', 'LGBM Classifier',\n",
    "          'XGBoost Classifier']\n",
    "\n",
    "plt.style.use(\"dark_background\")\n",
    "fig = plt.figure(figsize=(12,16))\n",
    "fig.set_facecolor(\"#F3F3F3\")\n",
    "for i,j,k in itertools.zip_longest(lst,range(length),mods) :\n",
    "    qx = plt.subplot(4,3,j+1)\n",
    "    \n",
    "    if(j==6):\n",
    "        \n",
    "        probabilities = i._predict_proba_lr(X_test)\n",
    "        predictions   = i.predict(X_test)\n",
    "    elif(j==7):\n",
    "        i.fit(scaler.fit_transform(X_train), y_train)\n",
    "        predictions = i.predict(scaler.fit_transform(X_test))\n",
    "        \n",
    "    else:\n",
    "        \n",
    "        probabilities = i.predict_proba(X_test)\n",
    "        predictions   = i.predict(X_test)\n",
    "    fpr,tpr,thresholds = roc_curve(y_test,probabilities[:,1])\n",
    "    plt.plot(fpr,tpr,linestyle = \"dotted\",\n",
    "             color = \"royalblue\",linewidth = 2,\n",
    "             label = \"AUC = \" + str(np.around(roc_auc_score(y_test,predictions),3)))\n",
    "    plt.plot([0,1],[0,1],linestyle = \"dashed\",\n",
    "             color = \"orangered\",linewidth = 1.5)\n",
    "    plt.fill_between(fpr,tpr,alpha = .4)\n",
    "    plt.fill_between([0,1],[0,1],color = \"k\")\n",
    "    plt.legend(loc = \"lower right\",\n",
    "               prop = {\"size\" : 12})\n",
    "    qx.set_facecolor(\"k\")\n",
    "    plt.savefig(\"ROC\")\n",
    "    plt.grid(True,alpha = .15)\n",
    "    plt.title(k,color = \"b\")\n",
    "    plt.xticks(np.arange(0,1,.3))\n",
    "    plt.yticks(np.arange(0,1,.3))"
   ]
  },
  {
   "cell_type": "code",
   "execution_count": 169,
   "metadata": {},
   "outputs": [
    {
     "data": {
      "image/png": "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\n",
      "text/plain": [
       "<Figure size 936x1224 with 10 Axes>"
      ]
     },
     "metadata": {},
     "output_type": "display_data"
    }
   ],
   "source": [
    "from sklearn.metrics import precision_recall_curve\n",
    "from sklearn.metrics import average_precision_score\n",
    "\n",
    "\n",
    "lst    = [logit,logit_smote,decision_tree,knn,rfc,\n",
    "          gnb,svc_lin,svc_rbf,lgbm_c,xgc]\n",
    "\n",
    "length = len(lst)\n",
    "\n",
    "mods   = ['Logistic Regression(Baseline_model)','Logistic Regression(SMOTE)',\n",
    "          'Decision Tree','KNN Classifier','Random Forest Classifier',\"Naive Bayes\",\n",
    "          'SVM Classifier Linear','SVM Classifier RBF', 'LGBM Classifier',\n",
    "          'XGBoost Classifier']\n",
    "\n",
    "fig = plt.figure(figsize=(13,17))\n",
    "fig.set_facecolor(\"#F3F3F3\")\n",
    "for i,j,k in itertools.zip_longest(lst,range(length),mods) :\n",
    "    \n",
    "    qx = plt.subplot(4,3,j+1)\n",
    "    if(j==6):\n",
    "        probabilities = i._predict_proba_lr(X_test)\n",
    "        predictions   = i.predict(X_test)\n",
    "    elif(j==7):\n",
    "        i.fit(scaler.fit_transform(X_train), y_train)\n",
    "        predictions = i.predict(scaler.fit_transform(X_test))\n",
    "    else:\n",
    "        probabilities = i.predict_proba(X_test)\n",
    "        predictions   = i.predict(X_test)\n",
    "    recall,precision,thresholds = precision_recall_curve(y_test,probabilities[:,1])\n",
    "    plt.plot(recall,precision,linewidth = 1.5,\n",
    "             label = (\"avg_pcn : \" + \n",
    "                      str(np.around(average_precision_score(y_test,predictions),3))))\n",
    "    plt.plot([0,1],[0,0],linestyle = \"dashed\")\n",
    "    plt.fill_between(recall,precision,alpha = .2)\n",
    "    plt.legend(loc = \"lower left\",\n",
    "               prop = {\"size\" : 10})\n",
    "    qx.set_facecolor(\"k\")\n",
    "    plt.savefig(\"precision_recall curve\")\n",
    "    plt.grid(True,alpha = .15)\n",
    "    plt.title(k,color = \"b\")\n",
    "    plt.xlabel(\"recall\",fontsize =7)\n",
    "    plt.ylabel(\"precision\",fontsize =7)\n",
    "    plt.xlim([0.25,1])\n",
    "    plt.yticks(np.arange(0,1,.3))\n",
    "    fig.show("png")
    "    "
   ]
  },
  {
   "cell_type": "code",
   "execution_count": null,
   "metadata": {},
   "outputs": [],
   "source": []
  }
 ],
 "metadata": {
  "kernelspec": {
   "display_name": "Python 3",
   "language": "python",
   "name": "python3"
  },
  "language_info": {
   "codemirror_mode": {
    "name": "ipython",
    "version": 3
   },
   "file_extension": ".py",
   "mimetype": "text/x-python",
   "name": "python",
   "nbconvert_exporter": "python",
   "pygments_lexer": "ipython3",
   "version": "3.7.6"
  }
 },
 "nbformat": 4,
 "nbformat_minor": 4
}
